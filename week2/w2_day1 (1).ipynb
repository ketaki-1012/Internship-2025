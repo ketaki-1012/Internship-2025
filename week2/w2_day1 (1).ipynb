{
 "cells": [
  {
   "cell_type": "code",
   "execution_count": 3,
   "id": "b02879c1-4efb-4b76-8c7b-adc225f20634",
   "metadata": {},
   "outputs": [],
   "source": [
    "l = [32, 34, 56, 64]"
   ]
  },
  {
   "cell_type": "code",
   "execution_count": 4,
   "id": "bc673236-4121-4d6d-9352-2b5fe5d9bd9f",
   "metadata": {},
   "outputs": [
    {
     "name": "stdout",
     "output_type": "stream",
     "text": [
      "[32, 34, 56, 64]\n"
     ]
    }
   ],
   "source": [
    "print(l)"
   ]
  },
  {
   "cell_type": "code",
   "execution_count": 5,
   "id": "b46d996e-9266-4d99-954a-ddb7449b791f",
   "metadata": {},
   "outputs": [
    {
     "data": {
      "text/plain": [
       "list"
      ]
     },
     "execution_count": 5,
     "metadata": {},
     "output_type": "execute_result"
    }
   ],
   "source": [
    "type(l)"
   ]
  },
  {
   "cell_type": "code",
   "execution_count": 6,
   "id": "1bdbc699-df78-4032-8325-18abab47eed3",
   "metadata": {},
   "outputs": [],
   "source": [
    "l = [23, 45, 77, True, \"pune\",23]"
   ]
  },
  {
   "cell_type": "code",
   "execution_count": 7,
   "id": "3b9ef0bd-1732-4667-b1ba-ec94dbf25cc7",
   "metadata": {},
   "outputs": [
    {
     "data": {
      "text/plain": [
       "[23, 45, 77, True, 'pune', 23]"
      ]
     },
     "execution_count": 7,
     "metadata": {},
     "output_type": "execute_result"
    }
   ],
   "source": [
    "l"
   ]
  },
  {
   "cell_type": "code",
   "execution_count": 8,
   "id": "18e4ebfa-013b-49a1-8b1f-d0e2390fc205",
   "metadata": {},
   "outputs": [
    {
     "data": {
      "text/plain": [
       "'pune'"
      ]
     },
     "execution_count": 8,
     "metadata": {},
     "output_type": "execute_result"
    }
   ],
   "source": [
    "l[4]"
   ]
  },
  {
   "cell_type": "code",
   "execution_count": 9,
   "id": "5aa3646f-ee03-425d-96d7-bbca5695aea3",
   "metadata": {},
   "outputs": [],
   "source": [
    "l[1]=22\n"
   ]
  },
  {
   "cell_type": "code",
   "execution_count": 10,
   "id": "9df92afc-d4da-4866-a62f-c6f591fd951d",
   "metadata": {},
   "outputs": [
    {
     "data": {
      "text/plain": [
       "[23, 22, 77, True, 'pune', 23]"
      ]
     },
     "execution_count": 10,
     "metadata": {},
     "output_type": "execute_result"
    }
   ],
   "source": [
    "l"
   ]
  },
  {
   "cell_type": "code",
   "execution_count": 11,
   "id": "cdc9e24a-a529-4935-ad6b-f969ad75ce4f",
   "metadata": {},
   "outputs": [],
   "source": [
    "#list slicing\n",
    "l1 = [12, 23, 34 ,42 ,40 ,12 ,67]"
   ]
  },
  {
   "cell_type": "code",
   "execution_count": 12,
   "id": "81d7e40d-3b0c-414e-9d60-3da963df3a41",
   "metadata": {
    "jp-MarkdownHeadingCollapsed": true
   },
   "outputs": [
    {
     "data": {
      "text/plain": [
       "[42, 40, 12, 67]"
      ]
     },
     "execution_count": 12,
     "metadata": {},
     "output_type": "execute_result"
    }
   ],
   "source": [
    "l1[3:]"
   ]
  },
  {
   "cell_type": "code",
   "execution_count": 13,
   "id": "6d1e3169-6bbd-44e6-8f03-8eeb56778069",
   "metadata": {},
   "outputs": [
    {
     "data": {
      "text/plain": [
       "[12, 23, 34, 42, 40, 12, 67]"
      ]
     },
     "execution_count": 13,
     "metadata": {},
     "output_type": "execute_result"
    }
   ],
   "source": [
    "l1[ : ]"
   ]
  },
  {
   "cell_type": "code",
   "execution_count": 14,
   "id": "fb716711-0e65-4df7-a9d1-a1d755f7325c",
   "metadata": {},
   "outputs": [
    {
     "data": {
      "text/plain": [
       "[12, 34, 40, 67]"
      ]
     },
     "execution_count": 14,
     "metadata": {},
     "output_type": "execute_result"
    }
   ],
   "source": [
    "l1[ : : 2]"
   ]
  },
  {
   "cell_type": "code",
   "execution_count": 15,
   "id": "47de4e4b-c4d1-4681-85f3-36a579fb27b3",
   "metadata": {},
   "outputs": [
    {
     "data": {
      "text/plain": [
       "[67, 12, 40, 42, 34, 23, 12]"
      ]
     },
     "execution_count": 15,
     "metadata": {},
     "output_type": "execute_result"
    }
   ],
   "source": [
    "l1[ : : -1]"
   ]
  },
  {
   "cell_type": "code",
   "execution_count": 16,
   "id": "c7898a84-9bf9-4c5a-85d7-36f3c81e07f7",
   "metadata": {},
   "outputs": [],
   "source": [
    "l1[1: 4] = [20,56, 89]"
   ]
  },
  {
   "cell_type": "code",
   "execution_count": 17,
   "id": "1a021f0c-58ee-42ed-a70e-cb68ca16a390",
   "metadata": {},
   "outputs": [
    {
     "data": {
      "text/plain": [
       "[12, 20, 56, 89, 40, 12, 67]"
      ]
     },
     "execution_count": 17,
     "metadata": {},
     "output_type": "execute_result"
    }
   ],
   "source": [
    "l1"
   ]
  },
  {
   "cell_type": "code",
   "execution_count": 18,
   "id": "3068b845-0a32-4e6d-be9a-9756c05265c7",
   "metadata": {},
   "outputs": [],
   "source": [
    "del l1[2]"
   ]
  },
  {
   "cell_type": "code",
   "execution_count": 19,
   "id": "fee6f989-dd7c-4ecf-95d0-8e2e84de51df",
   "metadata": {},
   "outputs": [
    {
     "data": {
      "text/plain": [
       "[23, 22, 77, True, 'pune', 23]"
      ]
     },
     "execution_count": 19,
     "metadata": {},
     "output_type": "execute_result"
    }
   ],
   "source": [
    "l"
   ]
  },
  {
   "cell_type": "code",
   "execution_count": 20,
   "id": "422edffd-7374-4b60-b8ac-45a2db3df837",
   "metadata": {},
   "outputs": [],
   "source": [
    "n = [12, 45 ,54]"
   ]
  },
  {
   "cell_type": "code",
   "execution_count": 21,
   "id": "e625c47b-9b42-4787-a927-8c9bfa417201",
   "metadata": {},
   "outputs": [],
   "source": [
    "del n"
   ]
  },
  {
   "cell_type": "code",
   "execution_count": null,
   "id": "86138fe3-3ee7-4e2f-8a47-4437439b1c87",
   "metadata": {},
   "outputs": [],
   "source": [
    "new1 = [i * i for i in l1]\n",
    "new1"
   ]
  },
  {
   "cell_type": "code",
   "execution_count": null,
   "id": "7d202f8a-9c2a-4288-bd3d-fae40c3fd215",
   "metadata": {},
   "outputs": [],
   "source": [
    "type(new1)"
   ]
  },
  {
   "cell_type": "code",
   "execution_count": null,
   "id": "056b0e7d-6367-4acd-9ce5-246b6da9cb4a",
   "metadata": {},
   "outputs": [],
   "source": [
    "#create list having half of values\n",
    "n = [i/2 for i in l1]"
   ]
  },
  {
   "cell_type": "code",
   "execution_count": null,
   "id": "df0373ac-1509-4475-ac88-c24ac1ca9d25",
   "metadata": {},
   "outputs": [],
   "source": [
    "n"
   ]
  },
  {
   "cell_type": "code",
   "execution_count": null,
   "id": "c0c761df-2ccb-47ba-9509-abf5f3e61bed",
   "metadata": {},
   "outputs": [],
   "source": [
    "#filter"
   ]
  },
  {
   "cell_type": "code",
   "execution_count": null,
   "id": "cbfaf260-543c-46b4-8cd7-67f9f5a805c5",
   "metadata": {},
   "outputs": [],
   "source": [
    "n1 = [i for i in l1 if i % 2 != 0]"
   ]
  },
  {
   "cell_type": "code",
   "execution_count": null,
   "id": "4c554536-4b56-40e9-9f3b-016288fdf891",
   "metadata": {},
   "outputs": [],
   "source": [
    "n1"
   ]
  },
  {
   "cell_type": "code",
   "execution_count": null,
   "id": "2baf3033-2885-4463-b67b-7cfda8c4702d",
   "metadata": {},
   "outputs": [],
   "source": [
    "names = ['tanushree' , 'palak', 'kalyani', 'shravani', 'dhanashree','pooja','vaishnavi','siddhi']"
   ]
  },
  {
   "cell_type": "code",
   "execution_count": null,
   "id": "07d97f10-5204-49c9-ad63-c69b0d0ee8be",
   "metadata": {},
   "outputs": [],
   "source": [
    "names[:]"
   ]
  },
  {
   "cell_type": "code",
   "execution_count": null,
   "id": "1a2bcc28-a28e-4137-82b0-c63b6061212a",
   "metadata": {},
   "outputs": [],
   "source": [
    "names = ['tanushree', 'palak', 'kalyani', 'shravani', 'dhanashree', 'pooja', 'vaishnavi', 'siddhi']\n",
    "\n",
    "p_names = [name for name in names if name.startswith(\"p\")]\n",
    "print(p_names)\n"
   ]
  },
  {
   "cell_type": "code",
   "execution_count": null,
   "id": "127ae30e-923c-4953-a4ed-d131fe06c14e",
   "metadata": {},
   "outputs": [],
   "source": [
    "#empty list\n",
    "e=[]"
   ]
  },
  {
   "cell_type": "code",
   "execution_count": null,
   "id": "b4169362-fb89-45e4-a8a8-b2344930e4fb",
   "metadata": {},
   "outputs": [],
   "source": [
    "e"
   ]
  },
  {
   "cell_type": "code",
   "execution_count": null,
   "id": "9050d8cb-db31-46f4-88b3-6073fb246f2c",
   "metadata": {},
   "outputs": [],
   "source": [
    "e[0]"
   ]
  },
  {
   "cell_type": "code",
   "execution_count": null,
   "id": "f9186a4c-cebb-45e5-8c90-a752eacbe640",
   "metadata": {},
   "outputs": [],
   "source": [
    "#list decoposition "
   ]
  },
  {
   "cell_type": "code",
   "execution_count": null,
   "id": "9a915063-8ca1-461e-bdcb-1ddbde46ff74",
   "metadata": {},
   "outputs": [],
   "source": [
    "l = [12, 13 ,45]"
   ]
  },
  {
   "cell_type": "code",
   "execution_count": null,
   "id": "c74a6dc7-a665-4a5e-add5-2182c282e09b",
   "metadata": {},
   "outputs": [],
   "source": [
    "x, y ,z = l"
   ]
  },
  {
   "cell_type": "code",
   "execution_count": null,
   "id": "f68c5a61-936f-461f-bd29-af62e724fff0",
   "metadata": {},
   "outputs": [],
   "source": [
    "x"
   ]
  },
  {
   "cell_type": "code",
   "execution_count": null,
   "id": "2ed360b7-318f-4e45-8067-98fe48103a2e",
   "metadata": {},
   "outputs": [],
   "source": [
    "y"
   ]
  },
  {
   "cell_type": "code",
   "execution_count": null,
   "id": "6e760af4-6e04-40dc-9dc5-f9da4c5e3ee5",
   "metadata": {},
   "outputs": [],
   "source": [
    "z"
   ]
  },
  {
   "cell_type": "code",
   "execution_count": null,
   "id": "36556056-a117-4724-9a4c-f782a5f385b2",
   "metadata": {},
   "outputs": [],
   "source": [
    "#functions on list"
   ]
  },
  {
   "cell_type": "code",
   "execution_count": null,
   "id": "88e19e51-f34d-4108-a97c-cbe845784dd1",
   "metadata": {},
   "outputs": [],
   "source": [
    "len(l1)"
   ]
  },
  {
   "cell_type": "code",
   "execution_count": null,
   "id": "25f204ba-1a4b-4af3-ae54-4eed28f38b4f",
   "metadata": {},
   "outputs": [],
   "source": [
    "sum(l1)"
   ]
  },
  {
   "cell_type": "code",
   "execution_count": null,
   "id": "754065b7-4d94-4f4a-acc7-d76e44a0f74c",
   "metadata": {},
   "outputs": [],
   "source": [
    "sorted(l1)"
   ]
  },
  {
   "cell_type": "code",
   "execution_count": null,
   "id": "e8942afa-acbd-4d69-8022-220882d9826a",
   "metadata": {},
   "outputs": [],
   "source": [
    "sorted(l1, reverse=True)"
   ]
  },
  {
   "cell_type": "code",
   "execution_count": null,
   "id": "ad85c74e-6929-4d7b-a245-3de753dbcae4",
   "metadata": {},
   "outputs": [],
   "source": [
    "name = \"Pune\""
   ]
  },
  {
   "cell_type": "code",
   "execution_count": null,
   "id": "f6ebd175-6898-4e53-a0da-53caf840a073",
   "metadata": {},
   "outputs": [],
   "source": [
    "list(name)"
   ]
  },
  {
   "cell_type": "code",
   "execution_count": null,
   "id": "e81aa6a9-2f89-42f1-a28a-f773a488988b",
   "metadata": {},
   "outputs": [],
   "source": [
    "#methods "
   ]
  },
  {
   "cell_type": "code",
   "execution_count": null,
   "id": "e5a7904a-806c-4f80-a7dc-b753f0d48611",
   "metadata": {},
   "outputs": [],
   "source": [
    "#adding an element at the end"
   ]
  },
  {
   "cell_type": "code",
   "execution_count": null,
   "id": "5b2803c6-ec8d-4c80-b525-5726a7bd8ea1",
   "metadata": {},
   "outputs": [],
   "source": [
    "l1"
   ]
  },
  {
   "cell_type": "code",
   "execution_count": null,
   "id": "7e3e5ab6-96ed-4c0b-9e5a-20846e732ca3",
   "metadata": {},
   "outputs": [],
   "source": [
    "l1.append(100)"
   ]
  },
  {
   "cell_type": "code",
   "execution_count": null,
   "id": "936a1d4e-998c-4a06-973d-006350d6f90b",
   "metadata": {},
   "outputs": [],
   "source": [
    "l1"
   ]
  },
  {
   "cell_type": "code",
   "execution_count": null,
   "id": "bb08e0af-1a1f-482a-bb5a-d23eb46cfed4",
   "metadata": {},
   "outputs": [],
   "source": [
    "#extend and append"
   ]
  },
  {
   "cell_type": "code",
   "execution_count": null,
   "id": "a1597bf6-f795-43b9-aa66-108d63d79ef2",
   "metadata": {},
   "outputs": [],
   "source": [
    "n1 = [12, 13, 14 ]\n",
    "n2 = [12, 13, 14 ]"
   ]
  },
  {
   "cell_type": "code",
   "execution_count": null,
   "id": "b47d7bf1-2ec7-4dd8-ade7-1a923b7595d2",
   "metadata": {},
   "outputs": [],
   "source": [
    "n1.append([100,200])\n",
    "n2.extend([100,200])"
   ]
  },
  {
   "cell_type": "code",
   "execution_count": null,
   "id": "e71e86bc-c034-4abe-a86e-be986471b827",
   "metadata": {},
   "outputs": [],
   "source": [
    "n1\n",
    "n2"
   ]
  },
  {
   "cell_type": "code",
   "execution_count": null,
   "id": "bd800bb5-0eb4-4e72-befb-b763e4d61163",
   "metadata": {},
   "outputs": [],
   "source": [
    "print(n1)\n",
    "print(n2)"
   ]
  },
  {
   "cell_type": "code",
   "execution_count": null,
   "id": "8cb61885-f595-4ed7-bb19-e67c9b270237",
   "metadata": {},
   "outputs": [],
   "source": [
    "n1[3]"
   ]
  },
  {
   "cell_type": "code",
   "execution_count": null,
   "id": "fefdda8f-6159-4db7-9250-14a3bf8ca33c",
   "metadata": {},
   "outputs": [],
   "source": [
    "n1[3][0]"
   ]
  },
  {
   "cell_type": "code",
   "execution_count": null,
   "id": "6bc65c57-71b1-467f-9f80-cd73b64984a7",
   "metadata": {},
   "outputs": [],
   "source": [
    "l1.insert(1,1000)"
   ]
  },
  {
   "cell_type": "code",
   "execution_count": null,
   "id": "295606d7-3de8-4155-9fac-2d406b76cb0a",
   "metadata": {},
   "outputs": [],
   "source": [
    "l1"
   ]
  },
  {
   "cell_type": "code",
   "execution_count": null,
   "id": "428a061a-1158-4f72-8957-d8a53505c43e",
   "metadata": {},
   "outputs": [],
   "source": [
    "l1.remove(1000)"
   ]
  },
  {
   "cell_type": "code",
   "execution_count": null,
   "id": "49ac9688-acfc-4806-86b8-d3c499fa5d5b",
   "metadata": {},
   "outputs": [],
   "source": [
    "l1"
   ]
  },
  {
   "cell_type": "code",
   "execution_count": null,
   "id": "fce1553d-0c6f-4600-8b4f-b705898e38ac",
   "metadata": {},
   "outputs": [],
   "source": [
    "l1.pop()"
   ]
  },
  {
   "cell_type": "code",
   "execution_count": null,
   "id": "9a4d10d8-0ecf-4e92-ba94-7a9405bd37d5",
   "metadata": {},
   "outputs": [],
   "source": [
    "l1"
   ]
  },
  {
   "cell_type": "code",
   "execution_count": null,
   "id": "223e9673-1347-4dae-9197-3ae172c8140b",
   "metadata": {},
   "outputs": [],
   "source": [
    "l1.index(40)"
   ]
  },
  {
   "cell_type": "code",
   "execution_count": null,
   "id": "11f2250e-2e07-4f44-b11e-f8b56ebc3040",
   "metadata": {},
   "outputs": [],
   "source": [
    "l1.count(12)"
   ]
  },
  {
   "cell_type": "code",
   "execution_count": null,
   "id": "91e08c4f-df58-4ad6-8b04-22ce6539f87a",
   "metadata": {},
   "outputs": [],
   "source": [
    "#copying/cloning a list\n",
    "n1"
   ]
  },
  {
   "cell_type": "code",
   "execution_count": null,
   "id": "e592c4b7-7441-4da9-a622-2f5af6ea447f",
   "metadata": {},
   "outputs": [],
   "source": [
    "c1 = n1"
   ]
  },
  {
   "cell_type": "code",
   "execution_count": null,
   "id": "9d6c6f21-a240-46f9-9280-d30319e4817b",
   "metadata": {},
   "outputs": [],
   "source": [
    "c1"
   ]
  },
  {
   "cell_type": "code",
   "execution_count": null,
   "id": "8064bc2e-fe6a-4cfc-b1f5-9f1ca0d9e552",
   "metadata": {},
   "outputs": [],
   "source": [
    "n1.append(1000)"
   ]
  },
  {
   "cell_type": "code",
   "execution_count": null,
   "id": "2bacc0a8-75e1-47cb-a261-87e0db80c376",
   "metadata": {},
   "outputs": [],
   "source": [
    "n1"
   ]
  },
  {
   "cell_type": "code",
   "execution_count": null,
   "id": "13a42480-031a-49f2-bb4f-4e31612f0dd8",
   "metadata": {},
   "outputs": [],
   "source": [
    "c1"
   ]
  },
  {
   "cell_type": "code",
   "execution_count": null,
   "id": "ee695e17-2379-4411-b8bd-f2c1e256b2eb",
   "metadata": {},
   "outputs": [],
   "source": [
    "c1 = n1.copy()"
   ]
  },
  {
   "cell_type": "code",
   "execution_count": null,
   "id": "5fee249e-e9b4-46bb-94c8-54a90b6c61ef",
   "metadata": {},
   "outputs": [],
   "source": [
    "n1"
   ]
  },
  {
   "cell_type": "code",
   "execution_count": null,
   "id": "55a3117d-db28-4804-9124-26a58503a18b",
   "metadata": {},
   "outputs": [],
   "source": [
    "n1.append(1000)"
   ]
  },
  {
   "cell_type": "code",
   "execution_count": null,
   "id": "af5e350f-d09c-48c6-a7f2-2797a3f1ecd2",
   "metadata": {},
   "outputs": [],
   "source": [
    "n1"
   ]
  },
  {
   "cell_type": "code",
   "execution_count": null,
   "id": "64ea7909-7e0c-4c13-a4f6-95df0c1c80d5",
   "metadata": {},
   "outputs": [],
   "source": [
    "c1"
   ]
  },
  {
   "cell_type": "code",
   "execution_count": null,
   "id": "d2521b90-a877-4ca8-9ee3-cb7ddad502e0",
   "metadata": {},
   "outputs": [],
   "source": [
    "n1"
   ]
  },
  {
   "cell_type": "code",
   "execution_count": null,
   "id": "7096a587-f0af-457c-a7f9-cd283200409f",
   "metadata": {},
   "outputs": [],
   "source": [
    "n1[3][0] = 212124"
   ]
  },
  {
   "cell_type": "code",
   "execution_count": null,
   "id": "c299a65e-924c-4292-89af-06af7cfb7a7c",
   "metadata": {},
   "outputs": [],
   "source": [
    "c1"
   ]
  },
  {
   "cell_type": "code",
   "execution_count": null,
   "id": "48c9e678-9673-47e2-960f-2bfd8a5b3540",
   "metadata": {},
   "outputs": [],
   "source": [
    "l = [12, 34, 45, 67, 45, 90, 11]"
   ]
  },
  {
   "cell_type": "code",
   "execution_count": null,
   "id": "c8e753fc-c3ec-49ab-a684-68cdb2bd7c37",
   "metadata": {},
   "outputs": [],
   "source": [
    "#iterate over the list and print->index->value \n",
    "l = [12, 34, 45, 67, 45, 90, 11,12]\n",
    "\n",
    "index = 0\n",
    "for i in l:\n",
    "    print(f\"{index} -> {i}\")\n",
    "    index =index + 1\n"
   ]
  },
  {
   "cell_type": "code",
   "execution_count": null,
   "id": "cc131f6e-e291-4dd1-9d39-a0a9423ba68c",
   "metadata": {},
   "outputs": [],
   "source": [
    "for ind, val in enumerate(l):\n",
    "    print(f\"{ind}-> {val}\")"
   ]
  },
  {
   "cell_type": "code",
   "execution_count": null,
   "id": "a7e1f0d9-8ab8-43f8-9d6d-c03dea9e5191",
   "metadata": {},
   "outputs": [],
   "source": [
    "help(list)"
   ]
  },
  {
   "cell_type": "code",
   "execution_count": null,
   "id": "30376f6d-f727-453b-8510-0313093d675b",
   "metadata": {},
   "outputs": [],
   "source": [
    "#question 1 : list manipulation basics\n",
    "my_list = [10, 20, 30, 40, 50, 60]\n",
    "\n",
    "my_list[2]=35\n",
    "my_list.append(70)\n",
    "my_list.insert(0,5)\n",
    "my_list.remove(40)\n",
    "print(\"final list\",my_list)"
   ]
  },
  {
   "cell_type": "code",
   "execution_count": null,
   "id": "6f4d85b1-9a4d-4505-9005-84fd9ab0c911",
   "metadata": {},
   "outputs": [],
   "source": [
    "#question2: sum of even numbers\n",
    "numbers = [12, 7, 23, 48, 15, 66, 9]\n",
    "sum_even = 0\n",
    "for i in numbers:\n",
    "    if i % 2 == 0:\n",
    "        sum_even = sum_even + i \n",
    "\n",
    "print(\"Sum of even numbers in the list: \",sum_even)\n"
   ]
  },
  {
   "cell_type": "code",
   "execution_count": null,
   "id": "7677b317-2d16-4e9d-9149-c1181689383e",
   "metadata": {},
   "outputs": [],
   "source": [
    "#question 4 : finding the maximum element\n",
    "l = [8, 2, 10, 5, 17, 3, 14]\n",
    "for i in l:\n",
    "    if l "
   ]
  },
  {
   "cell_type": "code",
   "execution_count": null,
   "id": "4b8c9915-11c3-415d-a1ee-641bb57b878f",
   "metadata": {},
   "outputs": [],
   "source": []
  }
 ],
 "metadata": {
  "kernelspec": {
   "display_name": "Python [conda env:base] *",
   "language": "python",
   "name": "conda-base-py"
  },
  "language_info": {
   "codemirror_mode": {
    "name": "ipython",
    "version": 3
   },
   "file_extension": ".py",
   "mimetype": "text/x-python",
   "name": "python",
   "nbconvert_exporter": "python",
   "pygments_lexer": "ipython3",
   "version": "3.12.7"
  }
 },
 "nbformat": 4,
 "nbformat_minor": 5
}
