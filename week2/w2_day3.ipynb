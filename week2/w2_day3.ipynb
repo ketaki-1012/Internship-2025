{
 "cells": [
  {
   "cell_type": "code",
   "execution_count": 1,
   "id": "d58f1388-2ca7-483c-9840-7a5d1765e0a4",
   "metadata": {},
   "outputs": [],
   "source": [
    "sent = 'welcome everyone!!!'"
   ]
  },
  {
   "cell_type": "code",
   "execution_count": 2,
   "id": "5506c26e-d01d-4041-b32f-b1d1c50be38b",
   "metadata": {},
   "outputs": [
    {
     "data": {
      "text/plain": [
       "'welcome everyone!!!'"
      ]
     },
     "execution_count": 2,
     "metadata": {},
     "output_type": "execute_result"
    }
   ],
   "source": [
    "sent"
   ]
  },
  {
   "cell_type": "code",
   "execution_count": 3,
   "id": "f6839e61-ef98-4d8d-9f56-8309479064a6",
   "metadata": {},
   "outputs": [
    {
     "data": {
      "text/plain": [
       "'wel'"
      ]
     },
     "execution_count": 3,
     "metadata": {},
     "output_type": "execute_result"
    }
   ],
   "source": [
    "sent[0: 3]"
   ]
  },
  {
   "cell_type": "code",
   "execution_count": 6,
   "id": "e3c1ce3a-00f4-4052-aabe-227832553ef5",
   "metadata": {},
   "outputs": [
    {
     "name": "stdin",
     "output_type": "stream",
     "text": [
      "Enter a string ketaki\n"
     ]
    },
    {
     "name": "stdout",
     "output_type": "stream",
     "text": [
      "k\n",
      "e\n",
      "t\n",
      "a\n",
      "k\n",
      "i\n"
     ]
    }
   ],
   "source": [
    "#user input => string\n",
    "#using loop split it inot individual \n",
    "st1 = str(input(\"Enter a strring\"))\n",
    "for i in str1:\n",
    "    print(i)\n"
   ]
  },
  {
   "cell_type": "code",
   "execution_count": 7,
   "id": "37705f7d-3dc3-4c1b-91dc-51caf2074db8",
   "metadata": {},
   "outputs": [],
   "source": [
    "l1 = []"
   ]
  },
  {
   "cell_type": "code",
   "execution_count": 8,
   "id": "c79c2b9d-b86e-469e-b296-043bc2a61c98",
   "metadata": {},
   "outputs": [
    {
     "data": {
      "text/plain": [
       "[]"
      ]
     },
     "execution_count": 8,
     "metadata": {},
     "output_type": "execute_result"
    }
   ],
   "source": [
    "l1"
   ]
  },
  {
   "cell_type": "code",
   "execution_count": 11,
   "id": "cc2deb1b-25b8-4fc9-8685-84d2e0a655f9",
   "metadata": {},
   "outputs": [
    {
     "data": {
      "text/plain": [
       "list"
      ]
     },
     "execution_count": 11,
     "metadata": {},
     "output_type": "execute_result"
    }
   ],
   "source": [
    "str1 = l1\n",
    "type(str1)"
   ]
  },
  {
   "cell_type": "code",
   "execution_count": 12,
   "id": "904addb2-5504-42c1-b12f-4ae49de9e7dc",
   "metadata": {},
   "outputs": [],
   "source": [
    "#use a loop and if else ww"
   ]
  },
  {
   "cell_type": "code",
   "execution_count": 13,
   "id": "00a94e85-86f5-4e4e-b9fa-e2213e219d1c",
   "metadata": {},
   "outputs": [],
   "source": [
    "l = ['1', '3', '4']"
   ]
  },
  {
   "cell_type": "code",
   "execution_count": 14,
   "id": "0da1d50b-19cb-4ad4-9514-43430c38d0de",
   "metadata": {},
   "outputs": [
    {
     "data": {
      "text/plain": [
       "'1-3-4'"
      ]
     },
     "execution_count": 14,
     "metadata": {},
     "output_type": "execute_result"
    }
   ],
   "source": [
    "'-'.join(l)"
   ]
  },
  {
   "cell_type": "code",
   "execution_count": 15,
   "id": "28c0d91e-33d1-4ced-b948-f0b846dba8b9",
   "metadata": {},
   "outputs": [],
   "source": [
    "#esacape sequences"
   ]
  },
  {
   "cell_type": "code",
   "execution_count": 16,
   "id": "25f13d64-0dba-4047-bac9-980a72bd25ce",
   "metadata": {},
   "outputs": [
    {
     "name": "stdout",
     "output_type": "stream",
     "text": [
      "This is first line\n",
      " this is second line\n"
     ]
    }
   ],
   "source": [
    "print(\"This is first line\\n this is second line\")\n"
   ]
  },
  {
   "cell_type": "code",
   "execution_count": 18,
   "id": "9d87acfe-c43d-4e95-98e2-f3e2ec4457f5",
   "metadata": {},
   "outputs": [
    {
     "name": "stdout",
     "output_type": "stream",
     "text": [
      "This is first line\tthis is second line\n"
     ]
    }
   ],
   "source": [
    "print(\"This is first line\\tthis is second line\")\n"
   ]
  },
  {
   "cell_type": "code",
   "execution_count": 19,
   "id": "998f6860-ef7c-4ea6-b988-ef3358928428",
   "metadata": {},
   "outputs": [
    {
     "name": "stdout",
     "output_type": "stream",
     "text": [
      "This is first line\n",
      "\n",
      " this is second line\n"
     ]
    }
   ],
   "source": [
    "print(\"This is first line\\n\\n this is second line\")\n"
   ]
  },
  {
   "cell_type": "code",
   "execution_count": 20,
   "id": "90782644-fb96-4a98-bb81-f7860cd18d04",
   "metadata": {},
   "outputs": [
    {
     "data": {
      "text/plain": [
       "'my name is Raj and marks are 56'"
      ]
     },
     "execution_count": 20,
     "metadata": {},
     "output_type": "execute_result"
    }
   ],
   "source": [
    "#fromat\n",
    "\n",
    "name = 'Raj'\n",
    "marks = 56\n",
    "\n",
    "\"my name is {} and marks are {}\".format(name, marks)"
   ]
  },
  {
   "cell_type": "code",
   "execution_count": 33,
   "id": "c88a6228-f492-42d8-af60-70ab697a34a2",
   "metadata": {},
   "outputs": [
    {
     "name": "stdin",
     "output_type": "stream",
     "text": [
      "Enter a string:  ketaki\n"
     ]
    },
    {
     "name": "stdout",
     "output_type": "stream",
     "text": [
      "Total number of vowels found in the string: 3\n",
      "Vowel counts: {'a': 1, 'e': 1, 'i': 1, 'o': 0, 'u': 0}\n"
     ]
    }
   ],
   "source": [
    "def vowel_counter():\n",
    "    str1 = input(\"Enter a string: \")\n",
    "    str1 = str1.lower()\n",
    "    \n",
    "    vowels = 'aeiou'\n",
    "    total_count = 0\n",
    "    vowel_counts = {'a': 0, 'e': 0, 'i': 0, 'o': 0, 'u': 0}\n",
    "\n",
    "    for char in str1:\n",
    "        if char in vowels:\n",
    "            total_count += 1\n",
    "            vowel_counts[char] += 1\n",
    "\n",
    "    print(\"Total number of vowels found in the string:\", total_count)\n",
    "    print(\"Vowel counts:\", vowel_counts)\n",
    "\n",
    "# Call the function\n",
    "vowel_counter()\n"
   ]
  },
  {
   "cell_type": "code",
   "execution_count": 29,
   "id": "22eef48f-6351-4f71-bff2-396fffd299f4",
   "metadata": {},
   "outputs": [
    {
     "data": {
      "text/plain": [
       "set"
      ]
     },
     "execution_count": 29,
     "metadata": {},
     "output_type": "execute_result"
    }
   ],
   "source": [
    "type(s)"
   ]
  },
  {
   "cell_type": "code",
   "execution_count": 36,
   "id": "2f071925-07a6-4652-b8fd-45526b8b2255",
   "metadata": {},
   "outputs": [
    {
     "name": "stdin",
     "output_type": "stream",
     "text": [
      "Enter a string:  malayalam\n"
     ]
    },
    {
     "name": "stdout",
     "output_type": "stream",
     "text": [
      "It's a palindrome.\n"
     ]
    }
   ],
   "source": [
    "def palindrome_checker():\n",
    "    word = input(\"Enter a string: \")\n",
    "\n",
    "    reversed_list = []\n",
    "\n",
    "    for ch in word:\n",
    "        reversed_list.insert(0, ch)  \n",
    "    reversed_word = ''.join(reversed_list)\n",
    "\n",
    "    if word == reversed_word:\n",
    "        print(\"It's a palindrome.\")\n",
    "    else:\n",
    "        print(\"It's not a palindrome.\")\n",
    "\n",
    "palindrome_checker()\n"
   ]
  },
  {
   "cell_type": "code",
   "execution_count": 37,
   "id": "8eb3a568-6133-489a-8c8f-5e22910c4d33",
   "metadata": {},
   "outputs": [
    {
     "name": "stdin",
     "output_type": "stream",
     "text": [
      "Enter a string:  ketaki\n"
     ]
    },
    {
     "name": "stdout",
     "output_type": "stream",
     "text": [
      "Character frequency:\n",
      "{'k': 2, 'e': 1, 't': 1, 'a': 1, 'i': 1}\n"
     ]
    }
   ],
   "source": [
    " def char_frequency_counter():\n",
    "    text = input(\"Enter a string: \")\n",
    "\n",
    "    freq_dict = {}\n",
    "\n",
    "    for ch in text:\n",
    "        if ch in freq_dict:\n",
    "            freq_dict[ch] += 1  # if already in dict, increment count\n",
    "        else:\n",
    "            freq_dict[ch] = 1   # if not, add it with count 1\n",
    "\n",
    "    print(\"Character frequency:\")\n",
    "    print(freq_dict)\n",
    "\n",
    "# Call the function\n",
    "char_frequency_counter()\n"
   ]
  },
  {
   "cell_type": "code",
   "execution_count": 38,
   "id": "af2eb7ef-979a-4e37-842a-3844c0cbb7dc",
   "metadata": {},
   "outputs": [
    {
     "name": "stdin",
     "output_type": "stream",
     "text": [
      "Enter a sentence:  shruti is very beautiful\n"
     ]
    },
    {
     "name": "stdout",
     "output_type": "stream",
     "text": [
      "Short words: ['is', 'very']\n",
      "Medium words: ['shruti']\n",
      "Long words: ['beautiful']\n"
     ]
    }
   ],
   "source": [
    "def classify_word_lengths():\n",
    "    sentence = input(\"Enter a sentence: \")\n",
    "\n",
    "    words = sentence.split()  # Split sentence into words\n",
    "\n",
    "    # Lists to store classified words\n",
    "    short_words = []\n",
    "    medium_words = []\n",
    "    long_words = []\n",
    "\n",
    "    for word in words:\n",
    "        if len(word) < 5:\n",
    "            short_words.append(word)\n",
    "        elif 5 <= len(word) <= 8:\n",
    "            medium_words.append(word)\n",
    "        else:\n",
    "            long_words.append(word)\n",
    "\n",
    "    # Print the results\n",
    "    print(\"Short words:\", short_words)\n",
    "    print(\"Medium words:\", medium_words)\n",
    "    print(\"Long words:\", long_words)\n",
    "\n",
    "# Call the function\n",
    "classify_word_lengths()\n"
   ]
  },
  {
   "cell_type": "code",
   "execution_count": 2,
   "id": "72d297cc-3c81-4887-a400-9564af9c8560",
   "metadata": {},
   "outputs": [],
   "source": [
    "def find_matching_strings(string_list, prefix, suffix):\n",
    "    matching_strings = []\n",
    "\n",
    "    for word in string_list:\n",
    "        if word.startswith(prefix) and word.endswith(suffix):\n",
    "            matching_strings.append(word)\n",
    "\n",
    "    print(\"Matching strings:\", matching_strings)\n"
   ]
  },
  {
   "cell_type": "code",
   "execution_count": null,
   "id": "079244c1-9adf-43a1-a4ec-0cbcdff07c3c",
   "metadata": {},
   "outputs": [],
   "source": []
  }
 ],
 "metadata": {
  "kernelspec": {
   "display_name": "Python [conda env:base] *",
   "language": "python",
   "name": "conda-base-py"
  },
  "language_info": {
   "codemirror_mode": {
    "name": "ipython",
    "version": 3
   },
   "file_extension": ".py",
   "mimetype": "text/x-python",
   "name": "python",
   "nbconvert_exporter": "python",
   "pygments_lexer": "ipython3",
   "version": "3.12.7"
  }
 },
 "nbformat": 4,
 "nbformat_minor": 5
}
