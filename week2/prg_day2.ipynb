{
 "cells": [
  {
   "cell_type": "code",
   "execution_count": 101,
   "id": "a3b0217c-5561-49b3-8275-ffd734186d5f",
   "metadata": {},
   "outputs": [],
   "source": [
    "a = 5\n",
    "b = 3"
   ]
  },
  {
   "cell_type": "code",
   "execution_count": 102,
   "id": "37ea99de-c992-483b-af7a-05a953fc3ca6",
   "metadata": {},
   "outputs": [
    {
     "data": {
      "text/plain": [
       "1"
      ]
     },
     "execution_count": 102,
     "metadata": {},
     "output_type": "execute_result"
    }
   ],
   "source": [
    "a // b"
   ]
  },
  {
   "cell_type": "code",
   "execution_count": 103,
   "id": "6b9f61d9-536f-46eb-b58c-f83b409c2a88",
   "metadata": {},
   "outputs": [
    {
     "data": {
      "text/plain": [
       "2"
      ]
     },
     "execution_count": 103,
     "metadata": {},
     "output_type": "execute_result"
    }
   ],
   "source": [
    "a % b"
   ]
  },
  {
   "cell_type": "code",
   "execution_count": 104,
   "id": "af5a4155-55d2-4acd-80ce-7b85007cc351",
   "metadata": {},
   "outputs": [
    {
     "data": {
      "text/plain": [
       "'0b1101'"
      ]
     },
     "execution_count": 104,
     "metadata": {},
     "output_type": "execute_result"
    }
   ],
   "source": [
    "bin(13)"
   ]
  },
  {
   "cell_type": "code",
   "execution_count": 105,
   "id": "7c4551a1-998c-490d-8169-65d9182294d0",
   "metadata": {},
   "outputs": [
    {
     "data": {
      "text/plain": [
       "('0b101', '0b11')"
      ]
     },
     "execution_count": 105,
     "metadata": {},
     "output_type": "execute_result"
    }
   ],
   "source": [
    "bin(a) , bin(b)"
   ]
  },
  {
   "cell_type": "code",
   "execution_count": 106,
   "id": "82aa16e0-c99f-462c-84a4-095fd0c157a9",
   "metadata": {},
   "outputs": [],
   "source": [
    "a = 13 ;b = 15"
   ]
  },
  {
   "cell_type": "code",
   "execution_count": 107,
   "id": "e7496578-06c4-438a-acbb-aa3a2aeca2f7",
   "metadata": {},
   "outputs": [
    {
     "data": {
      "text/plain": [
       "('0b1101', '0b1111')"
      ]
     },
     "execution_count": 107,
     "metadata": {},
     "output_type": "execute_result"
    }
   ],
   "source": [
    "bin(a) , bin (b)"
   ]
  },
  {
   "cell_type": "code",
   "execution_count": 108,
   "id": "9cc82818-d437-4d70-8ccc-03049a91c941",
   "metadata": {},
   "outputs": [
    {
     "data": {
      "text/plain": [
       "13"
      ]
     },
     "execution_count": 108,
     "metadata": {},
     "output_type": "execute_result"
    }
   ],
   "source": [
    "a & b"
   ]
  },
  {
   "cell_type": "code",
   "execution_count": 109,
   "id": "18cff728-12a5-42d4-9640-f5b2dbb640ab",
   "metadata": {},
   "outputs": [
    {
     "data": {
      "text/plain": [
       "'0b1'"
      ]
     },
     "execution_count": 109,
     "metadata": {},
     "output_type": "execute_result"
    }
   ],
   "source": [
    "bin(1)"
   ]
  },
  {
   "cell_type": "code",
   "execution_count": 110,
   "id": "59df637e-197b-45dc-a483-f140ecbed0a8",
   "metadata": {},
   "outputs": [
    {
     "data": {
      "text/plain": [
       "15"
      ]
     },
     "execution_count": 110,
     "metadata": {},
     "output_type": "execute_result"
    }
   ],
   "source": [
    "a | b "
   ]
  },
  {
   "cell_type": "code",
   "execution_count": 111,
   "id": "c36bfd7b-7934-4cb7-b13b-2b724838e5ef",
   "metadata": {},
   "outputs": [
    {
     "data": {
      "text/plain": [
       "'0b110100'"
      ]
     },
     "execution_count": 111,
     "metadata": {},
     "output_type": "execute_result"
    }
   ],
   "source": [
    "bin(a<<2)"
   ]
  },
  {
   "cell_type": "code",
   "execution_count": 112,
   "id": "e4492f4d-588a-425b-9761-f6a366456d7f",
   "metadata": {},
   "outputs": [
    {
     "data": {
      "text/plain": [
       "'0b11'"
      ]
     },
     "execution_count": 112,
     "metadata": {},
     "output_type": "execute_result"
    }
   ],
   "source": [
    "bin(a>>2)"
   ]
  },
  {
   "cell_type": "code",
   "execution_count": 114,
   "id": "a35c584c-1189-4682-b1cf-93eea304b407",
   "metadata": {},
   "outputs": [],
   "source": [
    "a = 5"
   ]
  },
  {
   "cell_type": "code",
   "execution_count": 113,
   "id": "cc2cfec3-5bed-4ee1-a135-897be2457ef6",
   "metadata": {},
   "outputs": [],
   "source": [
    "#assignment operators"
   ]
  },
  {
   "cell_type": "code",
   "execution_count": 19,
   "id": "4769e152-2453-4220-aaf3-450cbe75ce01",
   "metadata": {},
   "outputs": [],
   "source": [
    "a +=3"
   ]
  },
  {
   "cell_type": "code",
   "execution_count": 20,
   "id": "cb7158de-03a6-4a98-85c9-772f84c93df1",
   "metadata": {},
   "outputs": [
    {
     "data": {
      "text/plain": [
       "8"
      ]
     },
     "execution_count": 20,
     "metadata": {},
     "output_type": "execute_result"
    }
   ],
   "source": [
    "a"
   ]
  },
  {
   "cell_type": "code",
   "execution_count": 21,
   "id": "836c2de6-db44-49a1-b300-d627132e0d7e",
   "metadata": {},
   "outputs": [],
   "source": [
    "a **=2"
   ]
  },
  {
   "cell_type": "code",
   "execution_count": 22,
   "id": "21609a3b-2849-4393-a410-5a18d4fcb28f",
   "metadata": {},
   "outputs": [
    {
     "data": {
      "text/plain": [
       "64"
      ]
     },
     "execution_count": 22,
     "metadata": {},
     "output_type": "execute_result"
    }
   ],
   "source": [
    "a"
   ]
  },
  {
   "cell_type": "code",
   "execution_count": 23,
   "id": "c4b8d879-3b7a-4d71-8104-6c4ed8acf6c7",
   "metadata": {},
   "outputs": [],
   "source": [
    "a//=8"
   ]
  },
  {
   "cell_type": "code",
   "execution_count": 24,
   "id": "62854df8-94cf-43f2-b376-0347f827e385",
   "metadata": {},
   "outputs": [
    {
     "data": {
      "text/plain": [
       "8"
      ]
     },
     "execution_count": 24,
     "metadata": {},
     "output_type": "execute_result"
    }
   ],
   "source": [
    "a"
   ]
  },
  {
   "cell_type": "code",
   "execution_count": 25,
   "id": "274cb116-f307-484b-8512-247b8d6736d0",
   "metadata": {},
   "outputs": [],
   "source": [
    "a %=8"
   ]
  },
  {
   "cell_type": "code",
   "execution_count": 26,
   "id": "bc24bd25-5d88-484c-8aaf-d45cdb0cc32a",
   "metadata": {},
   "outputs": [
    {
     "data": {
      "text/plain": [
       "0"
      ]
     },
     "execution_count": 26,
     "metadata": {},
     "output_type": "execute_result"
    }
   ],
   "source": [
    "a"
   ]
  },
  {
   "cell_type": "code",
   "execution_count": 27,
   "id": "68dbd5e1-714f-4d33-b702-c861fa8f2ac9",
   "metadata": {},
   "outputs": [],
   "source": [
    "#comparison "
   ]
  },
  {
   "cell_type": "code",
   "execution_count": 28,
   "id": "425510c9-3a01-4fdc-a164-f0361f7ff941",
   "metadata": {},
   "outputs": [],
   "source": [
    "a =15; b= 10"
   ]
  },
  {
   "cell_type": "code",
   "execution_count": 29,
   "id": "91044a37-e0a8-4bc9-805e-35979ed2edb1",
   "metadata": {},
   "outputs": [
    {
     "data": {
      "text/plain": [
       "False"
      ]
     },
     "execution_count": 29,
     "metadata": {},
     "output_type": "execute_result"
    }
   ],
   "source": [
    "a ==b"
   ]
  },
  {
   "cell_type": "code",
   "execution_count": 30,
   "id": "d13bd38e-580e-4be4-9575-f895b6701086",
   "metadata": {},
   "outputs": [
    {
     "data": {
      "text/plain": [
       "True"
      ]
     },
     "execution_count": 30,
     "metadata": {},
     "output_type": "execute_result"
    }
   ],
   "source": [
    "a !=b"
   ]
  },
  {
   "cell_type": "code",
   "execution_count": 31,
   "id": "3d424958-7757-464a-b65f-a7ec81c954fa",
   "metadata": {},
   "outputs": [
    {
     "data": {
      "text/plain": [
       "True"
      ]
     },
     "execution_count": 31,
     "metadata": {},
     "output_type": "execute_result"
    }
   ],
   "source": [
    "a  > b"
   ]
  },
  {
   "cell_type": "code",
   "execution_count": 32,
   "id": "e6239958-7c3f-47d0-b6de-401e2161bd4c",
   "metadata": {},
   "outputs": [
    {
     "data": {
      "text/plain": [
       "True"
      ]
     },
     "execution_count": 32,
     "metadata": {},
     "output_type": "execute_result"
    }
   ],
   "source": [
    "a>=b"
   ]
  },
  {
   "cell_type": "code",
   "execution_count": 33,
   "id": "ac3ab4da-dbcf-4af1-b0e9-be6f2c45500d",
   "metadata": {},
   "outputs": [],
   "source": [
    "#logical "
   ]
  },
  {
   "cell_type": "code",
   "execution_count": 37,
   "id": "e3da74f0-57d8-45f7-9820-0529f1bb7863",
   "metadata": {},
   "outputs": [],
   "source": [
    "a = True\n",
    "b = False\n"
   ]
  },
  {
   "cell_type": "code",
   "execution_count": 36,
   "id": "02d4e758-d137-4389-a116-63ead2b6b683",
   "metadata": {},
   "outputs": [
    {
     "data": {
      "text/plain": [
       "10"
      ]
     },
     "execution_count": 36,
     "metadata": {},
     "output_type": "execute_result"
    }
   ],
   "source": [
    "a and b"
   ]
  },
  {
   "cell_type": "code",
   "execution_count": 38,
   "id": "51404c02-5559-4b79-bcf4-a8fa343f9b45",
   "metadata": {},
   "outputs": [
    {
     "data": {
      "text/plain": [
       "True"
      ]
     },
     "execution_count": 38,
     "metadata": {},
     "output_type": "execute_result"
    }
   ],
   "source": [
    "a or b"
   ]
  },
  {
   "cell_type": "code",
   "execution_count": 40,
   "id": "2717a4ec-8ad4-424b-8fa3-6a7121046682",
   "metadata": {},
   "outputs": [
    {
     "data": {
      "text/plain": [
       "False"
      ]
     },
     "execution_count": 40,
     "metadata": {},
     "output_type": "execute_result"
    }
   ],
   "source": [
    "not a"
   ]
  },
  {
   "cell_type": "code",
   "execution_count": 41,
   "id": "6379826a-b9ad-42a1-8c46-d1dac797cec2",
   "metadata": {},
   "outputs": [
    {
     "data": {
      "text/plain": [
       "True"
      ]
     },
     "execution_count": 41,
     "metadata": {},
     "output_type": "execute_result"
    }
   ],
   "source": [
    "not b"
   ]
  },
  {
   "cell_type": "code",
   "execution_count": 49,
   "id": "7fd86410-aaf5-41cf-bb5d-707efdfb0d08",
   "metadata": {},
   "outputs": [],
   "source": [
    "a =5\n",
    "b=5"
   ]
  },
  {
   "cell_type": "code",
   "execution_count": 42,
   "id": "3e7e729b-86c9-4aa0-9d84-5daab68fe50b",
   "metadata": {},
   "outputs": [],
   "source": [
    "#identity operators"
   ]
  },
  {
   "cell_type": "code",
   "execution_count": 50,
   "id": "c282fe32-1e48-47d7-b73a-a4cc3b4c1541",
   "metadata": {},
   "outputs": [
    {
     "data": {
      "text/plain": [
       "True"
      ]
     },
     "execution_count": 50,
     "metadata": {},
     "output_type": "execute_result"
    }
   ],
   "source": [
    "a is b"
   ]
  },
  {
   "cell_type": "code",
   "execution_count": 51,
   "id": "f9ad32cd-065a-4ade-a10c-2b15c977dc6f",
   "metadata": {},
   "outputs": [
    {
     "data": {
      "text/plain": [
       "False"
      ]
     },
     "execution_count": 51,
     "metadata": {},
     "output_type": "execute_result"
    }
   ],
   "source": [
    "a is not b"
   ]
  },
  {
   "cell_type": "code",
   "execution_count": 46,
   "id": "a21800e8-b264-4d4c-8451-5ebc0d499918",
   "metadata": {},
   "outputs": [],
   "source": [
    "x = [1,2]\n",
    "y =[1,2]"
   ]
  },
  {
   "cell_type": "code",
   "execution_count": 47,
   "id": "0d5c9eef-0847-4b54-bb9c-5d578126c60c",
   "metadata": {},
   "outputs": [
    {
     "data": {
      "text/plain": [
       "False"
      ]
     },
     "execution_count": 47,
     "metadata": {},
     "output_type": "execute_result"
    }
   ],
   "source": [
    "x is y"
   ]
  },
  {
   "cell_type": "code",
   "execution_count": 52,
   "id": "baa59aff-5dd3-46fe-8ef4-f29c5aa8c942",
   "metadata": {},
   "outputs": [
    {
     "data": {
      "text/plain": [
       "1861556404992"
      ]
     },
     "execution_count": 52,
     "metadata": {},
     "output_type": "execute_result"
    }
   ],
   "source": [
    "id(x)"
   ]
  },
  {
   "cell_type": "code",
   "execution_count": 53,
   "id": "8e30585c-dd57-4a28-a8f2-adbb8bf2e51c",
   "metadata": {},
   "outputs": [
    {
     "data": {
      "text/plain": [
       "1861556412224"
      ]
     },
     "execution_count": 53,
     "metadata": {},
     "output_type": "execute_result"
    }
   ],
   "source": [
    "id(y)"
   ]
  },
  {
   "cell_type": "code",
   "execution_count": 54,
   "id": "6bea99b0-deff-4519-a5e7-d00d582fcc43",
   "metadata": {},
   "outputs": [],
   "source": [
    "z = x"
   ]
  },
  {
   "cell_type": "code",
   "execution_count": 55,
   "id": "b8082a37-0125-487d-927f-20c20173c1ec",
   "metadata": {},
   "outputs": [
    {
     "data": {
      "text/plain": [
       "True"
      ]
     },
     "execution_count": 55,
     "metadata": {},
     "output_type": "execute_result"
    }
   ],
   "source": [
    "z is x"
   ]
  },
  {
   "cell_type": "code",
   "execution_count": 56,
   "id": "44953c54-46c2-4eff-9b88-9e9916c996e6",
   "metadata": {},
   "outputs": [],
   "source": [
    "x.append(10)"
   ]
  },
  {
   "cell_type": "code",
   "execution_count": 57,
   "id": "50fdeea2-dbcc-403e-a7b4-6e599c16dd3d",
   "metadata": {},
   "outputs": [
    {
     "data": {
      "text/plain": [
       "[1, 2, 10]"
      ]
     },
     "execution_count": 57,
     "metadata": {},
     "output_type": "execute_result"
    }
   ],
   "source": [
    "x"
   ]
  },
  {
   "cell_type": "code",
   "execution_count": 58,
   "id": "a6ddebd0-dad9-433e-84e1-6eb9e9d6d1b9",
   "metadata": {},
   "outputs": [
    {
     "data": {
      "text/plain": [
       "[1, 2, 10]"
      ]
     },
     "execution_count": 58,
     "metadata": {},
     "output_type": "execute_result"
    }
   ],
   "source": [
    "z"
   ]
  },
  {
   "cell_type": "code",
   "execution_count": null,
   "id": "a1606aec-5b79-4872-bf6f-504fcfdfa0c7",
   "metadata": {},
   "outputs": [],
   "source": []
  },
  {
   "cell_type": "code",
   "execution_count": 60,
   "id": "38c2e7ea-9dc4-4b8a-b823-dda61aa8db4c",
   "metadata": {},
   "outputs": [
    {
     "data": {
      "text/plain": [
       "(1861556404992, 1861556412224)"
      ]
     },
     "execution_count": 60,
     "metadata": {},
     "output_type": "execute_result"
    }
   ],
   "source": [
    "id(x) , id(y)"
   ]
  },
  {
   "cell_type": "code",
   "execution_count": 61,
   "id": "8582e104-1b7a-42a7-ab7c-2a5f0b38aa42",
   "metadata": {},
   "outputs": [],
   "source": [
    "#membership"
   ]
  },
  {
   "cell_type": "code",
   "execution_count": 62,
   "id": "8b51cbf6-06bf-4439-92d1-66daaf403101",
   "metadata": {},
   "outputs": [],
   "source": [
    "l=[12,34,55,34]"
   ]
  },
  {
   "cell_type": "code",
   "execution_count": 63,
   "id": "7e8dba01-6eac-4358-b2eb-309f8336fc65",
   "metadata": {},
   "outputs": [
    {
     "data": {
      "text/plain": [
       "True"
      ]
     },
     "execution_count": 63,
     "metadata": {},
     "output_type": "execute_result"
    }
   ],
   "source": [
    "12 in l"
   ]
  },
  {
   "cell_type": "code",
   "execution_count": 64,
   "id": "570fc3b9-d8b6-4638-81dd-e485eb450116",
   "metadata": {},
   "outputs": [
    {
     "data": {
      "text/plain": [
       "False"
      ]
     },
     "execution_count": 64,
     "metadata": {},
     "output_type": "execute_result"
    }
   ],
   "source": [
    "10 in l"
   ]
  },
  {
   "cell_type": "code",
   "execution_count": 65,
   "id": "827a9d61-cb41-4479-9b99-4680081bc870",
   "metadata": {},
   "outputs": [
    {
     "data": {
      "text/plain": [
       "False"
      ]
     },
     "execution_count": 65,
     "metadata": {},
     "output_type": "execute_result"
    }
   ],
   "source": [
    "100 in l"
   ]
  },
  {
   "cell_type": "code",
   "execution_count": 66,
   "id": "0710e7b0-fe2a-414e-acfc-cb8c7ea7d231",
   "metadata": {},
   "outputs": [
    {
     "data": {
      "text/plain": [
       "6"
      ]
     },
     "execution_count": 66,
     "metadata": {},
     "output_type": "execute_result"
    }
   ],
   "source": [
    "5 + 3 - 2"
   ]
  },
  {
   "cell_type": "code",
   "execution_count": 68,
   "id": "abb219ca-18e3-451d-9141-272ca454426a",
   "metadata": {},
   "outputs": [
    {
     "data": {
      "text/plain": [
       "1"
      ]
     },
     "execution_count": 68,
     "metadata": {},
     "output_type": "execute_result"
    }
   ],
   "source": [
    "5 -2 * 2"
   ]
  },
  {
   "cell_type": "code",
   "execution_count": 69,
   "id": "232ec57f-336b-406f-bb3c-896ef0f04e24",
   "metadata": {},
   "outputs": [
    {
     "data": {
      "text/plain": [
       "1"
      ]
     },
     "execution_count": 69,
     "metadata": {},
     "output_type": "execute_result"
    }
   ],
   "source": [
    "(2-1)**100"
   ]
  },
  {
   "cell_type": "code",
   "execution_count": 73,
   "id": "fef4554f-16bf-4cc5-9356-51355fb18dad",
   "metadata": {},
   "outputs": [
    {
     "data": {
      "text/plain": [
       "256"
      ]
     },
     "execution_count": 73,
     "metadata": {},
     "output_type": "execute_result"
    }
   ],
   "source": [
    "2 ** 2 ** 3"
   ]
  },
  {
   "cell_type": "markdown",
   "id": "0cb6857e-585b-4f16-a4ba-e0fb2c38c1da",
   "metadata": {},
   "source": [
    "2 ** 3 // 2"
   ]
  },
  {
   "cell_type": "code",
   "execution_count": null,
   "id": "6d38c151-8aaf-4bf7-95bd-d82ec17f17a2",
   "metadata": {},
   "outputs": [],
   "source": []
  },
  {
   "cell_type": "code",
   "execution_count": 74,
   "id": "72c90ebc-7968-4f85-919e-208abaafe6b8",
   "metadata": {},
   "outputs": [],
   "source": [
    "#print function \n"
   ]
  },
  {
   "cell_type": "code",
   "execution_count": 75,
   "id": "c2add02e-59ab-4654-95ce-24ac417726d2",
   "metadata": {},
   "outputs": [],
   "source": [
    "name = \"Sia\"\n",
    "marks = 75"
   ]
  },
  {
   "cell_type": "code",
   "execution_count": 79,
   "id": "7880116b-9365-48f2-bc23-b8215eb11b2c",
   "metadata": {},
   "outputs": [
    {
     "name": "stdout",
     "output_type": "stream",
     "text": [
      "My name is   Sia and marks are  75\n"
     ]
    }
   ],
   "source": [
    "print(\"My name is  \", name , \"and marks are \",marks)"
   ]
  },
  {
   "cell_type": "code",
   "execution_count": 80,
   "id": "cc112edf-de5f-4c50-a769-9131a0ebd5cb",
   "metadata": {},
   "outputs": [
    {
     "name": "stdout",
     "output_type": "stream",
     "text": [
      "My name is Sia and marks are 75\n"
     ]
    }
   ],
   "source": [
    "print(\"My name is %s and marks are %i\" %(name ,marks))"
   ]
  },
  {
   "cell_type": "code",
   "execution_count": 82,
   "id": "66392ca0-8f47-49f8-8c1f-91715b0e30aa",
   "metadata": {},
   "outputs": [
    {
     "name": "stdout",
     "output_type": "stream",
     "text": [
      "my name is Sia and marks are 75\n"
     ]
    }
   ],
   "source": [
    "print(f\"my name is {name} and marks are {marks}\")"
   ]
  },
  {
   "cell_type": "code",
   "execution_count": 83,
   "id": "c959af1c-3802-44f5-b29b-28dd3f320535",
   "metadata": {},
   "outputs": [],
   "source": [
    "#dir and help"
   ]
  },
  {
   "cell_type": "code",
   "execution_count": 84,
   "id": "77676d71-5fae-4bd7-b4cb-abdbc62f6bdb",
   "metadata": {},
   "outputs": [
    {
     "data": {
      "text/plain": [
       "['__abs__',\n",
       " '__add__',\n",
       " '__and__',\n",
       " '__bool__',\n",
       " '__ceil__',\n",
       " '__class__',\n",
       " '__delattr__',\n",
       " '__dir__',\n",
       " '__divmod__',\n",
       " '__doc__',\n",
       " '__eq__',\n",
       " '__float__',\n",
       " '__floor__',\n",
       " '__floordiv__',\n",
       " '__format__',\n",
       " '__ge__',\n",
       " '__getattribute__',\n",
       " '__getnewargs__',\n",
       " '__getstate__',\n",
       " '__gt__',\n",
       " '__hash__',\n",
       " '__index__',\n",
       " '__init__',\n",
       " '__init_subclass__',\n",
       " '__int__',\n",
       " '__invert__',\n",
       " '__le__',\n",
       " '__lshift__',\n",
       " '__lt__',\n",
       " '__mod__',\n",
       " '__mul__',\n",
       " '__ne__',\n",
       " '__neg__',\n",
       " '__new__',\n",
       " '__or__',\n",
       " '__pos__',\n",
       " '__pow__',\n",
       " '__radd__',\n",
       " '__rand__',\n",
       " '__rdivmod__',\n",
       " '__reduce__',\n",
       " '__reduce_ex__',\n",
       " '__repr__',\n",
       " '__rfloordiv__',\n",
       " '__rlshift__',\n",
       " '__rmod__',\n",
       " '__rmul__',\n",
       " '__ror__',\n",
       " '__round__',\n",
       " '__rpow__',\n",
       " '__rrshift__',\n",
       " '__rshift__',\n",
       " '__rsub__',\n",
       " '__rtruediv__',\n",
       " '__rxor__',\n",
       " '__setattr__',\n",
       " '__sizeof__',\n",
       " '__str__',\n",
       " '__sub__',\n",
       " '__subclasshook__',\n",
       " '__truediv__',\n",
       " '__trunc__',\n",
       " '__xor__',\n",
       " 'as_integer_ratio',\n",
       " 'bit_count',\n",
       " 'bit_length',\n",
       " 'conjugate',\n",
       " 'denominator',\n",
       " 'from_bytes',\n",
       " 'imag',\n",
       " 'is_integer',\n",
       " 'numerator',\n",
       " 'real',\n",
       " 'to_bytes']"
      ]
     },
     "execution_count": 84,
     "metadata": {},
     "output_type": "execute_result"
    }
   ],
   "source": [
    "dir(marks)"
   ]
  },
  {
   "cell_type": "code",
   "execution_count": 86,
   "id": "838a623e-4a64-47c9-88fc-15817a73dc54",
   "metadata": {},
   "outputs": [
    {
     "name": "stdout",
     "output_type": "stream",
     "text": [
      "Help on built-in function lstrip:\n",
      "\n",
      "lstrip(chars=None, /) method of builtins.str instance\n",
      "    Return a copy of the string with leading whitespace removed.\n",
      "\n",
      "    If chars is given and not None, remove characters in chars instead.\n",
      "\n"
     ]
    }
   ],
   "source": [
    "help(name.lstrip)"
   ]
  },
  {
   "cell_type": "code",
   "execution_count": 87,
   "id": "b1b004f9-3302-4582-b580-7c145882b175",
   "metadata": {},
   "outputs": [],
   "source": [
    "#ascii"
   ]
  },
  {
   "cell_type": "code",
   "execution_count": 88,
   "id": "34545155-8ecf-4819-be1a-f7a66ab6748d",
   "metadata": {},
   "outputs": [
    {
     "data": {
      "text/plain": [
       "97"
      ]
     },
     "execution_count": 88,
     "metadata": {},
     "output_type": "execute_result"
    }
   ],
   "source": [
    "ord(\"a\")"
   ]
  },
  {
   "cell_type": "code",
   "execution_count": 89,
   "id": "6c7ed3f4-fccc-45b1-9096-8edef8b1850e",
   "metadata": {},
   "outputs": [
    {
     "data": {
      "text/plain": [
       "107"
      ]
     },
     "execution_count": 89,
     "metadata": {},
     "output_type": "execute_result"
    }
   ],
   "source": [
    "ord(\"k\")"
   ]
  },
  {
   "cell_type": "code",
   "execution_count": 90,
   "id": "ac86a040-c71d-43ac-b67e-4a2358a07f47",
   "metadata": {},
   "outputs": [],
   "source": [
    "#typecasting"
   ]
  },
  {
   "cell_type": "code",
   "execution_count": 91,
   "id": "23fb0034-a234-4f78-a83d-a317eb67c391",
   "metadata": {},
   "outputs": [],
   "source": [
    "a = 12 \n",
    "b =23.44\n",
    "c=\"pune\""
   ]
  },
  {
   "cell_type": "code",
   "execution_count": 92,
   "id": "bf0d966e-5e84-4803-92c6-878c28dedb07",
   "metadata": {},
   "outputs": [
    {
     "data": {
      "text/plain": [
       "12.0"
      ]
     },
     "execution_count": 92,
     "metadata": {},
     "output_type": "execute_result"
    }
   ],
   "source": [
    "float(a)"
   ]
  },
  {
   "cell_type": "code",
   "execution_count": 93,
   "id": "67ec552a-3668-4df3-8c8b-e5c19434d609",
   "metadata": {},
   "outputs": [
    {
     "data": {
      "text/plain": [
       "23"
      ]
     },
     "execution_count": 93,
     "metadata": {},
     "output_type": "execute_result"
    }
   ],
   "source": [
    "int(b)"
   ]
  },
  {
   "cell_type": "code",
   "execution_count": 95,
   "id": "b04fc8a2-7640-40d3-bc91-703b18930d6f",
   "metadata": {},
   "outputs": [
    {
     "data": {
      "text/plain": [
       "'23.44'"
      ]
     },
     "execution_count": 95,
     "metadata": {},
     "output_type": "execute_result"
    }
   ],
   "source": [
    "str(b)"
   ]
  },
  {
   "cell_type": "code",
   "execution_count": 98,
   "id": "68cb84d1-c6db-4d47-95e9-85f3a63da377",
   "metadata": {},
   "outputs": [
    {
     "name": "stdout",
     "output_type": "stream",
     "text": [
      "22\n"
     ]
    }
   ],
   "source": [
    "a = 10\n",
    "b = 12 \n",
    "\n",
    "res = a +b\n",
    "print(res)"
   ]
  },
  {
   "cell_type": "code",
   "execution_count": 100,
   "id": "30dc6afc-04c5-41d9-a5c9-0d51f109ce6b",
   "metadata": {},
   "outputs": [
    {
     "name": "stdin",
     "output_type": "stream",
     "text": [
      "Enter the 1st number:  20\n",
      "Enter the 2nd number:  22\n"
     ]
    },
    {
     "name": "stdout",
     "output_type": "stream",
     "text": [
      "42\n"
     ]
    }
   ],
   "source": [
    "print'hello'\n",
    "\n"
   ]
  },
  {
   "cell_type": "code",
   "execution_count": null,
   "id": "cb17a1ea-1443-4e4c-843f-98bbef526c26",
   "metadata": {},
   "outputs": [],
   "source": []
  }
 ],
 "metadata": {
  "kernelspec": {
   "display_name": "Python [conda env:base] *",
   "language": "python",
   "name": "conda-base-py"
  },
  "language_info": {
   "codemirror_mode": {
    "name": "ipython",
    "version": 3
   },
   "file_extension": ".py",
   "mimetype": "text/x-python",
   "name": "python",
   "nbconvert_exporter": "python",
   "pygments_lexer": "ipython3",
   "version": "3.12.7"
  }
 },
 "nbformat": 4,
 "nbformat_minor": 5
}
