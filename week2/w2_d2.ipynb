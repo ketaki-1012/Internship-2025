{
 "cells": [
  {
   "cell_type": "code",
   "execution_count": 1,
   "id": "df683764-a0ee-466d-9937-d8287d73bc16",
   "metadata": {},
   "outputs": [],
   "source": [
    "#tuple\n",
    "\n",
    "t =(23, 43, 67, 12, 34)"
   ]
  },
  {
   "cell_type": "code",
   "execution_count": 2,
   "id": "5388b60e-9122-4467-888b-f4fa5a77b510",
   "metadata": {},
   "outputs": [
    {
     "data": {
      "text/plain": [
       "(23, 43, 67, 12, 34)"
      ]
     },
     "execution_count": 2,
     "metadata": {},
     "output_type": "execute_result"
    }
   ],
   "source": [
    "t"
   ]
  },
  {
   "cell_type": "code",
   "execution_count": 4,
   "id": "95b03076-626b-4d2f-a925-5af87ee9d9d2",
   "metadata": {},
   "outputs": [
    {
     "data": {
      "text/plain": [
       "tuple"
      ]
     },
     "execution_count": 4,
     "metadata": {},
     "output_type": "execute_result"
    }
   ],
   "source": [
    "type(t)"
   ]
  },
  {
   "cell_type": "code",
   "execution_count": 7,
   "id": "f328449a-2376-430e-b448-d26d6349b207",
   "metadata": {},
   "outputs": [],
   "source": [
    "t1 = (12, 23, \"pune\", 12) #hetero,duplicates are allowed"
   ]
  },
  {
   "cell_type": "code",
   "execution_count": 8,
   "id": "a7a1f22f-6a9a-4649-a723-9f7ecdfd2a6f",
   "metadata": {},
   "outputs": [
    {
     "data": {
      "text/plain": [
       "(12, 23, 'pune', 12)"
      ]
     },
     "execution_count": 8,
     "metadata": {},
     "output_type": "execute_result"
    }
   ],
   "source": [
    "t1"
   ]
  },
  {
   "cell_type": "code",
   "execution_count": 9,
   "id": "37540b21-4f2d-46c8-bd94-622e285c83f2",
   "metadata": {},
   "outputs": [
    {
     "data": {
      "text/plain": [
       "23"
      ]
     },
     "execution_count": 9,
     "metadata": {},
     "output_type": "execute_result"
    }
   ],
   "source": [
    "t1[1]"
   ]
  },
  {
   "cell_type": "code",
   "execution_count": 11,
   "id": "5d55b82e-b046-4034-8178-a642a7454065",
   "metadata": {},
   "outputs": [
    {
     "ename": "TypeError",
     "evalue": "'tuple' object does not support item assignment",
     "output_type": "error",
     "traceback": [
      "\u001b[1;31m---------------------------------------------------------------------------\u001b[0m",
      "\u001b[1;31mTypeError\u001b[0m                                 Traceback (most recent call last)",
      "Cell \u001b[1;32mIn[11], line 1\u001b[0m\n\u001b[1;32m----> 1\u001b[0m t1[\u001b[38;5;241m1\u001b[39m] \u001b[38;5;241m=\u001b[39m \u001b[38;5;241m34\u001b[39m\n",
      "\u001b[1;31mTypeError\u001b[0m: 'tuple' object does not support item assignment"
     ]
    }
   ],
   "source": [
    "t1[1] = 34 #immutable"
   ]
  },
  {
   "cell_type": "code",
   "execution_count": 17,
   "id": "63cf6067-8603-4b2b-adb0-8a89cd0a21d4",
   "metadata": {},
   "outputs": [],
   "source": [
    "t2 = (2,)"
   ]
  },
  {
   "cell_type": "code",
   "execution_count": 15,
   "id": "b547a20d-0f44-47af-92f5-dd0bb50952c5",
   "metadata": {},
   "outputs": [
    {
     "data": {
      "text/plain": [
       "2"
      ]
     },
     "execution_count": 15,
     "metadata": {},
     "output_type": "execute_result"
    }
   ],
   "source": [
    "t2"
   ]
  },
  {
   "cell_type": "code",
   "execution_count": 18,
   "id": "a8b1a02f-56ed-44a5-893b-972364e19d45",
   "metadata": {},
   "outputs": [
    {
     "data": {
      "text/plain": [
       "tuple"
      ]
     },
     "execution_count": 18,
     "metadata": {},
     "output_type": "execute_result"
    }
   ],
   "source": [
    "type(t2)"
   ]
  },
  {
   "cell_type": "code",
   "execution_count": 19,
   "id": "9f19f97b-ec94-4ba3-ad95-da1cfb299114",
   "metadata": {},
   "outputs": [],
   "source": [
    "t3 = 4,"
   ]
  },
  {
   "cell_type": "code",
   "execution_count": 20,
   "id": "6224876a-fec8-4c32-b2c0-d34546750fcb",
   "metadata": {},
   "outputs": [
    {
     "data": {
      "text/plain": [
       "tuple"
      ]
     },
     "execution_count": 20,
     "metadata": {},
     "output_type": "execute_result"
    }
   ],
   "source": [
    "type(t3)"
   ]
  },
  {
   "cell_type": "code",
   "execution_count": 21,
   "id": "bfc640f5-367c-4be7-8f36-7d0d72f25745",
   "metadata": {},
   "outputs": [],
   "source": [
    "t = ()"
   ]
  },
  {
   "cell_type": "code",
   "execution_count": 22,
   "id": "8abbad62-8bf5-4883-843b-83a40d8016e9",
   "metadata": {},
   "outputs": [
    {
     "data": {
      "text/plain": [
       "()"
      ]
     },
     "execution_count": 22,
     "metadata": {},
     "output_type": "execute_result"
    }
   ],
   "source": [
    "t"
   ]
  },
  {
   "cell_type": "code",
   "execution_count": 23,
   "id": "5efbec44-8773-41ab-90d9-c38f0b14f5e7",
   "metadata": {},
   "outputs": [],
   "source": [
    "t = (45, 67, 34, 90, 12)"
   ]
  },
  {
   "cell_type": "code",
   "execution_count": 25,
   "id": "29163315-097b-4db1-821c-f9b506af1e54",
   "metadata": {},
   "outputs": [
    {
     "data": {
      "text/plain": [
       "(67, 34, 90)"
      ]
     },
     "execution_count": 25,
     "metadata": {},
     "output_type": "execute_result"
    }
   ],
   "source": [
    "t[1:4]"
   ]
  },
  {
   "cell_type": "code",
   "execution_count": 26,
   "id": "f3c29d72-fcb8-43a1-91f0-e1f9e92ea574",
   "metadata": {},
   "outputs": [
    {
     "data": {
      "text/plain": [
       "(12, 45, [45, 89], 10)"
      ]
     },
     "execution_count": 26,
     "metadata": {},
     "output_type": "execute_result"
    }
   ],
   "source": [
    "t1 = (12, 45, [45, 89], 10)\n",
    "t1"
   ]
  },
  {
   "cell_type": "code",
   "execution_count": 29,
   "id": "6546b944-9ffb-43a3-94a0-55acccfc5c43",
   "metadata": {},
   "outputs": [],
   "source": [
    "t1[2][0] = 100"
   ]
  },
  {
   "cell_type": "code",
   "execution_count": 30,
   "id": "9a75b43d-b9e1-4044-8020-ce81fdd0efd8",
   "metadata": {},
   "outputs": [
    {
     "data": {
      "text/plain": [
       "(12, 45, [100, 89], 10)"
      ]
     },
     "execution_count": 30,
     "metadata": {},
     "output_type": "execute_result"
    }
   ],
   "source": [
    "t1"
   ]
  },
  {
   "cell_type": "code",
   "execution_count": 31,
   "id": "de9f404e-d13c-4d1a-868f-d860af36c058",
   "metadata": {},
   "outputs": [
    {
     "ename": "TypeError",
     "evalue": "'int' object does not support item assignment",
     "output_type": "error",
     "traceback": [
      "\u001b[1;31m---------------------------------------------------------------------------\u001b[0m",
      "\u001b[1;31mTypeError\u001b[0m                                 Traceback (most recent call last)",
      "Cell \u001b[1;32mIn[31], line 1\u001b[0m\n\u001b[1;32m----> 1\u001b[0m t1[\u001b[38;5;241m0\u001b[39m][\u001b[38;5;241m0\u001b[39m] \u001b[38;5;241m=\u001b[39m [\u001b[38;5;241m24\u001b[39m,\u001b[38;5;241m45\u001b[39m]\n",
      "\u001b[1;31mTypeError\u001b[0m: 'int' object does not support item assignment"
     ]
    }
   ],
   "source": [
    "t1[0][0] = [24,45] "
   ]
  },
  {
   "cell_type": "code",
   "execution_count": 32,
   "id": "1136508d-a278-4cfa-85ca-8cc54a393ad8",
   "metadata": {},
   "outputs": [],
   "source": [
    "t1 = list(t1)"
   ]
  },
  {
   "cell_type": "code",
   "execution_count": 33,
   "id": "bcbd7db0-3725-493d-aa6f-65851311741e",
   "metadata": {},
   "outputs": [
    {
     "data": {
      "text/plain": [
       "[12, 45, [100, 89], 10]"
      ]
     },
     "execution_count": 33,
     "metadata": {},
     "output_type": "execute_result"
    }
   ],
   "source": [
    "t1"
   ]
  },
  {
   "cell_type": "code",
   "execution_count": 34,
   "id": "f0981e53-77f4-4fb0-a37c-f669f59d1b50",
   "metadata": {},
   "outputs": [],
   "source": [
    "t1[0]=1000"
   ]
  },
  {
   "cell_type": "code",
   "execution_count": 35,
   "id": "73d1f5e9-a4d0-48c0-bfaa-b592b49e7839",
   "metadata": {},
   "outputs": [
    {
     "data": {
      "text/plain": [
       "[1000, 45, [100, 89], 10]"
      ]
     },
     "execution_count": 35,
     "metadata": {},
     "output_type": "execute_result"
    }
   ],
   "source": [
    "t1"
   ]
  },
  {
   "cell_type": "code",
   "execution_count": 36,
   "id": "140017d0-ce88-47d5-82f4-24f6a5e3d284",
   "metadata": {},
   "outputs": [],
   "source": [
    "t1 = tuple(t1)"
   ]
  },
  {
   "cell_type": "code",
   "execution_count": 37,
   "id": "b5200639-0c51-4af3-bd3c-a232e801e18c",
   "metadata": {},
   "outputs": [
    {
     "data": {
      "text/plain": [
       "(1000, 45, [100, 89], 10)"
      ]
     },
     "execution_count": 37,
     "metadata": {},
     "output_type": "execute_result"
    }
   ],
   "source": [
    "t1"
   ]
  },
  {
   "cell_type": "code",
   "execution_count": 48,
   "id": "c4a48e55-162f-451d-a876-1fedac3f9815",
   "metadata": {},
   "outputs": [
    {
     "data": {
      "text/plain": [
       "((100, 89), 89)"
      ]
     },
     "execution_count": 48,
     "metadata": {},
     "output_type": "execute_result"
    }
   ],
   "source": [
    "tuple(t1[2]) "
   ]
  },
  {
   "cell_type": "code",
   "execution_count": 44,
   "id": "be9e3b31-7b93-4959-8540-bfb731781f9f",
   "metadata": {},
   "outputs": [
    {
     "data": {
      "text/plain": [
       "(1000, 45, [(100, 89), 89], 10)"
      ]
     },
     "execution_count": 44,
     "metadata": {},
     "output_type": "execute_result"
    }
   ],
   "source": [
    "t1"
   ]
  },
  {
   "cell_type": "code",
   "execution_count": 49,
   "id": "a3cbba77-d55d-475e-80c4-1ca826e6a8a8",
   "metadata": {},
   "outputs": [
    {
     "data": {
      "text/plain": [
       "4"
      ]
     },
     "execution_count": 49,
     "metadata": {},
     "output_type": "execute_result"
    }
   ],
   "source": [
    "#functions\n",
    "len(t1)"
   ]
  },
  {
   "cell_type": "code",
   "execution_count": 50,
   "id": "eafa96b5-d875-4d72-b8ff-69a1772c3f5b",
   "metadata": {},
   "outputs": [
    {
     "ename": "TypeError",
     "evalue": "'>' not supported between instances of 'list' and 'int'",
     "output_type": "error",
     "traceback": [
      "\u001b[1;31m---------------------------------------------------------------------------\u001b[0m",
      "\u001b[1;31mTypeError\u001b[0m                                 Traceback (most recent call last)",
      "Cell \u001b[1;32mIn[50], line 1\u001b[0m\n\u001b[1;32m----> 1\u001b[0m \u001b[38;5;28mmax\u001b[39m(t1)\n",
      "\u001b[1;31mTypeError\u001b[0m: '>' not supported between instances of 'list' and 'int'"
     ]
    }
   ],
   "source": [
    "max(t1)"
   ]
  },
  {
   "cell_type": "code",
   "execution_count": 51,
   "id": "4168afd1-19fa-49bb-96ac-d5ec12ec81a2",
   "metadata": {},
   "outputs": [
    {
     "name": "stdout",
     "output_type": "stream",
     "text": [
      "Help on class tuple in module builtins:\n",
      "\n",
      "class tuple(object)\n",
      " |  tuple(iterable=(), /)\n",
      " |\n",
      " |  Built-in immutable sequence.\n",
      " |\n",
      " |  If no argument is given, the constructor returns an empty tuple.\n",
      " |  If iterable is specified the tuple is initialized from iterable's items.\n",
      " |\n",
      " |  If the argument is a tuple, the return value is the same object.\n",
      " |\n",
      " |  Built-in subclasses:\n",
      " |      asyncgen_hooks\n",
      " |      MonthDayNano\n",
      " |      UnraisableHookArgs\n",
      " |\n",
      " |  Methods defined here:\n",
      " |\n",
      " |  __add__(self, value, /)\n",
      " |      Return self+value.\n",
      " |\n",
      " |  __contains__(self, key, /)\n",
      " |      Return bool(key in self).\n",
      " |\n",
      " |  __eq__(self, value, /)\n",
      " |      Return self==value.\n",
      " |\n",
      " |  __ge__(self, value, /)\n",
      " |      Return self>=value.\n",
      " |\n",
      " |  __getattribute__(self, name, /)\n",
      " |      Return getattr(self, name).\n",
      " |\n",
      " |  __getitem__(self, key, /)\n",
      " |      Return self[key].\n",
      " |\n",
      " |  __getnewargs__(self, /)\n",
      " |\n",
      " |  __gt__(self, value, /)\n",
      " |      Return self>value.\n",
      " |\n",
      " |  __hash__(self, /)\n",
      " |      Return hash(self).\n",
      " |\n",
      " |  __iter__(self, /)\n",
      " |      Implement iter(self).\n",
      " |\n",
      " |  __le__(self, value, /)\n",
      " |      Return self<=value.\n",
      " |\n",
      " |  __len__(self, /)\n",
      " |      Return len(self).\n",
      " |\n",
      " |  __lt__(self, value, /)\n",
      " |      Return self<value.\n",
      " |\n",
      " |  __mul__(self, value, /)\n",
      " |      Return self*value.\n",
      " |\n",
      " |  __ne__(self, value, /)\n",
      " |      Return self!=value.\n",
      " |\n",
      " |  __repr__(self, /)\n",
      " |      Return repr(self).\n",
      " |\n",
      " |  __rmul__(self, value, /)\n",
      " |      Return value*self.\n",
      " |\n",
      " |  count(self, value, /)\n",
      " |      Return number of occurrences of value.\n",
      " |\n",
      " |  index(self, value, start=0, stop=9223372036854775807, /)\n",
      " |      Return first index of value.\n",
      " |\n",
      " |      Raises ValueError if the value is not present.\n",
      " |\n",
      " |  ----------------------------------------------------------------------\n",
      " |  Class methods defined here:\n",
      " |\n",
      " |  __class_getitem__(...)\n",
      " |      See PEP 585\n",
      " |\n",
      " |  ----------------------------------------------------------------------\n",
      " |  Static methods defined here:\n",
      " |\n",
      " |  __new__(*args, **kwargs)\n",
      " |      Create and return a new object.  See help(type) for accurate signature.\n",
      "\n"
     ]
    }
   ],
   "source": [
    "help(tuple)"
   ]
  },
  {
   "cell_type": "code",
   "execution_count": 53,
   "id": "fd97d614-463b-477d-9300-787dfe4eabf4",
   "metadata": {},
   "outputs": [],
   "source": [
    "t = (23, 45, 78, 22, 46)"
   ]
  },
  {
   "cell_type": "code",
   "execution_count": 54,
   "id": "3e2c4690-84ee-4542-8590-3983119c65c8",
   "metadata": {},
   "outputs": [
    {
     "data": {
      "text/plain": [
       "5"
      ]
     },
     "execution_count": 54,
     "metadata": {},
     "output_type": "execute_result"
    }
   ],
   "source": [
    "len(t)"
   ]
  },
  {
   "cell_type": "code",
   "execution_count": 55,
   "id": "5cde2cce-7297-41f6-b4bf-e593383e36e8",
   "metadata": {},
   "outputs": [
    {
     "data": {
      "text/plain": [
       "90"
      ]
     },
     "execution_count": 55,
     "metadata": {},
     "output_type": "execute_result"
    }
   ],
   "source": [
    "max(t)"
   ]
  },
  {
   "cell_type": "code",
   "execution_count": 59,
   "id": "82775257-23db-43dc-8e35-e5245f0ee786",
   "metadata": {},
   "outputs": [],
   "source": [
    "#sets\n",
    "s = {23, 45, 46, 68, \"pune\"} #hetro #mutable\n"
   ]
  },
  {
   "cell_type": "code",
   "execution_count": 60,
   "id": "03943108-02f1-46f7-8a26-a4f180caa95e",
   "metadata": {},
   "outputs": [
    {
     "data": {
      "text/plain": [
       "{23, 45, 46, 68, 'pune'}"
      ]
     },
     "execution_count": 60,
     "metadata": {},
     "output_type": "execute_result"
    }
   ],
   "source": [
    "s"
   ]
  },
  {
   "cell_type": "code",
   "execution_count": 61,
   "id": "bfe9412d-41e4-4d60-add4-d1ee07358c76",
   "metadata": {},
   "outputs": [
    {
     "name": "stdout",
     "output_type": "stream",
     "text": [
      "Help on class set in module builtins:\n",
      "\n",
      "class set(object)\n",
      " |  set() -> new empty set object\n",
      " |  set(iterable) -> new set object\n",
      " |\n",
      " |  Build an unordered collection of unique elements.\n",
      " |\n",
      " |  Methods defined here:\n",
      " |\n",
      " |  __and__(self, value, /)\n",
      " |      Return self&value.\n",
      " |\n",
      " |  __contains__(...)\n",
      " |      x.__contains__(y) <==> y in x.\n",
      " |\n",
      " |  __eq__(self, value, /)\n",
      " |      Return self==value.\n",
      " |\n",
      " |  __ge__(self, value, /)\n",
      " |      Return self>=value.\n",
      " |\n",
      " |  __getattribute__(self, name, /)\n",
      " |      Return getattr(self, name).\n",
      " |\n",
      " |  __gt__(self, value, /)\n",
      " |      Return self>value.\n",
      " |\n",
      " |  __iand__(self, value, /)\n",
      " |      Return self&=value.\n",
      " |\n",
      " |  __init__(self, /, *args, **kwargs)\n",
      " |      Initialize self.  See help(type(self)) for accurate signature.\n",
      " |\n",
      " |  __ior__(self, value, /)\n",
      " |      Return self|=value.\n",
      " |\n",
      " |  __isub__(self, value, /)\n",
      " |      Return self-=value.\n",
      " |\n",
      " |  __iter__(self, /)\n",
      " |      Implement iter(self).\n",
      " |\n",
      " |  __ixor__(self, value, /)\n",
      " |      Return self^=value.\n",
      " |\n",
      " |  __le__(self, value, /)\n",
      " |      Return self<=value.\n",
      " |\n",
      " |  __len__(self, /)\n",
      " |      Return len(self).\n",
      " |\n",
      " |  __lt__(self, value, /)\n",
      " |      Return self<value.\n",
      " |\n",
      " |  __ne__(self, value, /)\n",
      " |      Return self!=value.\n",
      " |\n",
      " |  __or__(self, value, /)\n",
      " |      Return self|value.\n",
      " |\n",
      " |  __rand__(self, value, /)\n",
      " |      Return value&self.\n",
      " |\n",
      " |  __reduce__(...)\n",
      " |      Return state information for pickling.\n",
      " |\n",
      " |  __repr__(self, /)\n",
      " |      Return repr(self).\n",
      " |\n",
      " |  __ror__(self, value, /)\n",
      " |      Return value|self.\n",
      " |\n",
      " |  __rsub__(self, value, /)\n",
      " |      Return value-self.\n",
      " |\n",
      " |  __rxor__(self, value, /)\n",
      " |      Return value^self.\n",
      " |\n",
      " |  __sizeof__(...)\n",
      " |      S.__sizeof__() -> size of S in memory, in bytes\n",
      " |\n",
      " |  __sub__(self, value, /)\n",
      " |      Return self-value.\n",
      " |\n",
      " |  __xor__(self, value, /)\n",
      " |      Return self^value.\n",
      " |\n",
      " |  add(...)\n",
      " |      Add an element to a set.\n",
      " |\n",
      " |      This has no effect if the element is already present.\n",
      " |\n",
      " |  clear(...)\n",
      " |      Remove all elements from this set.\n",
      " |\n",
      " |  copy(...)\n",
      " |      Return a shallow copy of a set.\n",
      " |\n",
      " |  difference(...)\n",
      " |      Return the difference of two or more sets as a new set.\n",
      " |\n",
      " |      (i.e. all elements that are in this set but not the others.)\n",
      " |\n",
      " |  difference_update(...)\n",
      " |      Remove all elements of another set from this set.\n",
      " |\n",
      " |  discard(...)\n",
      " |      Remove an element from a set if it is a member.\n",
      " |\n",
      " |      Unlike set.remove(), the discard() method does not raise\n",
      " |      an exception when an element is missing from the set.\n",
      " |\n",
      " |  intersection(...)\n",
      " |      Return the intersection of two sets as a new set.\n",
      " |\n",
      " |      (i.e. all elements that are in both sets.)\n",
      " |\n",
      " |  intersection_update(...)\n",
      " |      Update a set with the intersection of itself and another.\n",
      " |\n",
      " |  isdisjoint(...)\n",
      " |      Return True if two sets have a null intersection.\n",
      " |\n",
      " |  issubset(self, other, /)\n",
      " |      Test whether every element in the set is in other.\n",
      " |\n",
      " |  issuperset(self, other, /)\n",
      " |      Test whether every element in other is in the set.\n",
      " |\n",
      " |  pop(...)\n",
      " |      Remove and return an arbitrary set element.\n",
      " |      Raises KeyError if the set is empty.\n",
      " |\n",
      " |  remove(...)\n",
      " |      Remove an element from a set; it must be a member.\n",
      " |\n",
      " |      If the element is not a member, raise a KeyError.\n",
      " |\n",
      " |  symmetric_difference(...)\n",
      " |      Return the symmetric difference of two sets as a new set.\n",
      " |\n",
      " |      (i.e. all elements that are in exactly one of the sets.)\n",
      " |\n",
      " |  symmetric_difference_update(...)\n",
      " |      Update a set with the symmetric difference of itself and another.\n",
      " |\n",
      " |  union(...)\n",
      " |      Return the union of sets as a new set.\n",
      " |\n",
      " |      (i.e. all elements that are in either set.)\n",
      " |\n",
      " |  update(...)\n",
      " |      Update a set with the union of itself and others.\n",
      " |\n",
      " |  ----------------------------------------------------------------------\n",
      " |  Class methods defined here:\n",
      " |\n",
      " |  __class_getitem__(...)\n",
      " |      See PEP 585\n",
      " |\n",
      " |  ----------------------------------------------------------------------\n",
      " |  Static methods defined here:\n",
      " |\n",
      " |  __new__(*args, **kwargs)\n",
      " |      Create and return a new object.  See help(type) for accurate signature.\n",
      " |\n",
      " |  ----------------------------------------------------------------------\n",
      " |  Data and other attributes defined here:\n",
      " |\n",
      " |  __hash__ = None\n",
      "\n"
     ]
    }
   ],
   "source": [
    "help(set)"
   ]
  },
  {
   "cell_type": "code",
   "execution_count": 63,
   "id": "bff8789e-a95c-49dc-a23a-f7952de4c760",
   "metadata": {},
   "outputs": [
    {
     "ename": "TypeError",
     "evalue": "'set' object does not support item assignment",
     "output_type": "error",
     "traceback": [
      "\u001b[1;31m---------------------------------------------------------------------------\u001b[0m",
      "\u001b[1;31mTypeError\u001b[0m                                 Traceback (most recent call last)",
      "Cell \u001b[1;32mIn[63], line 1\u001b[0m\n\u001b[1;32m----> 1\u001b[0m s[\u001b[38;5;241m2\u001b[39m] \u001b[38;5;241m=\u001b[39m \u001b[38;5;241m23\u001b[39m\n",
      "\u001b[1;31mTypeError\u001b[0m: 'set' object does not support item assignment"
     ]
    }
   ],
   "source": [
    "s[2] = 23"
   ]
  },
  {
   "cell_type": "code",
   "execution_count": 67,
   "id": "09eb872b-2b5a-40ba-8419-00412de4c93b",
   "metadata": {},
   "outputs": [
    {
     "ename": "TypeError",
     "evalue": "'set' object is not subscriptable",
     "output_type": "error",
     "traceback": [
      "\u001b[1;31m---------------------------------------------------------------------------\u001b[0m",
      "\u001b[1;31mTypeError\u001b[0m                                 Traceback (most recent call last)",
      "Cell \u001b[1;32mIn[67], line 1\u001b[0m\n\u001b[1;32m----> 1\u001b[0m s[\u001b[38;5;241m1\u001b[39m]\n",
      "\u001b[1;31mTypeError\u001b[0m: 'set' object is not subscriptable"
     ]
    }
   ],
   "source": [
    "s[1] #unordered"
   ]
  },
  {
   "cell_type": "code",
   "execution_count": 68,
   "id": "7006649d-b899-4119-9dcd-0f8ec744a2c8",
   "metadata": {},
   "outputs": [],
   "source": [
    "s = {}"
   ]
  },
  {
   "cell_type": "code",
   "execution_count": 70,
   "id": "23685e5b-7099-4fbd-b9de-5d8b47666650",
   "metadata": {},
   "outputs": [
    {
     "data": {
      "text/plain": [
       "dict"
      ]
     },
     "execution_count": 70,
     "metadata": {},
     "output_type": "execute_result"
    }
   ],
   "source": [
    "type(s)"
   ]
  },
  {
   "cell_type": "code",
   "execution_count": 71,
   "id": "817a4f20-d033-440e-8b79-4e1703b3e42f",
   "metadata": {},
   "outputs": [],
   "source": [
    "#empty set \n",
    "s = set ()\n"
   ]
  },
  {
   "cell_type": "code",
   "execution_count": 72,
   "id": "178a0544-80ba-4c94-adcd-ea57fc5d1e55",
   "metadata": {},
   "outputs": [
    {
     "data": {
      "text/plain": [
       "set"
      ]
     },
     "execution_count": 72,
     "metadata": {},
     "output_type": "execute_result"
    }
   ],
   "source": [
    "type(s)"
   ]
  },
  {
   "cell_type": "code",
   "execution_count": 73,
   "id": "489987be-069e-447e-aa33-74aa62b4b372",
   "metadata": {},
   "outputs": [],
   "source": [
    "s = {1, 2, 3}"
   ]
  },
  {
   "cell_type": "code",
   "execution_count": 74,
   "id": "26105c28-3702-496f-a4dc-652aab03fbc7",
   "metadata": {},
   "outputs": [],
   "source": [
    "s.add(4)"
   ]
  },
  {
   "cell_type": "code",
   "execution_count": 75,
   "id": "cc043925-5b61-4171-840c-398603c8273a",
   "metadata": {},
   "outputs": [
    {
     "data": {
      "text/plain": [
       "{1, 2, 3, 4}"
      ]
     },
     "execution_count": 75,
     "metadata": {},
     "output_type": "execute_result"
    }
   ],
   "source": [
    "s"
   ]
  },
  {
   "cell_type": "code",
   "execution_count": 76,
   "id": "2ecf4f5a-2ce9-4c28-a39f-41356bf56732",
   "metadata": {},
   "outputs": [],
   "source": [
    "s.add(2)"
   ]
  },
  {
   "cell_type": "code",
   "execution_count": 77,
   "id": "9ff63ece-847f-4fc5-91a2-1d08c64dd3b3",
   "metadata": {},
   "outputs": [
    {
     "data": {
      "text/plain": [
       "{1, 2, 3, 4}"
      ]
     },
     "execution_count": 77,
     "metadata": {},
     "output_type": "execute_result"
    }
   ],
   "source": [
    "s"
   ]
  },
  {
   "cell_type": "code",
   "execution_count": 78,
   "id": "71d9a57e-977d-411b-9d13-8d972577d78a",
   "metadata": {},
   "outputs": [],
   "source": [
    "s.remove(2)"
   ]
  },
  {
   "cell_type": "code",
   "execution_count": 79,
   "id": "ba21f37f-0038-4fc9-9e81-7d5082bdd98c",
   "metadata": {},
   "outputs": [
    {
     "data": {
      "text/plain": [
       "{1, 3, 4}"
      ]
     },
     "execution_count": 79,
     "metadata": {},
     "output_type": "execute_result"
    }
   ],
   "source": [
    "s"
   ]
  },
  {
   "cell_type": "code",
   "execution_count": 80,
   "id": "d83e8957-9956-4822-ba1a-61b5d55995e9",
   "metadata": {},
   "outputs": [],
   "source": [
    "s.discard(1)"
   ]
  },
  {
   "cell_type": "code",
   "execution_count": 81,
   "id": "d71c6e8a-2184-4271-a1e0-030ddb783d89",
   "metadata": {},
   "outputs": [
    {
     "data": {
      "text/plain": [
       "{3, 4}"
      ]
     },
     "execution_count": 81,
     "metadata": {},
     "output_type": "execute_result"
    }
   ],
   "source": [
    "s"
   ]
  },
  {
   "cell_type": "code",
   "execution_count": 82,
   "id": "55779946-c23a-47c1-ae35-9a018916bd7b",
   "metadata": {},
   "outputs": [],
   "source": [
    "s1 = {4, 5, 6}\n",
    "s1.discard(4)"
   ]
  },
  {
   "cell_type": "code",
   "execution_count": 83,
   "id": "b7b37532-d949-477a-bc86-d87f7afcd6ae",
   "metadata": {},
   "outputs": [
    {
     "data": {
      "text/plain": [
       "{5, 6}"
      ]
     },
     "execution_count": 83,
     "metadata": {},
     "output_type": "execute_result"
    }
   ],
   "source": [
    "s1"
   ]
  },
  {
   "cell_type": "code",
   "execution_count": 84,
   "id": "a8704cfe-7446-448e-bd67-b49724fc3ade",
   "metadata": {},
   "outputs": [],
   "source": [
    "s.remove(4)"
   ]
  },
  {
   "cell_type": "code",
   "execution_count": 85,
   "id": "a93061d2-2e0a-4aa4-8ee1-642ce263ffc3",
   "metadata": {},
   "outputs": [
    {
     "data": {
      "text/plain": [
       "{3}"
      ]
     },
     "execution_count": 85,
     "metadata": {},
     "output_type": "execute_result"
    }
   ],
   "source": [
    "s"
   ]
  },
  {
   "cell_type": "code",
   "execution_count": 86,
   "id": "e40c6e28-d52d-4d00-b184-a7d0910f81e8",
   "metadata": {},
   "outputs": [],
   "source": [
    "s3 = {1, 2, 3, 4}\n",
    "s4 = {3, 4, 5, 6}"
   ]
  },
  {
   "cell_type": "code",
   "execution_count": 87,
   "id": "77ca5cc1-10cb-4816-a4c2-773d7ffd4850",
   "metadata": {},
   "outputs": [
    {
     "data": {
      "text/plain": [
       "{1, 2, 3, 4, 5, 6}"
      ]
     },
     "execution_count": 87,
     "metadata": {},
     "output_type": "execute_result"
    }
   ],
   "source": [
    "s3.union(s4)"
   ]
  },
  {
   "cell_type": "code",
   "execution_count": 88,
   "id": "4a023740-8c1e-4221-8ce2-704a9754d30f",
   "metadata": {},
   "outputs": [
    {
     "data": {
      "text/plain": [
       "{1, 2, 3, 4, 5, 6}"
      ]
     },
     "execution_count": 88,
     "metadata": {},
     "output_type": "execute_result"
    }
   ],
   "source": [
    "s3 | s4"
   ]
  },
  {
   "cell_type": "code",
   "execution_count": 91,
   "id": "771b129f-deb0-467e-b2e2-dae97ca5c1cd",
   "metadata": {},
   "outputs": [
    {
     "data": {
      "text/plain": [
       "{3, 4}"
      ]
     },
     "execution_count": 91,
     "metadata": {},
     "output_type": "execute_result"
    }
   ],
   "source": [
    "s3.intersection(s4)"
   ]
  },
  {
   "cell_type": "code",
   "execution_count": 92,
   "id": "2e99d990-35de-41bc-a0fc-e7c56f962b4d",
   "metadata": {},
   "outputs": [
    {
     "data": {
      "text/plain": [
       "{1, 2}"
      ]
     },
     "execution_count": 92,
     "metadata": {},
     "output_type": "execute_result"
    }
   ],
   "source": [
    "s3.difference(s4)"
   ]
  },
  {
   "cell_type": "code",
   "execution_count": 95,
   "id": "b8f6899f-89e4-4e06-8cdc-100eae46e2b6",
   "metadata": {},
   "outputs": [
    {
     "data": {
      "text/plain": [
       "{1, 2, 5, 6}"
      ]
     },
     "execution_count": 95,
     "metadata": {},
     "output_type": "execute_result"
    }
   ],
   "source": [
    "s3.symmetric_difference(s4)"
   ]
  },
  {
   "cell_type": "code",
   "execution_count": 98,
   "id": "ed43c23b-afc1-4f82-9cd4-316c0fb85694",
   "metadata": {},
   "outputs": [],
   "source": [
    "s1 = {1, 2, 3, 4, 5}\n",
    "s2 = {1, 2, 3}\n",
    "s3 = {1, 6, 8}"
   ]
  },
  {
   "cell_type": "code",
   "execution_count": 100,
   "id": "c177fed0-81df-43cf-9719-9ae10607b3e4",
   "metadata": {},
   "outputs": [
    {
     "data": {
      "text/plain": [
       "True"
      ]
     },
     "execution_count": 100,
     "metadata": {},
     "output_type": "execute_result"
    }
   ],
   "source": [
    "s2.issubset(s1)"
   ]
  },
  {
   "cell_type": "code",
   "execution_count": 102,
   "id": "160c359a-74bc-4a79-9efb-5fcd6ad9bec3",
   "metadata": {},
   "outputs": [
    {
     "data": {
      "text/plain": [
       "True"
      ]
     },
     "execution_count": 102,
     "metadata": {},
     "output_type": "execute_result"
    }
   ],
   "source": [
    "s1.issuperset(s2)"
   ]
  },
  {
   "cell_type": "code",
   "execution_count": 104,
   "id": "b2cc9235-7f4e-422d-b6a5-cb07c01b4eef",
   "metadata": {},
   "outputs": [
    {
     "data": {
      "text/plain": [
       "False"
      ]
     },
     "execution_count": 104,
     "metadata": {},
     "output_type": "execute_result"
    }
   ],
   "source": [
    "s3.issubset(s1)"
   ]
  },
  {
   "cell_type": "code",
   "execution_count": 105,
   "id": "ddb50d02-fec5-4c7a-8e6a-f3320bc481ad",
   "metadata": {},
   "outputs": [
    {
     "data": {
      "text/plain": [
       "True"
      ]
     },
     "execution_count": 105,
     "metadata": {},
     "output_type": "execute_result"
    }
   ],
   "source": [
    "3 in s1"
   ]
  },
  {
   "cell_type": "code",
   "execution_count": 106,
   "id": "c8062f91-5e4d-485e-b03c-a87c70d354ba",
   "metadata": {},
   "outputs": [],
   "source": [
    "#dictionary"
   ]
  },
  {
   "cell_type": "code",
   "execution_count": 108,
   "id": "43aee765-5662-4078-83fe-d2e6c2158ab5",
   "metadata": {},
   "outputs": [
    {
     "data": {
      "text/plain": [
       "{1: 'Ajay', 2: 'ria', 3: 'sia', 4: 'kalyani'}"
      ]
     },
     "execution_count": 108,
     "metadata": {},
     "output_type": "execute_result"
    }
   ],
   "source": [
    "d = {1:\"Ajay\", 2: \"ria\", 3:\"sia\", 4: \"kalyani\"}\n",
    "d"
   ]
  },
  {
   "cell_type": "code",
   "execution_count": 111,
   "id": "05e7f8b3-37bb-48c4-b8a1-457601be7f8a",
   "metadata": {},
   "outputs": [
    {
     "data": {
      "text/plain": [
       "'Ajay'"
      ]
     },
     "execution_count": 111,
     "metadata": {},
     "output_type": "execute_result"
    }
   ],
   "source": [
    "d[1]"
   ]
  },
  {
   "cell_type": "code",
   "execution_count": 115,
   "id": "c3ed2947-0161-4583-acea-6e3cd5fd282a",
   "metadata": {},
   "outputs": [
    {
     "data": {
      "text/plain": [
       "{1: 'Ajay', 2: 'ria', 3: 'sia', 4: 'kalyani', 11: 'sia', 12: 23}"
      ]
     },
     "execution_count": 115,
     "metadata": {},
     "output_type": "execute_result"
    }
   ],
   "source": [
    "#keys are unique, values can be duplicated \n",
    "\n",
    "d = {1:\"Ajay\", 2: \"ria\", 3:\"sia\", 4: \"kalyani\", 11:\"sia\",12: 23}\n",
    "\n",
    "d"
   ]
  },
  {
   "cell_type": "code",
   "execution_count": 117,
   "id": "7188326f-7faa-452e-b190-4019d2c4fd4a",
   "metadata": {},
   "outputs": [],
   "source": [
    "d[3] = \"ketaki\""
   ]
  },
  {
   "cell_type": "code",
   "execution_count": 118,
   "id": "77a9237a-2a14-4ae6-9b1a-bfe6c91b1296",
   "metadata": {},
   "outputs": [
    {
     "data": {
      "text/plain": [
       "{1: 'Ajay', 2: 'ria', 3: 'ketaki', 4: 'kalyani', 11: 'sia', 12: 23}"
      ]
     },
     "execution_count": 118,
     "metadata": {},
     "output_type": "execute_result"
    }
   ],
   "source": [
    "d"
   ]
  },
  {
   "cell_type": "code",
   "execution_count": 119,
   "id": "6c885261-ab94-4ed6-bbb2-391701c20d68",
   "metadata": {},
   "outputs": [
    {
     "data": {
      "text/plain": [
       "dict_keys([1, 2, 3, 4, 11, 12])"
      ]
     },
     "execution_count": 119,
     "metadata": {},
     "output_type": "execute_result"
    }
   ],
   "source": [
    "d.keys()"
   ]
  },
  {
   "cell_type": "code",
   "execution_count": 120,
   "id": "39c5f289-d1fd-4bfd-b5ed-f757fe1f38f5",
   "metadata": {},
   "outputs": [
    {
     "data": {
      "text/plain": [
       "dict_values(['Ajay', 'ria', 'ketaki', 'kalyani', 'sia', 23])"
      ]
     },
     "execution_count": 120,
     "metadata": {},
     "output_type": "execute_result"
    }
   ],
   "source": [
    "d.values()"
   ]
  },
  {
   "cell_type": "code",
   "execution_count": 121,
   "id": "f655d69e-848d-4acd-8159-a40d81b174fe",
   "metadata": {},
   "outputs": [],
   "source": [
    "#multiple way to create tuple"
   ]
  },
  {
   "cell_type": "code",
   "execution_count": 126,
   "id": "5fc42d47-bec0-447a-ab29-9adacbd00e7b",
   "metadata": {},
   "outputs": [],
   "source": [
    "l = [(1, 'ok'),(2, 'not ok')]"
   ]
  },
  {
   "cell_type": "code",
   "execution_count": 127,
   "id": "cc80d8ad-7d3e-401b-84e2-b731cde4a2a8",
   "metadata": {},
   "outputs": [
    {
     "data": {
      "text/plain": [
       "{1: 'ok', 2: 'not ok'}"
      ]
     },
     "execution_count": 127,
     "metadata": {},
     "output_type": "execute_result"
    }
   ],
   "source": [
    "dict(l)"
   ]
  },
  {
   "cell_type": "code",
   "execution_count": 128,
   "id": "a6a13750-7f22-4db6-aabc-630ef6386ae1",
   "metadata": {},
   "outputs": [],
   "source": [
    "d[12] = [1, 2, 3, 4]"
   ]
  },
  {
   "cell_type": "code",
   "execution_count": 129,
   "id": "2334670f-5df6-4deb-8742-e82bea56b148",
   "metadata": {},
   "outputs": [
    {
     "data": {
      "text/plain": [
       "{1: 'Ajay', 2: 'ria', 3: 'ketaki', 4: 'kalyani', 11: 'sia', 12: [1, 2, 3, 4]}"
      ]
     },
     "execution_count": 129,
     "metadata": {},
     "output_type": "execute_result"
    }
   ],
   "source": [
    "d"
   ]
  },
  {
   "cell_type": "code",
   "execution_count": 130,
   "id": "14f9c5a4-1e14-4421-bca2-c34e53574f79",
   "metadata": {},
   "outputs": [
    {
     "data": {
      "text/plain": [
       "'kalyani'"
      ]
     },
     "execution_count": 130,
     "metadata": {},
     "output_type": "execute_result"
    }
   ],
   "source": [
    "d.pop(4)"
   ]
  },
  {
   "cell_type": "code",
   "execution_count": 131,
   "id": "ff7cf8ce-909d-4ab3-b2f9-d90f660ea634",
   "metadata": {},
   "outputs": [
    {
     "data": {
      "text/plain": [
       "0"
      ]
     },
     "execution_count": 131,
     "metadata": {},
     "output_type": "execute_result"
    }
   ],
   "source": [
    "d.pop(199,0)"
   ]
  },
  {
   "cell_type": "code",
   "execution_count": 140,
   "id": "fdc1a3ae-104c-4121-8e9f-988e1b860419",
   "metadata": {},
   "outputs": [
    {
     "name": "stdout",
     "output_type": "stream",
     "text": [
      "1 -> pune\n",
      "2 -> mumbai\n",
      "4 -> city\n",
      "state -> 5\n"
     ]
    }
   ],
   "source": [
    "d = {1: 'pune', 2: 'mumbai', 4: 'city', 'state' : 5}\n",
    "for ind,val in d.items():\n",
    "    print(f\"{ind} -> {val}\")\n",
    "     "
   ]
  },
  {
   "cell_type": "code",
   "execution_count": 146,
   "id": "36b7cd9d-118c-4c67-9afa-4b08a332efb7",
   "metadata": {},
   "outputs": [
    {
     "name": "stdout",
     "output_type": "stream",
     "text": [
      "List is not empty\n"
     ]
    }
   ],
   "source": [
    "#wap to check a list is empty or not\n",
    "\n",
    "l = [12, 34 ,56, 33, 58]\n",
    "\n",
    "if l==0:\n",
    "    print(\"List is empty!!\")\n",
    "else:\n",
    "    print(\"List is not empty\")"
   ]
  },
  {
   "cell_type": "code",
   "execution_count": 157,
   "id": "f6dc40ee-8e15-4d56-a01b-1720c8feabd1",
   "metadata": {},
   "outputs": [
    {
     "name": "stdout",
     "output_type": "stream",
     "text": [
      "['green', 'White', 'black']\n"
     ]
    }
   ],
   "source": [
    "#WAP to print a specifiedd list after removing the 0th ,4th and 5th elements\n",
    "\n",
    "l = ['red','green', 'White','black', 'pink', 'yellow']\n",
    "l.remove('red')\n",
    "l.remove('pink')\n",
    "l.remove('yellow')\n",
    "print(l)"
   ]
  },
  {
   "cell_type": "code",
   "execution_count": 159,
   "id": "47e78aa6-207f-4049-83f7-3f52ccc1e9d0",
   "metadata": {},
   "outputs": [
    {
     "name": "stdout",
     "output_type": "stream",
     "text": [
      "['p1', 'p2', 'p3', 'p4', 'p5', 'q1', 'q2', 'q3', 'q4', 'q5']\n"
     ]
    }
   ],
   "source": [
    "#WAP to create a list by concatenating a given list ehich range goes from 1 to n\n",
    "\n",
    "p = ['p1' , 'p2', 'p3', 'p4', 'p5']\n",
    "q = ['q1' , 'q2', 'q3', 'q4', 'q5']\n",
    "result = p + q \n",
    "print(result)"
   ]
  },
  {
   "cell_type": "code",
   "execution_count": 160,
   "id": "af043883-f638-42d3-b555-72892da7359e",
   "metadata": {},
   "outputs": [],
   "source": [
    "t1 = (21.33, 34.42 ,56.53 ,77.65 ,23.33, 46.54)"
   ]
  },
  {
   "cell_type": "code",
   "execution_count": 161,
   "id": "3f1fa1c4-0803-470b-b14a-6cf2d4a089ff",
   "metadata": {},
   "outputs": [
    {
     "data": {
      "text/plain": [
       "(21.33, 34.42, 56.53, 77.65, 23.33, 46.54)"
      ]
     },
     "execution_count": 161,
     "metadata": {},
     "output_type": "execute_result"
    }
   ],
   "source": [
    "t1"
   ]
  },
  {
   "cell_type": "code",
   "execution_count": 164,
   "id": "dbb61f99-3c9d-485c-8a8c-9f40649752eb",
   "metadata": {},
   "outputs": [
    {
     "data": {
      "text/plain": [
       "[21.33, 23.33, 34.42, 46.54, 56.53, 77.65]"
      ]
     },
     "execution_count": 164,
     "metadata": {},
     "output_type": "execute_result"
    }
   ],
   "source": [
    "sorted(t1)"
   ]
  },
  {
   "cell_type": "code",
   "execution_count": 165,
   "id": "b187d4ce-fc31-419f-bf27-3dc83d59241e",
   "metadata": {},
   "outputs": [
    {
     "name": "stdout",
     "output_type": "stream",
     "text": [
      "Elements are not present till 50\n"
     ]
    }
   ],
   "source": [
    "if 50 in t1:\n",
    "    print(\"Elements are present till 50\")\n",
    "else:\n",
    "    print(\"Elements are not present till 50\")"
   ]
  },
  {
   "cell_type": "code",
   "execution_count": 166,
   "id": "f4b1724e-b33f-4add-9559-6573ea4e10bd",
   "metadata": {},
   "outputs": [],
   "source": [
    "t1 = set(t1)"
   ]
  },
  {
   "cell_type": "code",
   "execution_count": 167,
   "id": "e4a24497-9d1f-4774-86af-3c0386916c76",
   "metadata": {},
   "outputs": [
    {
     "data": {
      "text/plain": [
       "set"
      ]
     },
     "execution_count": 167,
     "metadata": {},
     "output_type": "execute_result"
    }
   ],
   "source": [
    "type(t1)"
   ]
  },
  {
   "cell_type": "code",
   "execution_count": 168,
   "id": "62772356-aed4-44e5-8bb8-eb7d5cc7aa7e",
   "metadata": {},
   "outputs": [],
   "source": [
    "#8.\tCreate a dictionary of elements: {‘a’: ‘apple’, ‘b’: ‘ball’, ‘c’: ‘cat’, ‘d’: ‘doll’, ‘k’: ‘king’} and perform following operations.\n",
    "#1.\tAccess the data at key ‘k’.\n",
    "#2.\tAdd a new values ‘z’: ‘zebra’\n",
    "#3.\tReplace the contents of ‘d’ as ‘dog’\n",
    "#4.\tPrint all the values from this dictionary.\n",
    "#5.\tFind the length of this dictionary.\n",
    "\n"
   ]
  },
  {
   "cell_type": "code",
   "execution_count": 173,
   "id": "663c0793-e018-45d2-a2e8-28b33a07d26e",
   "metadata": {},
   "outputs": [
    {
     "data": {
      "text/plain": [
       "'king'"
      ]
     },
     "execution_count": 173,
     "metadata": {},
     "output_type": "execute_result"
    }
   ],
   "source": [
    "d1 = {'a': 'apple', 'b': 'ball', 'c': 'cat', 'd': 'doll', 'k': 'king'}\n",
    "d1['k']"
   ]
  },
  {
   "cell_type": "code",
   "execution_count": null,
   "id": "02370c77-7f45-4081-981b-db42c82c7799",
   "metadata": {},
   "outputs": [],
   "source": []
  },
  {
   "cell_type": "code",
   "execution_count": null,
   "id": "baefeecb-4065-4627-af8c-8e5fa249fe3d",
   "metadata": {},
   "outputs": [],
   "source": []
  }
 ],
 "metadata": {
  "kernelspec": {
   "display_name": "Python [conda env:base] *",
   "language": "python",
   "name": "conda-base-py"
  },
  "language_info": {
   "codemirror_mode": {
    "name": "ipython",
    "version": 3
   },
   "file_extension": ".py",
   "mimetype": "text/x-python",
   "name": "python",
   "nbconvert_exporter": "python",
   "pygments_lexer": "ipython3",
   "version": "3.12.7"
  }
 },
 "nbformat": 4,
 "nbformat_minor": 5
}
