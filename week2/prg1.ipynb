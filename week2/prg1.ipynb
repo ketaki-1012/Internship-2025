{
 "cells": [
  {
   "cell_type": "code",
   "execution_count": 1,
   "id": "ff50ce64-6ce2-4a49-b20e-69ffc5e2e3f1",
   "metadata": {},
   "outputs": [
    {
     "name": "stdout",
     "output_type": "stream",
     "text": [
      "Hello world\n"
     ]
    }
   ],
   "source": [
    "print(\"Hello world\")"
   ]
  },
  {
   "cell_type": "code",
   "execution_count": 2,
   "id": "1682d0a3-37f1-4587-880a-4de5881dcf4b",
   "metadata": {},
   "outputs": [],
   "source": [
    "num = 14"
   ]
  },
  {
   "cell_type": "code",
   "execution_count": 3,
   "id": "e527c7a6-0d66-446b-943b-1a250c8c91f5",
   "metadata": {},
   "outputs": [
    {
     "name": "stdout",
     "output_type": "stream",
     "text": [
      "14\n"
     ]
    }
   ],
   "source": [
    "print(num)"
   ]
  },
  {
   "cell_type": "code",
   "execution_count": 4,
   "id": "1bb6b9ba-69df-4a85-97b9-ee860c1f6c4d",
   "metadata": {},
   "outputs": [],
   "source": [
    "name = \"Ketaki\""
   ]
  },
  {
   "cell_type": "code",
   "execution_count": 5,
   "id": "c1153953-ffc7-4859-8bf2-2c631832800c",
   "metadata": {},
   "outputs": [
    {
     "name": "stdout",
     "output_type": "stream",
     "text": [
      "Ketaki\n"
     ]
    }
   ],
   "source": [
    "print(name)"
   ]
  },
  {
   "cell_type": "code",
   "execution_count": 6,
   "id": "78bf59f2-308f-4e76-b23d-c20acc9f9f9f",
   "metadata": {},
   "outputs": [],
   "source": [
    "num1 = 20\n",
    "num2 = 23.3\n",
    "num3 = \"ketaki\""
   ]
  },
  {
   "cell_type": "code",
   "execution_count": 7,
   "id": "db141d48-7ca5-47ca-b905-813572e04ef6",
   "metadata": {},
   "outputs": [
    {
     "data": {
      "text/plain": [
       "int"
      ]
     },
     "execution_count": 7,
     "metadata": {},
     "output_type": "execute_result"
    }
   ],
   "source": [
    "type(num1)"
   ]
  },
  {
   "cell_type": "code",
   "execution_count": 8,
   "id": "b13c91f0-9220-422c-a6aa-70fbd8775a2f",
   "metadata": {},
   "outputs": [
    {
     "data": {
      "text/plain": [
       "float"
      ]
     },
     "execution_count": 8,
     "metadata": {},
     "output_type": "execute_result"
    }
   ],
   "source": [
    "type(num2)"
   ]
  },
  {
   "cell_type": "code",
   "execution_count": 9,
   "id": "0afe77d5-5511-456b-9612-5ced88bc43da",
   "metadata": {},
   "outputs": [
    {
     "data": {
      "text/plain": [
       "str"
      ]
     },
     "execution_count": 9,
     "metadata": {},
     "output_type": "execute_result"
    }
   ],
   "source": [
    "type(num3)\n"
   ]
  },
  {
   "cell_type": "code",
   "execution_count": 10,
   "id": "8c68e5b4-26ed-4b9b-8c5b-318638a746a7",
   "metadata": {},
   "outputs": [],
   "source": [
    "sent = 'i like \"python \"'"
   ]
  },
  {
   "cell_type": "code",
   "execution_count": 11,
   "id": "35a78b67-de3e-4335-9e52-532c89e74448",
   "metadata": {},
   "outputs": [
    {
     "data": {
      "text/plain": [
       "'i like \"python \"'"
      ]
     },
     "execution_count": 11,
     "metadata": {},
     "output_type": "execute_result"
    }
   ],
   "source": [
    "sent"
   ]
  },
  {
   "cell_type": "code",
   "execution_count": 12,
   "id": "186a00f5-eccd-4846-993e-104b235b9889",
   "metadata": {},
   "outputs": [],
   "source": [
    "a ,b , c =12,12.34,343"
   ]
  },
  {
   "cell_type": "code",
   "execution_count": 13,
   "id": "4c894446-bc9e-4a85-b8cc-43a8668347da",
   "metadata": {},
   "outputs": [
    {
     "data": {
      "text/plain": [
       "12"
      ]
     },
     "execution_count": 13,
     "metadata": {},
     "output_type": "execute_result"
    }
   ],
   "source": [
    "a"
   ]
  },
  {
   "cell_type": "code",
   "execution_count": 14,
   "id": "d89b38e0-d62c-4b7d-a0ec-f485762d10b3",
   "metadata": {},
   "outputs": [
    {
     "data": {
      "text/plain": [
       "12.34"
      ]
     },
     "execution_count": 14,
     "metadata": {},
     "output_type": "execute_result"
    }
   ],
   "source": [
    "b"
   ]
  },
  {
   "cell_type": "code",
   "execution_count": 15,
   "id": "0aba05b3-581d-4126-90fc-df809a1584f0",
   "metadata": {},
   "outputs": [
    {
     "data": {
      "text/plain": [
       "343"
      ]
     },
     "execution_count": 15,
     "metadata": {},
     "output_type": "execute_result"
    }
   ],
   "source": [
    "c"
   ]
  },
  {
   "cell_type": "code",
   "execution_count": 16,
   "id": "2cb8312d-e03e-4f0d-91b7-a97e2b09f51c",
   "metadata": {},
   "outputs": [],
   "source": [
    "name = \"KETaki\""
   ]
  },
  {
   "cell_type": "code",
   "execution_count": 17,
   "id": "1132be7e-2ca0-4993-b556-e851f5fb87c4",
   "metadata": {},
   "outputs": [
    {
     "data": {
      "text/plain": [
       "'ketaki'"
      ]
     },
     "execution_count": 17,
     "metadata": {},
     "output_type": "execute_result"
    }
   ],
   "source": [
    "name.lower()\n"
   ]
  },
  {
   "cell_type": "code",
   "execution_count": 18,
   "id": "c860a601-dbac-470c-b6a5-fd27d9daecc4",
   "metadata": {},
   "outputs": [
    {
     "data": {
      "text/plain": [
       "6"
      ]
     },
     "execution_count": 18,
     "metadata": {},
     "output_type": "execute_result"
    }
   ],
   "source": [
    "len(name)"
   ]
  },
  {
   "cell_type": "code",
   "execution_count": 19,
   "id": "cac1d588-e47f-4ce8-8235-c813bb790670",
   "metadata": {},
   "outputs": [
    {
     "data": {
      "text/plain": [
       "False"
      ]
     },
     "execution_count": 19,
     "metadata": {},
     "output_type": "execute_result"
    }
   ],
   "source": [
    "name.isupper()"
   ]
  },
  {
   "cell_type": "code",
   "execution_count": 20,
   "id": "04c7bd67-8ba0-4db1-9b2f-87064c6f97da",
   "metadata": {},
   "outputs": [
    {
     "data": {
      "text/plain": [
       "False"
      ]
     },
     "execution_count": 20,
     "metadata": {},
     "output_type": "execute_result"
    }
   ],
   "source": [
    "name.islower()"
   ]
  },
  {
   "cell_type": "code",
   "execution_count": 21,
   "id": "50f57e77-af33-4c23-a036-d90de1126768",
   "metadata": {},
   "outputs": [
    {
     "data": {
      "text/plain": [
       "False"
      ]
     },
     "execution_count": 21,
     "metadata": {},
     "output_type": "execute_result"
    }
   ],
   "source": [
    "name.istitle()"
   ]
  },
  {
   "cell_type": "code",
   "execution_count": 22,
   "id": "b5b99157-ab7f-42ad-9526-17505cc6f841",
   "metadata": {},
   "outputs": [
    {
     "data": {
      "text/plain": [
       "'ketAKI'"
      ]
     },
     "execution_count": 22,
     "metadata": {},
     "output_type": "execute_result"
    }
   ],
   "source": [
    "name.swapcase()"
   ]
  },
  {
   "cell_type": "code",
   "execution_count": null,
   "id": "1524f652-c576-47c5-8ee8-d3dfddeded4a",
   "metadata": {},
   "outputs": [],
   "source": []
  }
 ],
 "metadata": {
  "kernelspec": {
   "display_name": "Python [conda env:base] *",
   "language": "python",
   "name": "conda-base-py"
  },
  "language_info": {
   "codemirror_mode": {
    "name": "ipython",
    "version": 3
   },
   "file_extension": ".py",
   "mimetype": "text/x-python",
   "name": "python",
   "nbconvert_exporter": "python",
   "pygments_lexer": "ipython3",
   "version": "3.12.7"
  }
 },
 "nbformat": 4,
 "nbformat_minor": 5
}
