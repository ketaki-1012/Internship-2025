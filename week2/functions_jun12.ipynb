{
 "cells": [
  {
   "cell_type": "code",
   "execution_count": 1,
   "id": "176d7982-65b8-4f3d-84f0-2daa7db32612",
   "metadata": {},
   "outputs": [],
   "source": [
    "#find out largest netween 2 numbers\n",
    "def largest(a, b):\n",
    "    if a > b:\n",
    "        print(\"Largest is \",a)\n",
    "    elif a==b:\n",
    "        print(\"Both are equal\")\n",
    "    else:\n",
    "        print(\"Largest is\",b)"
   ]
  },
  {
   "cell_type": "code",
   "execution_count": 2,
   "id": "db596497-6aac-4d41-8204-61dbb8193c77",
   "metadata": {},
   "outputs": [
    {
     "name": "stdout",
     "output_type": "stream",
     "text": [
      "Largest is 44\n"
     ]
    }
   ],
   "source": [
    "largest(12,44)"
   ]
  },
  {
   "cell_type": "code",
   "execution_count": 3,
   "id": "833aea16-5725-4a07-8c38-ca428e33d117",
   "metadata": {},
   "outputs": [],
   "source": [
    "#function to print the name ... n times(2 para)\n",
    "\n",
    "def times(num, name):\n",
    "    for i in range(num):\n",
    "        print(name)\n"
   ]
  },
  {
   "cell_type": "code",
   "execution_count": 4,
   "id": "a5d3ddd3-56c2-4286-bdcc-8bb846c53868",
   "metadata": {},
   "outputs": [
    {
     "name": "stdout",
     "output_type": "stream",
     "text": [
      "pune\n",
      "pune\n",
      "pune\n"
     ]
    }
   ],
   "source": [
    "times(3,\"pune\")"
   ]
  },
  {
   "cell_type": "code",
   "execution_count": null,
   "id": "afc5975b-eb5f-4e93-b6d5-d42120df3572",
   "metadata": {},
   "outputs": [],
   "source": [
    "#functions returning values\n",
    "def sq(num):\n",
    "    res = num * num\n",
    "    return res"
   ]
  },
  {
   "cell_type": "code",
   "execution_count": null,
   "id": "0649122c-ec66-4413-ba60-0744bfbd46c6",
   "metadata": {},
   "outputs": [],
   "source": [
    "sq(3)"
   ]
  },
  {
   "cell_type": "code",
   "execution_count": null,
   "id": "7a5586ad-10dc-4467-bafa-97435eae0ed9",
   "metadata": {},
   "outputs": [],
   "source": [
    "#difference between return and print\n",
    "\n",
    "def add1(a, b):\n",
    "    print(a+b)"
   ]
  },
  {
   "cell_type": "code",
   "execution_count": null,
   "id": "327d7fa6-00c5-4578-ae3d-2ad405aa16e0",
   "metadata": {},
   "outputs": [],
   "source": [
    "i = add1(23,3)"
   ]
  },
  {
   "cell_type": "code",
   "execution_count": null,
   "id": "b62d4bed-c6ce-4771-9cd2-2dce4d471e40",
   "metadata": {},
   "outputs": [],
   "source": [
    "print(i)"
   ]
  },
  {
   "cell_type": "code",
   "execution_count": null,
   "id": "830a2850-87da-4aa8-9ff9-34a8cc90e158",
   "metadata": {},
   "outputs": [],
   "source": [
    "def add2(a, b):\n",
    "    return a+b"
   ]
  },
  {
   "cell_type": "code",
   "execution_count": null,
   "id": "67dfa069-0ca6-4113-95db-29347458b165",
   "metadata": {},
   "outputs": [],
   "source": [
    "i = add2(4,76)"
   ]
  },
  {
   "cell_type": "code",
   "execution_count": null,
   "id": "d18648fc-c7de-40c4-a84f-91c296ea29af",
   "metadata": {},
   "outputs": [],
   "source": [
    "i"
   ]
  },
  {
   "cell_type": "code",
   "execution_count": null,
   "id": "f6a75a14-f6bc-49fa-89cf-56bcc8511dc1",
   "metadata": {},
   "outputs": [],
   "source": [
    "print(i)"
   ]
  },
  {
   "cell_type": "code",
   "execution_count": null,
   "id": "46621957-cc5f-4cdf-91b2-a8700fe1dde0",
   "metadata": {},
   "outputs": [],
   "source": [
    "#function for addition of 3 numbers\n",
    "\n",
    "def add(n1,n2,n3):\n",
    "    return n1+n2+n3"
   ]
  },
  {
   "cell_type": "code",
   "execution_count": null,
   "id": "423773b7-5dd9-475d-b11f-d43b9cbcb29e",
   "metadata": {},
   "outputs": [],
   "source": [
    "add(10,20,30)"
   ]
  },
  {
   "cell_type": "code",
   "execution_count": null,
   "id": "8c935672-4d40-46a9-84b7-9819180a2c65",
   "metadata": {},
   "outputs": [],
   "source": [
    "def cal(A):\n",
    "    sq = A* A\n",
    "    cu = A**3\n",
    "    return sq,cu"
   ]
  },
  {
   "cell_type": "code",
   "execution_count": null,
   "id": "7e958c31-176e-41d9-9d18-9389b6257470",
   "metadata": {},
   "outputs": [],
   "source": [
    "cal(5)"
   ]
  },
  {
   "cell_type": "code",
   "execution_count": null,
   "id": "f051ec21-4ea5-4932-b44a-7a6f8a0c4f78",
   "metadata": {},
   "outputs": [],
   "source": [
    "#default para\n",
    "\n",
    "def add(a=10 , b=30, c=20):\n",
    "    return a+b+c"
   ]
  },
  {
   "cell_type": "code",
   "execution_count": null,
   "id": "a85cb0a1-a5f0-4c72-82ea-6dca9a49772a",
   "metadata": {},
   "outputs": [],
   "source": [
    "add(3)"
   ]
  },
  {
   "cell_type": "code",
   "execution_count": null,
   "id": "82a38d7c-a49a-4066-9c0e-7fb697a3aea6",
   "metadata": {},
   "outputs": [],
   "source": [
    "add(3,1)"
   ]
  },
  {
   "cell_type": "code",
   "execution_count": null,
   "id": "7e6a5a3a-4755-4b8f-9f27-ae62ee001062",
   "metadata": {},
   "outputs": [],
   "source": [
    "add(b=1)"
   ]
  },
  {
   "cell_type": "code",
   "execution_count": null,
   "id": "dc995bc7-0b58-4c48-9b6d-e0cf70cdd408",
   "metadata": {},
   "outputs": [],
   "source": [
    "def addd(a = 9, b = 1, c):\n",
    "        return a+b+c"
   ]
  },
  {
   "cell_type": "code",
   "execution_count": null,
   "id": "23250303-219c-4211-ab63-5be599accfca",
   "metadata": {},
   "outputs": [],
   "source": [
    "addd(20, 9)"
   ]
  },
  {
   "cell_type": "code",
   "execution_count": null,
   "id": "7e788fb2-3a6c-464c-9801-d27b4804c421",
   "metadata": {},
   "outputs": [],
   "source": [
    "#variable length arguments\n",
    "\n",
    "def ini(*args):\n",
    "    return args"
   ]
  },
  {
   "cell_type": "code",
   "execution_count": null,
   "id": "106b05d4-bc1a-4011-8175-556ef0c0ba77",
   "metadata": {},
   "outputs": [],
   "source": [
    "ini(232,46,566,8899,7654,23)"
   ]
  },
  {
   "cell_type": "code",
   "execution_count": null,
   "id": "1ce83ebf-40ff-4e76-a8db-67b70f86ee07",
   "metadata": {},
   "outputs": [],
   "source": [
    "#pass any number of arguments and return the addition\n",
    "def addi(*args):\n",
    "    return sum(args)"
   ]
  },
  {
   "cell_type": "code",
   "execution_count": null,
   "id": "4cfcde5f-c42c-4d94-8b69-fda2b66ab479",
   "metadata": {},
   "outputs": [],
   "source": [
    "addi(10,20,30)"
   ]
  },
  {
   "cell_type": "code",
   "execution_count": null,
   "id": "62447723-84d9-45c5-ae99-8746f13f996a",
   "metadata": {},
   "outputs": [],
   "source": [
    "#lambda function\n",
    "squ = lambda a : a*a "
   ]
  },
  {
   "cell_type": "code",
   "execution_count": null,
   "id": "f3fc239d-123e-4095-9886-3a6c5c6ee9cd",
   "metadata": {},
   "outputs": [],
   "source": [
    "squ(3)"
   ]
  },
  {
   "cell_type": "code",
   "execution_count": null,
   "id": "e4d0c8b8-2083-4816-8193-a846f269fe2f",
   "metadata": {},
   "outputs": [],
   "source": [
    "add = lambda a , b : a + b"
   ]
  },
  {
   "cell_type": "code",
   "execution_count": null,
   "id": "f0b85f16-8858-4242-ba28-7ecfd3598031",
   "metadata": {},
   "outputs": [],
   "source": [
    "add(2,3)"
   ]
  },
  {
   "cell_type": "code",
   "execution_count": null,
   "id": "8db3a2df-b07a-4f1d-9117-18b6b7af5a0b",
   "metadata": {},
   "outputs": [],
   "source": [
    "#filter"
   ]
  },
  {
   "cell_type": "code",
   "execution_count": null,
   "id": "298261f0-3bfd-4fe9-abb2-94e458027e78",
   "metadata": {},
   "outputs": [],
   "source": [
    "l = [34, 56, 77, 11, 23, 40]"
   ]
  },
  {
   "cell_type": "code",
   "execution_count": null,
   "id": "efdcc821-ebf6-4955-a4da-97e7bb7131f9",
   "metadata": {},
   "outputs": [],
   "source": [
    "n1 = filter(lambda x : x > 40, l)"
   ]
  },
  {
   "cell_type": "code",
   "execution_count": null,
   "id": "12b06616-a293-4ed4-a592-44a27304435e",
   "metadata": {},
   "outputs": [],
   "source": [
    "list(n1)"
   ]
  },
  {
   "cell_type": "code",
   "execution_count": null,
   "id": "301acd6b-6618-4f7d-adc7-53a04b4917f0",
   "metadata": {},
   "outputs": [],
   "source": [
    "#map\n"
   ]
  },
  {
   "cell_type": "code",
   "execution_count": null,
   "id": "b20e5409-bb3d-4b0b-9fd7-cf322326f4a2",
   "metadata": {},
   "outputs": [],
   "source": [
    "nl1 = map(lambda x: x* x, l)\n",
    "list(nl1)"
   ]
  },
  {
   "cell_type": "code",
   "execution_count": null,
   "id": "9bd40f61-37b2-44c0-b281-55d2505bcda8",
   "metadata": {},
   "outputs": [],
   "source": [
    "nl = map(lambda x: x>40,l)\n",
    "list(n1)"
   ]
  },
  {
   "cell_type": "code",
   "execution_count": null,
   "id": "fa71765c-64af-4d7a-b55e-ae6059d9c6c3",
   "metadata": {},
   "outputs": [],
   "source": [
    "show(squ)"
   ]
  },
  {
   "cell_type": "code",
   "execution_count": null,
   "id": "cf6c6bd0-6e67-4e1c-ba2c-17ee8dc1db99",
   "metadata": {},
   "outputs": [],
   "source": [
    "#modules"
   ]
  },
  {
   "cell_type": "code",
   "execution_count": null,
   "id": "3818b3d7-82bc-4095-afe6-4f99389def49",
   "metadata": {},
   "outputs": [],
   "source": [
    "import math"
   ]
  },
  {
   "cell_type": "code",
   "execution_count": null,
   "id": "4da1c116-0424-4a54-95e7-729073efbfef",
   "metadata": {},
   "outputs": [],
   "source": [
    "math.sqrt(49)"
   ]
  },
  {
   "cell_type": "code",
   "execution_count": null,
   "id": "c90b5930-8eb6-42ec-bd35-1cee2b6cb75b",
   "metadata": {},
   "outputs": [],
   "source": [
    "help(math)"
   ]
  },
  {
   "cell_type": "code",
   "execution_count": null,
   "id": "e44d8cf0-bbd2-435d-9966-2ca969548db4",
   "metadata": {},
   "outputs": [],
   "source": [
    "#create a function for circle square\n",
    "import math\n",
    "def circle_area(radius):\n",
    "    return math.pi * radius ** 2\n",
    "\n"
   ]
  },
  {
   "cell_type": "code",
   "execution_count": null,
   "id": "1c4929d7-2af8-47ed-8926-721e2c3b800c",
   "metadata": {},
   "outputs": [],
   "source": [
    "circle_area(4)"
   ]
  },
  {
   "cell_type": "code",
   "execution_count": null,
   "id": "c4ee6c8f-78f9-42e3-98e8-28670582cb12",
   "metadata": {},
   "outputs": [],
   "source": [
    "import time as t\n"
   ]
  },
  {
   "cell_type": "code",
   "execution_count": null,
   "id": "44441a1e-b78e-467f-9ce6-9b9402bc90ed",
   "metadata": {},
   "outputs": [],
   "source": [
    "t.asctime()"
   ]
  },
  {
   "cell_type": "code",
   "execution_count": null,
   "id": "5655b76c-7a78-40a3-b502-f8307901b709",
   "metadata": {},
   "outputs": [],
   "source": [
    "print(\"Wake up\")\n",
    "t.sleep(5)\n",
    "print(\"ZZZZZZ\")"
   ]
  },
  {
   "cell_type": "code",
   "execution_count": null,
   "id": "09036a33-e2a9-4c6d-8bf9-65c5ececa3a3",
   "metadata": {},
   "outputs": [],
   "source": [
    "pwd"
   ]
  },
  {
   "cell_type": "code",
   "execution_count": null,
   "id": "53e4ce20-fb05-4c43-8f55-f620ab4bce9f",
   "metadata": {},
   "outputs": [],
   "source": [
    "import test_mod"
   ]
  },
  {
   "cell_type": "code",
   "execution_count": null,
   "id": "48457cc9-2021-42d2-8eb2-22886659a1e6",
   "metadata": {},
   "outputs": [],
   "source": [
    "def find_hcf(a, b):\n",
    "    while b != 0:\n",
    "        a, b = b, a % b\n",
    "    return a\n"
   ]
  },
  {
   "cell_type": "code",
   "execution_count": null,
   "id": "1c71c044-5ea6-4de4-be1b-1d95fa04fd55",
   "metadata": {},
   "outputs": [],
   "source": [
    "find_hcf(34,87)"
   ]
  },
  {
   "cell_type": "code",
   "execution_count": null,
   "id": "9e874373-2001-4917-b1c5-17db4a1830fa",
   "metadata": {},
   "outputs": [],
   "source": [
    "def is_prime(n):\n",
    "    if n <= 1:\n",
    "        return False\n",
    "    for i in range(2, int(n**0.5) + 1):\n",
    "        if n % i == 0:\n",
    "            return False\n",
    "    return True\n"
   ]
  },
  {
   "cell_type": "code",
   "execution_count": null,
   "id": "70c5995a-c9b7-41ee-a636-c60ce1acd16d",
   "metadata": {},
   "outputs": [],
   "source": [
    "is_prime(23)"
   ]
  },
  {
   "cell_type": "code",
   "execution_count": null,
   "id": "e29e3e39-6b32-4b8f-a606-accf87bd74ac",
   "metadata": {},
   "outputs": [],
   "source": [
    "def find_gcd(a, b):\n",
    "    while b:\n",
    "        a, b = b, a % b\n",
    "    return a\n",
    "\n",
    "def find_lcm(a, b):\n",
    "    return abs(a * b) // find_gcd(a, b)\n",
    "\n",
    "# Example usage\n",
    "num1 = 12\n",
    "num2 = 18\n",
    "print(\"LCM of\", num1, \"and\", num2, \"is:\", find_lcm(num1, num2))\n"
   ]
  },
  {
   "cell_type": "code",
   "execution_count": null,
   "id": "c5d0f795-9df9-42ad-92fb-2c8dbf64c18e",
   "metadata": {},
   "outputs": [],
   "source": []
  }
 ],
 "metadata": {
  "kernelspec": {
   "display_name": "Python [conda env:base] *",
   "language": "python",
   "name": "conda-base-py"
  },
  "language_info": {
   "codemirror_mode": {
    "name": "ipython",
    "version": 3
   },
   "file_extension": ".py",
   "mimetype": "text/x-python",
   "name": "python",
   "nbconvert_exporter": "python",
   "pygments_lexer": "ipython3",
   "version": "3.12.7"
  }
 },
 "nbformat": 4,
 "nbformat_minor": 5
}
