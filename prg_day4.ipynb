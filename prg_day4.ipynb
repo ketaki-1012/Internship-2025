{
 "cells": [
  {
   "cell_type": "code",
   "execution_count": 1,
   "id": "17ede451-9afc-47fa-96bd-85465aec83b6",
   "metadata": {},
   "outputs": [
    {
     "name": "stdout",
     "output_type": "stream",
     "text": [
      "Addition is  55\n"
     ]
    }
   ],
   "source": [
    "#find addition from 1 to 10\n",
    "\n",
    "count  = 1  \n",
    "add = 0\n",
    "\n",
    "while count <= 10:\n",
    "    add = add + count\n",
    "    count += 1\n",
    "\n",
    "print(\"Addition is \",add)\n"
   ]
  },
  {
   "cell_type": "code",
   "execution_count": 2,
   "id": "0565e67f-2b24-4115-8bc9-4f59003ec71e",
   "metadata": {},
   "outputs": [
    {
     "name": "stdout",
     "output_type": "stream",
     "text": [
      "Addition 1\n",
      "Addition 4\n",
      "Addition 9\n",
      "Addition 16\n",
      "Addition 25\n",
      "Addition 36\n",
      "Addition 49\n",
      "Addition 64\n",
      "Addition 81\n",
      "Addition 100\n"
     ]
    }
   ],
   "source": [
    "#find addition of all odd number from 1 to 20\n",
    "\n",
    "count = 1\n",
    "add = 0 \n",
    "\n",
    "while count <= 20:\n",
    "    add = add + count\n",
    "    count += 2\n",
    "    print(\"Addition\", add)"
   ]
  },
  {
   "cell_type": "code",
   "execution_count": 3,
   "id": "232f5653-9ae4-484a-b891-4ca409563475",
   "metadata": {},
   "outputs": [
    {
     "ename": "IndentationError",
     "evalue": "unexpected indent (3002493108.py, line 10)",
     "output_type": "error",
     "traceback": [
      "\u001b[1;36m  Cell \u001b[1;32mIn[3], line 10\u001b[1;36m\u001b[0m\n\u001b[1;33m    print(\"Factorial is not defined for negative numbers.\")\u001b[0m\n\u001b[1;37m    ^\u001b[0m\n\u001b[1;31mIndentationError\u001b[0m\u001b[1;31m:\u001b[0m unexpected indent\n"
     ]
    }
   ],
   "source": [
    "#write a program for factorial \n",
    "\n",
    "def factorial(n):\n",
    "    if n == 0 or n == 1:\n",
    "        return 1\n",
    "    else:\n",
    "        return n * factorial(n - 1)\n",
    "num = int(input(\"Enter a number to find its factorial: \"))\n",
    "if num < 0:4\n",
    "    print(\"Factorial is not defined for negative numbers.\")\n",
    "else:\n",
    "    result = factorial(num)\n",
    "    print(f\"The factorial of {num} is {result}\")\n"
   ]
  },
  {
   "cell_type": "markdown",
   "id": "1f7e2cbe-1991-41ce-a001-ff6b91278964",
   "metadata": {},
   "source": [
    "### find the addition of the digits in the number \n",
    "num = int(input(\"Enter a number to find its addition: \"))\n",
    "add = 0\n",
    "while num > 0:\n",
    "   digit = num % 10\n",
    "   add += digit\n",
    "   num = num // 10\n",
    "print(\"Addition of entered number :\",add)\n"
   ]
  },
  {
   "cell_type": "code",
   "execution_count": null,
   "id": "61263c81-86ab-43c5-8b46-d38a718b573c",
   "metadata": {},
   "outputs": [],
   "source": [
    "#iterate over a sequence and print half of those values\n",
    "\n",
    "for n in 12 , 34 ,45 ,55:\n",
    "    print(n/2)"
   ]
  },
  {
   "cell_type": "code",
   "execution_count": null,
   "id": "5031bca7-958c-42b2-80c4-6bd34079c438",
   "metadata": {},
   "outputs": [],
   "source": [
    "#range \n",
    "list(range(10))"
   ]
  },
  {
   "cell_type": "code",
   "execution_count": null,
   "id": "a6d46fea-477e-4293-855f-cea321db64e2",
   "metadata": {},
   "outputs": [],
   "source": [
    "list(range(1,11))"
   ]
  },
  {
   "cell_type": "code",
   "execution_count": null,
   "id": "d310bc5e-04d1-42e5-a857-9f6c9c01a4b4",
   "metadata": {},
   "outputs": [],
   "source": [
    "list(range(1,10,2))\n",
    "# start , end ,step"
   ]
  },
  {
   "cell_type": "code",
   "execution_count": null,
   "id": "0fb87527-c645-46c1-8e54-2ebdf815c1ac",
   "metadata": {},
   "outputs": [],
   "source": [
    "for n in range(1,11):\n",
    "    print(n)"
   ]
  },
  {
   "cell_type": "code",
   "execution_count": null,
   "id": "218cf2e0-5561-4d65-add6-314f36bbd524",
   "metadata": {},
   "outputs": [],
   "source": [
    "#find the addition of 1 to 10 using for loop\n",
    "add = 0\n",
    "for n in range(1,11): \n",
    "    add = add + n\n",
    "\n",
    "    print(add, end= \" \")"
   ]
  },
  {
   "cell_type": "code",
   "execution_count": null,
   "id": "334cc2e5-ae48-499d-b350-1f286c5e715a",
   "metadata": {},
   "outputs": [],
   "source": [
    "for i in \"pune\":\n",
    "    print(i)"
   ]
  },
  {
   "cell_type": "code",
   "execution_count": null,
   "id": "81d64d86-aac4-49e8-8f0d-70c58a1925fb",
   "metadata": {},
   "outputs": [],
   "source": [
    "# Factorial using for loop\n",
    "num = int(input(\"Enter a number to find its factorial: \"))\n",
    "fact = 1\n",
    "\n",
    "if num < 0:\n",
    "    print(\"Factorial is not defined for negative numbers.\")\n",
    "else:\n",
    "    for i in range(1, num + 1):\n",
    "        fact *= i\n",
    "    print(\"Factorial of entered number:\", fact)\n"
   ]
  },
  {
   "cell_type": "code",
   "execution_count": null,
   "id": "a57367f9-d008-4246-8703-a7f87db16e50",
   "metadata": {},
   "outputs": [],
   "source": []
  },
  {
   "cell_type": "code",
   "execution_count": 4,
   "id": "986a2e72-3ba4-4f5b-a843-cf7801c1bdb7",
   "metadata": {},
   "outputs": [],
   "source": [
    "for i in range (1,11):\n",
    "    if i == 6:\n",
    "        continue\n",
    "        print(i)\n",
    "        "
   ]
  },
  {
   "cell_type": "code",
   "execution_count": 15,
   "id": "8eaf9954-1827-4437-8fd5-2abf8fb67e4e",
   "metadata": {},
   "outputs": [
    {
     "name": "stdin",
     "output_type": "stream",
     "text": [
      "Enter row numbers:  4\n"
     ]
    },
    {
     "name": "stdout",
     "output_type": "stream",
     "text": [
      "*\n",
      "**\n",
      "***\n",
      "****\n"
     ]
    }
   ],
   "source": [
    "row = int(input(\"Enter row numbers: \"))\n",
    "for i in range (1,row + 1):\n",
    "    print(\"*\"*i)\n"
   ]
  },
  {
   "cell_type": "code",
   "execution_count": 20,
   "id": "2ebf6c49-32e7-40b5-97c2-d14c9490bea5",
   "metadata": {},
   "outputs": [
    {
     "name": "stdin",
     "output_type": "stream",
     "text": [
      "enter row numbers : 4\n"
     ]
    },
    {
     "name": "stdout",
     "output_type": "stream",
     "text": [
      "* \n",
      "* * \n",
      "* * * \n",
      "* * * * \n"
     ]
    }
   ],
   "source": [
    "row = int(input(\"enter row numbers :\"))\n",
    "for i in range (1,row + 1):\n",
    "    print(\"* \"*i)\n",
    "    "
   ]
  },
  {
   "cell_type": "code",
   "execution_count": null,
   "id": "afab8a9b-70a9-4884-9455-61e9c340f476",
   "metadata": {},
   "outputs": [],
   "source": []
  }
 ],
 "metadata": {
  "kernelspec": {
   "display_name": "Python [conda env:base] *",
   "language": "python",
   "name": "conda-base-py"
  },
  "language_info": {
   "codemirror_mode": {
    "name": "ipython",
    "version": 3
   },
   "file_extension": ".py",
   "mimetype": "text/x-python",
   "name": "python",
   "nbconvert_exporter": "python",
   "pygments_lexer": "ipython3",
   "version": "3.12.7"
  }
 },
 "nbformat": 4,
 "nbformat_minor": 5
}
