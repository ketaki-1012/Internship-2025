{
 "cells": [
  {
   "cell_type": "code",
   "execution_count": 2,
   "id": "4eb0b939-0d5f-47c4-a8d2-faec1515e51f",
   "metadata": {},
   "outputs": [],
   "source": [
    "import pandas as pd\n",
    "import numpy as np\n"
   ]
  },
  {
   "cell_type": "code",
   "execution_count": 3,
   "id": "a011bc15-79f0-45d9-a5a6-38f67a35cbbe",
   "metadata": {},
   "outputs": [
    {
     "data": {
      "text/html": [
       "<div>\n",
       "<style scoped>\n",
       "    .dataframe tbody tr th:only-of-type {\n",
       "        vertical-align: middle;\n",
       "    }\n",
       "\n",
       "    .dataframe tbody tr th {\n",
       "        vertical-align: top;\n",
       "    }\n",
       "\n",
       "    .dataframe thead th {\n",
       "        text-align: right;\n",
       "    }\n",
       "</style>\n",
       "<table border=\"1\" class=\"dataframe\">\n",
       "  <thead>\n",
       "    <tr style=\"text-align: right;\">\n",
       "      <th></th>\n",
       "      <th>1</th>\n",
       "      <th>anil</th>\n",
       "      <th>TE</th>\n",
       "      <th>56.77</th>\n",
       "      <th>22</th>\n",
       "    </tr>\n",
       "  </thead>\n",
       "  <tbody>\n",
       "    <tr>\n",
       "      <th>0</th>\n",
       "      <td>2</td>\n",
       "      <td>amit</td>\n",
       "      <td>TE</td>\n",
       "      <td>59.77</td>\n",
       "      <td>21</td>\n",
       "    </tr>\n",
       "    <tr>\n",
       "      <th>1</th>\n",
       "      <td>3</td>\n",
       "      <td>aniket</td>\n",
       "      <td>BE</td>\n",
       "      <td>76.88</td>\n",
       "      <td>19</td>\n",
       "    </tr>\n",
       "    <tr>\n",
       "      <th>2</th>\n",
       "      <td>4</td>\n",
       "      <td>ajinkya</td>\n",
       "      <td>TE</td>\n",
       "      <td>69.66</td>\n",
       "      <td>20</td>\n",
       "    </tr>\n",
       "    <tr>\n",
       "      <th>3</th>\n",
       "      <td>5</td>\n",
       "      <td>asha</td>\n",
       "      <td>TE</td>\n",
       "      <td>63.28</td>\n",
       "      <td>20</td>\n",
       "    </tr>\n",
       "    <tr>\n",
       "      <th>4</th>\n",
       "      <td>6</td>\n",
       "      <td>ayesha</td>\n",
       "      <td>BE</td>\n",
       "      <td>49.55</td>\n",
       "      <td>20</td>\n",
       "    </tr>\n",
       "    <tr>\n",
       "      <th>5</th>\n",
       "      <td>7</td>\n",
       "      <td>amar</td>\n",
       "      <td>BE</td>\n",
       "      <td>65.34</td>\n",
       "      <td>19</td>\n",
       "    </tr>\n",
       "    <tr>\n",
       "      <th>6</th>\n",
       "      <td>8</td>\n",
       "      <td>amita</td>\n",
       "      <td>BE</td>\n",
       "      <td>68.33</td>\n",
       "      <td>23</td>\n",
       "    </tr>\n",
       "    <tr>\n",
       "      <th>7</th>\n",
       "      <td>9</td>\n",
       "      <td>amol</td>\n",
       "      <td>TE</td>\n",
       "      <td>56.75</td>\n",
       "      <td>20</td>\n",
       "    </tr>\n",
       "    <tr>\n",
       "      <th>8</th>\n",
       "      <td>10</td>\n",
       "      <td>anmol</td>\n",
       "      <td>BE</td>\n",
       "      <td>78.66</td>\n",
       "      <td>21</td>\n",
       "    </tr>\n",
       "  </tbody>\n",
       "</table>\n",
       "</div>"
      ],
      "text/plain": [
       "    1     anil  TE  56.77  22\n",
       "0   2     amit  TE  59.77  21\n",
       "1   3   aniket  BE  76.88  19\n",
       "2   4  ajinkya  TE  69.66  20\n",
       "3   5     asha  TE  63.28  20\n",
       "4   6   ayesha  BE  49.55  20\n",
       "5   7     amar  BE  65.34  19\n",
       "6   8    amita  BE  68.33  23\n",
       "7   9     amol  TE  56.75  20\n",
       "8  10    anmol  BE  78.66  21"
      ]
     },
     "execution_count": 3,
     "metadata": {},
     "output_type": "execute_result"
    }
   ],
   "source": [
    "df = pd.read_csv(\"student1.csv\")\n",
    "df"
   ]
  },
  {
   "cell_type": "code",
   "execution_count": 4,
   "id": "35c121d1-054a-4975-a82d-6572510d0ce1",
   "metadata": {},
   "outputs": [
    {
     "data": {
      "text/html": [
       "<div>\n",
       "<style scoped>\n",
       "    .dataframe tbody tr th:only-of-type {\n",
       "        vertical-align: middle;\n",
       "    }\n",
       "\n",
       "    .dataframe tbody tr th {\n",
       "        vertical-align: top;\n",
       "    }\n",
       "\n",
       "    .dataframe thead th {\n",
       "        text-align: right;\n",
       "    }\n",
       "</style>\n",
       "<table border=\"1\" class=\"dataframe\">\n",
       "  <thead>\n",
       "    <tr style=\"text-align: right;\">\n",
       "      <th></th>\n",
       "      <th>1</th>\n",
       "      <th>anil</th>\n",
       "      <th>TE</th>\n",
       "      <th>56.77</th>\n",
       "      <th>22</th>\n",
       "    </tr>\n",
       "  </thead>\n",
       "  <tbody>\n",
       "    <tr>\n",
       "      <th>2</th>\n",
       "      <td>4</td>\n",
       "      <td>ajinkya</td>\n",
       "      <td>TE</td>\n",
       "      <td>69.66</td>\n",
       "      <td>20</td>\n",
       "    </tr>\n",
       "  </tbody>\n",
       "</table>\n",
       "</div>"
      ],
      "text/plain": [
       "   1     anil  TE  56.77  22\n",
       "2  4  ajinkya  TE  69.66  20"
      ]
     },
     "execution_count": 4,
     "metadata": {},
     "output_type": "execute_result"
    }
   ],
   "source": [
    "df[2:3]"
   ]
  },
  {
   "cell_type": "code",
   "execution_count": 5,
   "id": "14291cc7-986a-4a61-8cf8-a94cb4440de3",
   "metadata": {},
   "outputs": [],
   "source": [
    "#add or modify"
   ]
  },
  {
   "cell_type": "code",
   "execution_count": 6,
   "id": "c512b089-39d6-42b0-b276-a3a98c980598",
   "metadata": {},
   "outputs": [
    {
     "data": {
      "text/html": [
       "<div>\n",
       "<style scoped>\n",
       "    .dataframe tbody tr th:only-of-type {\n",
       "        vertical-align: middle;\n",
       "    }\n",
       "\n",
       "    .dataframe tbody tr th {\n",
       "        vertical-align: top;\n",
       "    }\n",
       "\n",
       "    .dataframe thead th {\n",
       "        text-align: right;\n",
       "    }\n",
       "</style>\n",
       "<table border=\"1\" class=\"dataframe\">\n",
       "  <thead>\n",
       "    <tr style=\"text-align: right;\">\n",
       "      <th></th>\n",
       "      <th>1</th>\n",
       "      <th>anil</th>\n",
       "      <th>TE</th>\n",
       "      <th>56.77</th>\n",
       "      <th>22</th>\n",
       "      <th>gender</th>\n",
       "    </tr>\n",
       "  </thead>\n",
       "  <tbody>\n",
       "    <tr>\n",
       "      <th>0</th>\n",
       "      <td>2</td>\n",
       "      <td>amit</td>\n",
       "      <td>TE</td>\n",
       "      <td>59.77</td>\n",
       "      <td>21</td>\n",
       "      <td>m</td>\n",
       "    </tr>\n",
       "    <tr>\n",
       "      <th>1</th>\n",
       "      <td>3</td>\n",
       "      <td>aniket</td>\n",
       "      <td>BE</td>\n",
       "      <td>76.88</td>\n",
       "      <td>19</td>\n",
       "      <td>m</td>\n",
       "    </tr>\n",
       "    <tr>\n",
       "      <th>2</th>\n",
       "      <td>4</td>\n",
       "      <td>ajinkya</td>\n",
       "      <td>TE</td>\n",
       "      <td>69.66</td>\n",
       "      <td>20</td>\n",
       "      <td>m</td>\n",
       "    </tr>\n",
       "    <tr>\n",
       "      <th>3</th>\n",
       "      <td>5</td>\n",
       "      <td>asha</td>\n",
       "      <td>TE</td>\n",
       "      <td>63.28</td>\n",
       "      <td>20</td>\n",
       "      <td>f</td>\n",
       "    </tr>\n",
       "    <tr>\n",
       "      <th>4</th>\n",
       "      <td>6</td>\n",
       "      <td>ayesha</td>\n",
       "      <td>BE</td>\n",
       "      <td>49.55</td>\n",
       "      <td>20</td>\n",
       "      <td>f</td>\n",
       "    </tr>\n",
       "    <tr>\n",
       "      <th>5</th>\n",
       "      <td>7</td>\n",
       "      <td>amar</td>\n",
       "      <td>BE</td>\n",
       "      <td>65.34</td>\n",
       "      <td>19</td>\n",
       "      <td>m</td>\n",
       "    </tr>\n",
       "    <tr>\n",
       "      <th>6</th>\n",
       "      <td>8</td>\n",
       "      <td>amita</td>\n",
       "      <td>BE</td>\n",
       "      <td>68.33</td>\n",
       "      <td>23</td>\n",
       "      <td>f</td>\n",
       "    </tr>\n",
       "    <tr>\n",
       "      <th>7</th>\n",
       "      <td>9</td>\n",
       "      <td>amol</td>\n",
       "      <td>TE</td>\n",
       "      <td>56.75</td>\n",
       "      <td>20</td>\n",
       "      <td>f</td>\n",
       "    </tr>\n",
       "    <tr>\n",
       "      <th>8</th>\n",
       "      <td>10</td>\n",
       "      <td>anmol</td>\n",
       "      <td>BE</td>\n",
       "      <td>78.66</td>\n",
       "      <td>21</td>\n",
       "      <td>f</td>\n",
       "    </tr>\n",
       "  </tbody>\n",
       "</table>\n",
       "</div>"
      ],
      "text/plain": [
       "    1     anil  TE  56.77  22 gender\n",
       "0   2     amit  TE  59.77  21      m\n",
       "1   3   aniket  BE  76.88  19      m\n",
       "2   4  ajinkya  TE  69.66  20      m\n",
       "3   5     asha  TE  63.28  20      f\n",
       "4   6   ayesha  BE  49.55  20      f\n",
       "5   7     amar  BE  65.34  19      m\n",
       "6   8    amita  BE  68.33  23      f\n",
       "7   9     amol  TE  56.75  20      f\n",
       "8  10    anmol  BE  78.66  21      f"
      ]
     },
     "execution_count": 6,
     "metadata": {},
     "output_type": "execute_result"
    }
   ],
   "source": [
    "gender = ['m','m','m','f','f','m','f','f','f']\n",
    "df['gender'] = gender\n",
    "df"
   ]
  },
  {
   "cell_type": "code",
   "execution_count": 7,
   "id": "ff5eb59c-50c5-4c01-9c64-1f5471942dca",
   "metadata": {},
   "outputs": [
    {
     "data": {
      "text/plain": [
       "gender\n",
       "f    5\n",
       "m    4\n",
       "Name: count, dtype: int64"
      ]
     },
     "execution_count": 7,
     "metadata": {},
     "output_type": "execute_result"
    }
   ],
   "source": [
    "df ['gender'].value_counts()"
   ]
  },
  {
   "cell_type": "code",
   "execution_count": 8,
   "id": "cc7f4ef5-1a0c-4c80-a0a1-6767bc2402ec",
   "metadata": {},
   "outputs": [
    {
     "data": {
      "text/html": [
       "<div>\n",
       "<style scoped>\n",
       "    .dataframe tbody tr th:only-of-type {\n",
       "        vertical-align: middle;\n",
       "    }\n",
       "\n",
       "    .dataframe tbody tr th {\n",
       "        vertical-align: top;\n",
       "    }\n",
       "\n",
       "    .dataframe thead th {\n",
       "        text-align: right;\n",
       "    }\n",
       "</style>\n",
       "<table border=\"1\" class=\"dataframe\">\n",
       "  <thead>\n",
       "    <tr style=\"text-align: right;\">\n",
       "      <th></th>\n",
       "      <th>roll</th>\n",
       "      <th>name</th>\n",
       "      <th>class</th>\n",
       "      <th>age</th>\n",
       "    </tr>\n",
       "  </thead>\n",
       "  <tbody>\n",
       "    <tr>\n",
       "      <th>1</th>\n",
       "      <td>anil</td>\n",
       "      <td>TE</td>\n",
       "      <td>56.77</td>\n",
       "      <td>22</td>\n",
       "    </tr>\n",
       "    <tr>\n",
       "      <th>2</th>\n",
       "      <td>amit</td>\n",
       "      <td>TE</td>\n",
       "      <td>59.77</td>\n",
       "      <td>21</td>\n",
       "    </tr>\n",
       "    <tr>\n",
       "      <th>3</th>\n",
       "      <td>aniket</td>\n",
       "      <td>BE</td>\n",
       "      <td>76.88</td>\n",
       "      <td>19</td>\n",
       "    </tr>\n",
       "    <tr>\n",
       "      <th>4</th>\n",
       "      <td>ajinkya</td>\n",
       "      <td>TE</td>\n",
       "      <td>69.66</td>\n",
       "      <td>20</td>\n",
       "    </tr>\n",
       "    <tr>\n",
       "      <th>5</th>\n",
       "      <td>asha</td>\n",
       "      <td>TE</td>\n",
       "      <td>63.28</td>\n",
       "      <td>20</td>\n",
       "    </tr>\n",
       "    <tr>\n",
       "      <th>6</th>\n",
       "      <td>ayesha</td>\n",
       "      <td>BE</td>\n",
       "      <td>49.55</td>\n",
       "      <td>20</td>\n",
       "    </tr>\n",
       "    <tr>\n",
       "      <th>7</th>\n",
       "      <td>amar</td>\n",
       "      <td>BE</td>\n",
       "      <td>65.34</td>\n",
       "      <td>19</td>\n",
       "    </tr>\n",
       "    <tr>\n",
       "      <th>8</th>\n",
       "      <td>amita</td>\n",
       "      <td>BE</td>\n",
       "      <td>68.33</td>\n",
       "      <td>23</td>\n",
       "    </tr>\n",
       "    <tr>\n",
       "      <th>9</th>\n",
       "      <td>amol</td>\n",
       "      <td>TE</td>\n",
       "      <td>56.75</td>\n",
       "      <td>20</td>\n",
       "    </tr>\n",
       "    <tr>\n",
       "      <th>10</th>\n",
       "      <td>anmol</td>\n",
       "      <td>BE</td>\n",
       "      <td>78.66</td>\n",
       "      <td>21</td>\n",
       "    </tr>\n",
       "  </tbody>\n",
       "</table>\n",
       "</div>"
      ],
      "text/plain": [
       "       roll name  class  age\n",
       "1      anil   TE  56.77   22\n",
       "2      amit   TE  59.77   21\n",
       "3    aniket   BE  76.88   19\n",
       "4   ajinkya   TE  69.66   20\n",
       "5      asha   TE  63.28   20\n",
       "6    ayesha   BE  49.55   20\n",
       "7      amar   BE  65.34   19\n",
       "8     amita   BE  68.33   23\n",
       "9      amol   TE  56.75   20\n",
       "10    anmol   BE  78.66   21"
      ]
     },
     "execution_count": 8,
     "metadata": {},
     "output_type": "execute_result"
    }
   ],
   "source": [
    "headers = [\"roll\",\"name\",\"class\",\"age\"]\n",
    "df = pd.read_csv(\"student1.csv\",names = headers)\n",
    "df"
   ]
  },
  {
   "cell_type": "code",
   "execution_count": 9,
   "id": "bc4a3d07-d4d7-4933-8381-36cf6e9970ca",
   "metadata": {},
   "outputs": [
    {
     "data": {
      "text/plain": [
       "<bound method DataFrame.drop of        roll name  class  age\n",
       "1      anil   TE  56.77   22\n",
       "2      amit   TE  59.77   21\n",
       "3    aniket   BE  76.88   19\n",
       "4   ajinkya   TE  69.66   20\n",
       "5      asha   TE  63.28   20\n",
       "6    ayesha   BE  49.55   20\n",
       "7      amar   BE  65.34   19\n",
       "8     amita   BE  68.33   23\n",
       "9      amol   TE  56.75   20\n",
       "10    anmol   BE  78.66   21>"
      ]
     },
     "execution_count": 9,
     "metadata": {},
     "output_type": "execute_result"
    }
   ],
   "source": [
    "df.drop"
   ]
  },
  {
   "cell_type": "code",
   "execution_count": 10,
   "id": "4a76cbb2-11f4-4349-9b7b-bd11067b5aaf",
   "metadata": {},
   "outputs": [],
   "source": [
    "##create a dataframe -> 'newdf'\n",
    "#columns -> roll,gender,cgpa\n",
    "#roll columns value should be same as df\n"
   ]
  },
  {
   "cell_type": "code",
   "execution_count": 11,
   "id": "c3dcfde3-a207-4e83-aa1a-da5c434d0069",
   "metadata": {},
   "outputs": [
    {
     "name": "stdout",
     "output_type": "stream",
     "text": [
      "   Roll Gender  CGPA\n",
      "0     1      m   3.4\n",
      "1     2      m   3.6\n",
      "2     3      m   3.2\n",
      "3     4      f   3.8\n",
      "4     5      f   3.7\n",
      "5     6      f   3.9\n"
     ]
    }
   ],
   "source": [
    "\n",
    "roll = pd.Series([1, 2, 3, 4, 5, 6])\n",
    "gender = pd.Series(['m', 'm', 'm', 'f', 'f', 'f'])\n",
    "cgpa = pd.Series([3.4, 3.6, 3.2, 3.8, 3.7, 3.9])\n",
    "\n",
    "df = pd.DataFrame({\n",
    "    'Roll': roll,\n",
    "    'Gender': gender,\n",
    "    'CGPA': cgpa\n",
    "})\n",
    "\n",
    "print(df)"
   ]
  },
  {
   "cell_type": "code",
   "execution_count": 13,
   "id": "eb9cbbfc-de83-41a0-b980-fab3aa3e3eeb",
   "metadata": {},
   "outputs": [
    {
     "name": "stdout",
     "output_type": "stream",
     "text": [
      "   rollno gender  cgpa\n",
      "0       1   None  None\n",
      "1       2   None  None\n",
      "2       3   None  None\n",
      "3       4   None  None\n",
      "4       5   None  None\n",
      "5       6   None  None\n"
     ]
    }
   ],
   "source": [
    "import pandas as pd\n",
    "\n",
    "df = pd.DataFrame({\n",
    "    'roll': [1, 2, 3, 4, 5, 6],\n",
    "    'gender': ['m', 'm', 'm', 'f', 'f', 'f'],\n",
    "    'cgpa': [3.4, 3.6, 3.2, 3.8, 3.7, 3.9]\n",
    "})\n",
    "\n",
    "newdf = pd.DataFrame()\n",
    "newdf['rollno'] = df['roll']          \n",
    "newdf['gender'] = None                 \n",
    "newdf['cgpa'] = None\n",
    "\n",
    "print(newdf)\n"
   ]
  },
  {
   "cell_type": "code",
   "execution_count": null,
   "id": "aabbca57-a468-4d74-aeba-ea4941d4d016",
   "metadata": {},
   "outputs": [],
   "source": [
    "import pandas as pd\n",
    "\n",
    "# Define the values\n",
    "roll = range(101, 111)\n",
    "gender = ['M', 'F', 'M', 'F', 'M', 'F', 'M', 'F', 'M', 'F']\n",
    "cgpa = [8.2, 9.1, 7.5, 8.9, 7.8, 8.5, 6.9, 9.0, 7.6, 8.3]\n",
    "\n",
    "# Create the DataFrame\n",
    "newdf = pd.DataFrame({\n",
    "    'roll': roll,\n",
    "    'gender': gender,\n",
    "    'cgpa': cgpa\n",
    "})\n",
    "\n",
    "# Display the DataFrame\n",
    "print(newdf)\n"
   ]
  },
  {
   "cell_type": "code",
   "execution_count": null,
   "id": "55abe187-faae-46e4-b5e1-4591abba6a6f",
   "metadata": {},
   "outputs": [],
   "source": [
    "df = pd.read_csv(\"student5.csv\")\n",
    "df"
   ]
  },
  {
   "cell_type": "code",
   "execution_count": null,
   "id": "e89f5220-22e5-41bc-a165-b9fd0515253d",
   "metadata": {},
   "outputs": [],
   "source": [
    "df[df['marks'] > 60]"
   ]
  },
  {
   "cell_type": "code",
   "execution_count": null,
   "id": "cb1e1bda-cb25-411c-a1f0-a58acd54122b",
   "metadata": {},
   "outputs": [],
   "source": [
    "#question1:\n",
    "#create a series of 5 numbers and assign custom labels\n",
    "import pandas as pd\n",
    "\n",
    "# Values for the series\n",
    "data = [10, 20, 30,40,50]\n",
    "\n",
    "labels = ['a', 'b', 'c','d','e']\n",
    "\n",
    "s = pd.Series(data, index=labels)\n",
    "\n",
    "print(s)\n"
   ]
  },
  {
   "cell_type": "code",
   "execution_count": null,
   "id": "951c0a44-c082-4ddf-9e08-4376692873d2",
   "metadata": {},
   "outputs": [],
   "source": [
    "#question2:-\n",
    "#contruct a dataframe from a dictionary wiht the student names, marks , and cities\n",
    "\n",
    "name = pd.Series(['Shruti', 'sia', 'ria', 'disha', 'Ravi'])\n",
    "marks = pd.Series([98, 56, 87, 64,89])\n",
    "city = pd.Series(['pune','pune','mumbai','beed','satara'])\n",
    "\n",
    "df = pd.DataFrame({\n",
    "    'name' : name,\n",
    "    'marks' : marks,\n",
    "    'city' : city\n",
    "})\n",
    "df"
   ]
  },
  {
   "cell_type": "code",
   "execution_count": null,
   "id": "3f9060e7-a109-4a71-aca9-c4c1547832ff",
   "metadata": {},
   "outputs": [],
   "source": [
    "#Question 3\n",
    "arr = np.array([10, 20, 39 , 46])\n",
    "df = pd.DataFrame(arr, columns=['Scores'])\n",
    "df"
   ]
  },
  {
   "cell_type": "code",
   "execution_count": null,
   "id": "f54b67c6-b832-4ad4-bdf2-97609451d65a",
   "metadata": {},
   "outputs": [],
   "source": [
    "#Question 4:-\n",
    "#use loc and iloc to select specific rows and columns from a Datafram\n",
    "\n",
    "df.iloc[:2]\n",
    "df.loc[2:]"
   ]
  },
  {
   "cell_type": "code",
   "execution_count": null,
   "id": "fa74829d-4811-43ff-916e-54979cfd8bfe",
   "metadata": {},
   "outputs": [],
   "source": [
    "#Queston5:-\n",
    "#Apply head(),tail() ,shpae, info() and descibe() to explore a Dataframe\n",
    "df.head()\n"
   ]
  },
  {
   "cell_type": "code",
   "execution_count": null,
   "id": "57b5a339-c9db-4241-83d3-58654e707eed",
   "metadata": {},
   "outputs": [],
   "source": [
    "df.tail()"
   ]
  },
  {
   "cell_type": "code",
   "execution_count": null,
   "id": "510bfc05-fe18-4aad-b60f-d9e4dc752f48",
   "metadata": {},
   "outputs": [],
   "source": [
    "df.shape"
   ]
  },
  {
   "cell_type": "code",
   "execution_count": null,
   "id": "794f4e1e-6e4c-451e-b333-fd317087b22b",
   "metadata": {},
   "outputs": [],
   "source": [
    "df.info()"
   ]
  },
  {
   "cell_type": "code",
   "execution_count": null,
   "id": "b780cbeb-d487-4018-8135-8004e6c4293a",
   "metadata": {},
   "outputs": [],
   "source": [
    "df.describe()"
   ]
  },
  {
   "cell_type": "code",
   "execution_count": null,
   "id": "b373039a-d0de-46a0-b1ef-82e466c3df91",
   "metadata": {},
   "outputs": [],
   "source": [
    "#Question6:-\n",
    "#Sort a Dataframe bu values in a column using sort_index()\n",
    "\n",
    "df.sort_index"
   ]
  }
 ],
 "metadata": {
  "kernelspec": {
   "display_name": "Python [conda env:base] *",
   "language": "python",
   "name": "conda-base-py"
  },
  "language_info": {
   "codemirror_mode": {
    "name": "ipython",
    "version": 3
   },
   "file_extension": ".py",
   "mimetype": "text/x-python",
   "name": "python",
   "nbconvert_exporter": "python",
   "pygments_lexer": "ipython3",
   "version": "3.12.7"
  }
 },
 "nbformat": 4,
 "nbformat_minor": 5
}
