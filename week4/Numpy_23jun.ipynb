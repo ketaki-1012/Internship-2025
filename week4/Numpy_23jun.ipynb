{
 "cells": [
  {
   "cell_type": "code",
   "execution_count": 2,
   "id": "c897b802-0f23-4c7f-a2f2-43c48a747ff0",
   "metadata": {},
   "outputs": [
    {
     "name": "stdout",
     "output_type": "stream",
     "text": [
      "[23 45 67 89 10]\n"
     ]
    }
   ],
   "source": [
    "import numpy as np\n",
    "arr = np.array([23, 45, 67, 89, 10])\n",
    "print(arr)"
   ]
  },
  {
   "cell_type": "code",
   "execution_count": 3,
   "id": "9472c9e8-c23b-4c7a-b50d-ef96c7547fa6",
   "metadata": {},
   "outputs": [
    {
     "data": {
      "text/plain": [
       "array([23, 45, 67, 89, 10])"
      ]
     },
     "execution_count": 3,
     "metadata": {},
     "output_type": "execute_result"
    }
   ],
   "source": [
    "arr"
   ]
  },
  {
   "cell_type": "code",
   "execution_count": 4,
   "id": "ece6384e-102c-4bc9-90d9-1cf7321a497f",
   "metadata": {},
   "outputs": [
    {
     "data": {
      "text/plain": [
       "numpy.ndarray"
      ]
     },
     "execution_count": 4,
     "metadata": {},
     "output_type": "execute_result"
    }
   ],
   "source": [
    "type(arr)"
   ]
  },
  {
   "cell_type": "code",
   "execution_count": 5,
   "id": "d73036ba-50c1-4340-8925-d0b07848f80e",
   "metadata": {},
   "outputs": [],
   "source": [
    "arr[2] = 12"
   ]
  },
  {
   "cell_type": "code",
   "execution_count": 6,
   "id": "1108f0c3-bc43-4c6a-833b-8e9773fa1c41",
   "metadata": {},
   "outputs": [
    {
     "data": {
      "text/plain": [
       "array([23, 45, 12, 89, 10])"
      ]
     },
     "execution_count": 6,
     "metadata": {},
     "output_type": "execute_result"
    }
   ],
   "source": [
    "arr"
   ]
  },
  {
   "cell_type": "code",
   "execution_count": 7,
   "id": "da1797f1-db26-45c6-99f7-f0bfb9974c60",
   "metadata": {},
   "outputs": [],
   "source": [
    "arr[4] = 12"
   ]
  },
  {
   "cell_type": "code",
   "execution_count": 8,
   "id": "97a31fdb-28e6-40af-aa34-6ba31dccf2db",
   "metadata": {},
   "outputs": [
    {
     "data": {
      "text/plain": [
       "array([23, 45, 12, 89, 12])"
      ]
     },
     "execution_count": 8,
     "metadata": {},
     "output_type": "execute_result"
    }
   ],
   "source": [
    "arr\n"
   ]
  },
  {
   "cell_type": "code",
   "execution_count": null,
   "id": "e1ffae88-2d43-4191-850b-6a99a5a5ef72",
   "metadata": {},
   "outputs": [],
   "source": [
    "arr1 = np.array([12, 34.98, 55, True, \"Pune\"])\n"
   ]
  },
  {
   "cell_type": "code",
   "execution_count": null,
   "id": "342b14c6-9c68-43f3-9ba7-cc515206728a",
   "metadata": {},
   "outputs": [],
   "source": [
    "import time\n",
    "time.time()"
   ]
  },
  {
   "cell_type": "code",
   "execution_count": null,
   "id": "4043405e-b8e8-4f04-8645-e71537bb6671",
   "metadata": {},
   "outputs": [],
   "source": [
    "s = 100000\n",
    "\n",
    "list1 = list(range(s))\n",
    "\n",
    "arr1 = np.array(list1)"
   ]
  },
  {
   "cell_type": "code",
   "execution_count": null,
   "id": "7740e75c-dcac-4a02-8d21-38c5682654bf",
   "metadata": {},
   "outputs": [],
   "source": [
    "#for list\n",
    "start_time = time.time()\n",
    "x = [i * 2 for i in list1]\n",
    "time_list = time.time() - start_time\n",
    "print(\"Time taken by list :\",time_list)"
   ]
  },
  {
   "cell_type": "code",
   "execution_count": null,
   "id": "d3519823-f681-4c68-a62b-d921ccd91096",
   "metadata": {},
   "outputs": [],
   "source": [
    "#for array\n",
    "start_time = time.time()\n",
    "y = arr1 * 2\n",
    "time_arr = time.time() - start_time\n",
    "print(\"Time taken by list :\",time_arr)"
   ]
  },
  {
   "cell_type": "code",
   "execution_count": null,
   "id": "17fadd8d-251d-4dd8-8bc3-a9ce6f07cf65",
   "metadata": {},
   "outputs": [],
   "source": [
    "arr.shape"
   ]
  },
  {
   "cell_type": "code",
   "execution_count": null,
   "id": "ba5b6af2-929a-4428-a8bd-252d9e73df9e",
   "metadata": {},
   "outputs": [],
   "source": [
    "arr.flatten().ndim"
   ]
  },
  {
   "cell_type": "raw",
   "id": "b47f4e9a-f199-4b52-b744-f5104fc3b8be",
   "metadata": {},
   "source": [
    "import numpy as np\n",
    "\n",
    "arr = np.array([\n",
    "    [1, 2, 3],\n",
    "    [4, 2, 1],\n",
    "    [6, 9, 4],\n",
    "    [6, 3, 8]\n",
    "])\n",
    "\n",
    "reshaped = arr.reshape(2, 6)"
   ]
  },
  {
   "cell_type": "code",
   "execution_count": null,
   "id": "29bc45d0-a02c-4c62-b301-cf5468ceea75",
   "metadata": {},
   "outputs": [],
   "source": [
    "arr.shape"
   ]
  },
  {
   "cell_type": "code",
   "execution_count": null,
   "id": "598fb24b-af97-4412-92ad-72370708630e",
   "metadata": {},
   "outputs": [],
   "source": [
    "arr.reshape(2, 6)"
   ]
  },
  {
   "cell_type": "code",
   "execution_count": null,
   "id": "277c679f-52aa-4f11-931b-7a80b59d5b16",
   "metadata": {},
   "outputs": [],
   "source": [
    "arr.reshape(2, -1)"
   ]
  },
  {
   "cell_type": "code",
   "execution_count": null,
   "id": "f43a6e5b-0a98-42b1-88a8-aec1f5ee1fa4",
   "metadata": {},
   "outputs": [],
   "source": [
    "arr1 = np.arange(3, 13)\n",
    "arr1"
   ]
  },
  {
   "cell_type": "code",
   "execution_count": null,
   "id": "b6cdd8f8-edca-4302-9602-7336ccf2f8b8",
   "metadata": {},
   "outputs": [],
   "source": [
    "arr1[3:7]"
   ]
  },
  {
   "cell_type": "code",
   "execution_count": null,
   "id": "1812a9a2-2bcd-4e61-a746-94cfae1c1175",
   "metadata": {},
   "outputs": [],
   "source": [
    "arr[1:3, 0:2]"
   ]
  },
  {
   "cell_type": "code",
   "execution_count": null,
   "id": "f772dbed-c099-4d60-9049-cd1116cb365a",
   "metadata": {},
   "outputs": [],
   "source": [
    "b = np.array([[3,3], [10, 1]])\n"
   ]
  },
  {
   "cell_type": "code",
   "execution_count": null,
   "id": "1d14494f-e863-46e2-9ae2-0903e18c9f75",
   "metadata": {},
   "outputs": [],
   "source": [
    "a"
   ]
  },
  {
   "cell_type": "code",
   "execution_count": null,
   "id": "de02c93d-b0fe-41fd-960c-d36a964349be",
   "metadata": {},
   "outputs": [],
   "source": [
    "b"
   ]
  },
  {
   "cell_type": "code",
   "execution_count": null,
   "id": "28931d7e-2da5-4ea1-83a7-ece4ad1eef54",
   "metadata": {},
   "outputs": [],
   "source": [
    "dot_product = np.dot(a, b)\n",
    "print(dot_product)"
   ]
  },
  {
   "cell_type": "code",
   "execution_count": null,
   "id": "3d85f174-82f9-479a-8b77-10808cdef539",
   "metadata": {},
   "outputs": [],
   "source": [
    "#vector\n",
    "\n",
    "vec = np.array([3, 6])"
   ]
  },
  {
   "cell_type": "code",
   "execution_count": null,
   "id": "3dfdd1ce-b4d8-4029-b3e4-bb07ab463125",
   "metadata": {},
   "outputs": [],
   "source": [
    "np.linalg.norm(vec)"
   ]
  },
  {
   "cell_type": "code",
   "execution_count": null,
   "id": "f81f4f59-fd09-4fc1-825e-d793f0d3d64e",
   "metadata": {},
   "outputs": [],
   "source": [
    "#create a Numpy array of shape (3,3) with the values ranging from 1 to 9\n",
    "arr = np.array([[1, 2, 3],\n",
    "               [4, 5, 6],\n",
    "               [7, 8, 9]])\n",
    "print(arr)"
   ]
  },
  {
   "cell_type": "code",
   "execution_count": null,
   "id": "56f4e763-8f9b-49f1-b85f-73e01f15ff51",
   "metadata": {},
   "outputs": [],
   "source": [
    "#GIven is a 1D Numpy array [10,20,30,40,50], wirte a code to reverse this array\n",
    "\n",
    "arr1 = np.array([10, 20, 30, 40, 50])\n",
    "arr1[ :: -1]"
   ]
  },
  {
   "cell_type": "code",
   "execution_count": null,
   "id": "9616ef11-6de7-4465-b205-fd1843768b4b",
   "metadata": {},
   "outputs": [],
   "source": [
    "#craete a 5x5 Numpy array filled with zeroes and set the value of the middle element to 1\n",
    "\n",
    "arr1 = np.array([[0, 0, 0, 0, 0],\n",
    "                [0, 0, 0, 0, 0],\n",
    "                [0, 0, 0, 0, 0],\n",
    "                [0, 0, 0, 0, 0],\n",
    "                [0, 0, 0, 0, 0],])\n",
    "\n",
    "arr1[2,2] = 1\n",
    "print(arr1)"
   ]
  },
  {
   "cell_type": "code",
   "execution_count": null,
   "id": "fe4d16e7-fa5c-4be8-8836-225fb22f75a4",
   "metadata": {},
   "outputs": [],
   "source": [
    "#Generate a Numpy array with random 20 integers between 1 and 100, replace all even numbers with -1\n",
    "\n",
    "arr = np.random.randint(1, 101, size=20)\n",
    "\n",
    "arr[arr % 2 == 0] = -1\n",
    "\n",
    "print(arr)\n"
   ]
  },
  {
   "cell_type": "code",
   "execution_count": null,
   "id": "8cff914c-e19f-4354-8d39-3479aa3a7f74",
   "metadata": {},
   "outputs": [],
   "source": [
    "#Given a Numpy arrray a=np.array([[1, 2], [3, 4], [5,6]], extract the second column\n",
    "\n",
    "a=np.array([[1, 2], [3, 4], [5,6]])\n",
    "a[1 : : 1]"
   ]
  },
  {
   "cell_type": "code",
   "execution_count": null,
   "id": "65a20339-c4af-4730-8a41-d6e09c30529c",
   "metadata": {},
   "outputs": [],
   "source": []
  },
  {
   "cell_type": "code",
   "execution_count": null,
   "id": "39454d2e-ebd6-4861-9d0e-01d6ac55b084",
   "metadata": {},
   "outputs": [],
   "source": []
  }
 ],
 "metadata": {
  "kernelspec": {
   "display_name": "Python [conda env:base] *",
   "language": "python",
   "name": "conda-base-py"
  },
  "language_info": {
   "codemirror_mode": {
    "name": "ipython",
    "version": 3
   },
   "file_extension": ".py",
   "mimetype": "text/x-python",
   "name": "python",
   "nbconvert_exporter": "python",
   "pygments_lexer": "ipython3",
   "version": "3.12.7"
  }
 },
 "nbformat": 4,
 "nbformat_minor": 5
}
