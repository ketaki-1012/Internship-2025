{
 "cells": [
  {
   "cell_type": "code",
   "execution_count": 14,
   "id": "7dd187b9-9d48-4471-b48e-1f8da9deabd7",
   "metadata": {},
   "outputs": [
    {
     "name": "stdout",
     "output_type": "stream",
     "text": [
      "Hello\n"
     ]
    }
   ],
   "source": [
    "#simple class definition\n",
    "class Test:\n",
    "    def show(self):\n",
    "        print(\"Hello\")\n",
    "\n",
    "obj = Test()\n",
    "obj.show()  # Works fine now\n"
   ]
  },
  {
   "cell_type": "code",
   "execution_count": 16,
   "id": "fd6d22fb-b483-4af0-996e-84e842ef8c41",
   "metadata": {},
   "outputs": [],
   "source": [
    "class Myclass:\n",
    "    def _init_(self):\n",
    "        print('Hello World!')"
   ]
  },
  {
   "cell_type": "code",
   "execution_count": 18,
   "id": "c1823b40-44c8-4ea5-bfd3-59126acef441",
   "metadata": {},
   "outputs": [],
   "source": [
    "m = Myclass()"
   ]
  },
  {
   "cell_type": "code",
   "execution_count": 32,
   "id": "0c5aadda-581d-4a66-9f5a-e575f40b39ed",
   "metadata": {},
   "outputs": [],
   "source": [
    "class Myclass:\n",
    "    def __init__(self, x):\n",
    "        print('Hello',x)"
   ]
  },
  {
   "cell_type": "code",
   "execution_count": 33,
   "id": "5a196fd8-4ef1-45d8-b28a-bc8e0114f95c",
   "metadata": {},
   "outputs": [
    {
     "name": "stdout",
     "output_type": "stream",
     "text": [
      "Hello Ketaki\n"
     ]
    }
   ],
   "source": [
    "m = Myclass('Ketaki')"
   ]
  },
  {
   "cell_type": "code",
   "execution_count": 28,
   "id": "932d0240-0c45-4fd4-8b66-cf39beaaaa53",
   "metadata": {},
   "outputs": [],
   "source": [
    "class Myclass:\n",
    "    def __init__(self, x):\n",
    "        self.name = x\n",
    "        print('Hello',self.name)"
   ]
  },
  {
   "cell_type": "code",
   "execution_count": 30,
   "id": "04c3718f-7c94-42b0-8194-54eb3b522220",
   "metadata": {},
   "outputs": [
    {
     "name": "stdout",
     "output_type": "stream",
     "text": [
      "Hello Ketaki\n"
     ]
    }
   ],
   "source": [
    "m = Myclass('Ketaki')"
   ]
  },
  {
   "cell_type": "code",
   "execution_count": 31,
   "id": "783ac0e4-7f26-491f-a5f6-0b03fe8a73eb",
   "metadata": {},
   "outputs": [
    {
     "data": {
      "text/plain": [
       "'Ketaki'"
      ]
     },
     "execution_count": 31,
     "metadata": {},
     "output_type": "execute_result"
    }
   ],
   "source": [
    "m.name"
   ]
  },
  {
   "cell_type": "code",
   "execution_count": 40,
   "id": "f1fef866-9157-4096-8420-761ff07eef29",
   "metadata": {},
   "outputs": [
    {
     "name": "stdout",
     "output_type": "stream",
     "text": [
      "Your data\n",
      "Ajay 30\n"
     ]
    }
   ],
   "source": [
    "class Person:\n",
    "    def __init__(self, name, age):\n",
    "        self.name = name\n",
    "        self.age = age\n",
    "\n",
    "    def show(self):\n",
    "        print('Your data')\n",
    "        print(self.name, self.age)\n",
    "\n",
    "p3 = Person('Ajay', 30)\n",
    "p3.show()\n"
   ]
  },
  {
   "cell_type": "code",
   "execution_count": 42,
   "id": "867b3f34-f800-497c-bf06-a529ce1035b1",
   "metadata": {},
   "outputs": [
    {
     "name": "stdout",
     "output_type": "stream",
     "text": [
      "Your data\n",
      "vijay 23\n"
     ]
    }
   ],
   "source": [
    "p4 = Person('vijay',23)\n",
    "p4.show()"
   ]
  },
  {
   "cell_type": "code",
   "execution_count": 47,
   "id": "ff437a24-ab33-4e9b-9bf6-39e5d26146e6",
   "metadata": {},
   "outputs": [],
   "source": [
    "class Person:\n",
    "    city = 'Pune'  # Class attribute\n",
    "\n",
    "    def __init__(self, n, a=25):\n",
    "        self.name = n\n",
    "        self.age = a\n",
    "\n",
    "    def show(self):\n",
    "        print('Your data')\n",
    "        print(self.name, self.age)\n",
    "\n",
    "    def isEligible(self):\n",
    "        if self.age >= 18:\n",
    "            return True\n",
    "        else:\n",
    "            return False\n"
   ]
  },
  {
   "cell_type": "code",
   "execution_count": 48,
   "id": "8884081b-cad2-4fbb-973e-54dd301af973",
   "metadata": {},
   "outputs": [],
   "source": [
    "p6 = Person('anita',34)\n",
    "p7 = Person('Sunita',45)"
   ]
  },
  {
   "cell_type": "code",
   "execution_count": 49,
   "id": "b9141099-80b3-4626-be7e-6fa26408b793",
   "metadata": {},
   "outputs": [
    {
     "data": {
      "text/plain": [
       "'Pune'"
      ]
     },
     "execution_count": 49,
     "metadata": {},
     "output_type": "execute_result"
    }
   ],
   "source": [
    "p6.city"
   ]
  },
  {
   "cell_type": "code",
   "execution_count": 50,
   "id": "6bba4724-a5e6-459e-bf60-9a9a577e5e18",
   "metadata": {},
   "outputs": [],
   "source": [
    "p6.city='MUMbai'"
   ]
  },
  {
   "cell_type": "code",
   "execution_count": 51,
   "id": "bfc923e1-5db1-498a-8cc8-958c663a7d9b",
   "metadata": {},
   "outputs": [
    {
     "data": {
      "text/plain": [
       "'MUMbai'"
      ]
     },
     "execution_count": 51,
     "metadata": {},
     "output_type": "execute_result"
    }
   ],
   "source": [
    "p6.city\n"
   ]
  },
  {
   "cell_type": "code",
   "execution_count": 52,
   "id": "1b7b63e4-3ca2-4ccb-818e-a65f94198ac9",
   "metadata": {},
   "outputs": [],
   "source": [
    "#we use double underscore (or __) before the attribute name and those attributes will not directly visible outside\n"
   ]
  },
  {
   "cell_type": "code",
   "execution_count": 53,
   "id": "dcbb19b7-3401-4434-88bf-a159ea3ed5c5",
   "metadata": {},
   "outputs": [],
   "source": [
    "#data hiding\n"
   ]
  },
  {
   "cell_type": "code",
   "execution_count": 69,
   "id": "27e7fdc3-313a-4f92-8fa4-8638ca7ebbc0",
   "metadata": {},
   "outputs": [],
   "source": [
    "class Player:\n",
    "    def __init__(self, n, m):\n",
    "        self.name = n\n",
    "        self.matches = m\n",
    "\n",
    "    def display(self):\n",
    "        print(self.name, 'has played', self.matches, 'matches')\n",
    "\n"
   ]
  },
  {
   "cell_type": "code",
   "execution_count": 70,
   "id": "bca821f6-b97a-443f-b0d7-1446a50407af",
   "metadata": {},
   "outputs": [
    {
     "name": "stdout",
     "output_type": "stream",
     "text": [
      "vijay has played 10 matches\n"
     ]
    }
   ],
   "source": [
    "p1 =  Player ('vijay', 10)\n",
    "p1.display()"
   ]
  },
  {
   "cell_type": "code",
   "execution_count": null,
   "id": "f0c4ecf8-a214-4cf2-ab6a-0687440892cd",
   "metadata": {},
   "outputs": [],
   "source": [
    "#inheritance\n"
   ]
  },
  {
   "cell_type": "code",
   "execution_count": 72,
   "id": "616ec805-250c-49ec-b755-491ecb2662ea",
   "metadata": {},
   "outputs": [],
   "source": [
    "class Person: #super class\n",
    "    city = 'Pune'  # Class attribute\n",
    "\n",
    "    def __init__(self, n, a=25):\n",
    "        self.name = n\n",
    "        self.age = a\n",
    "\n",
    "    def show(self):\n",
    "        print('Your data')\n",
    "        print(self.name, self.age)\n",
    "\n",
    "class Employee(Person): #sub class\n",
    "    def isEligible(self):\n",
    "        if self.age >= 18:\n",
    "            return True\n",
    "        else:\n",
    "            return False    "
   ]
  },
  {
   "cell_type": "code",
   "execution_count": 73,
   "id": "8b4dac5f-5b17-4ded-a682-f0090e1402b3",
   "metadata": {},
   "outputs": [],
   "source": [
    "emp = Person('Anita',16)"
   ]
  },
  {
   "cell_type": "code",
   "execution_count": 74,
   "id": "933b8870-7b33-4c01-b3aa-603b0567e9ce",
   "metadata": {},
   "outputs": [
    {
     "name": "stdout",
     "output_type": "stream",
     "text": [
      "Your data\n",
      "Anita 16\n"
     ]
    }
   ],
   "source": [
    "emp.show()"
   ]
  },
  {
   "cell_type": "code",
   "execution_count": 76,
   "id": "9088d1dc-ae85-4229-b07f-68b1e4def094",
   "metadata": {},
   "outputs": [],
   "source": [
    "emp = Employee('Raj',16)"
   ]
  },
  {
   "cell_type": "code",
   "execution_count": 77,
   "id": "d8946147-24e7-4c8c-99e7-3c5529e8b81e",
   "metadata": {},
   "outputs": [
    {
     "name": "stdout",
     "output_type": "stream",
     "text": [
      "Your data\n",
      "Raj 16\n"
     ]
    }
   ],
   "source": [
    "emp.show()"
   ]
  },
  {
   "cell_type": "code",
   "execution_count": 85,
   "id": "3a57a639-79a4-4edd-9cfb-c7c23db7bb72",
   "metadata": {},
   "outputs": [
    {
     "data": {
      "text/plain": [
       "True"
      ]
     },
     "execution_count": 85,
     "metadata": {},
     "output_type": "execute_result"
    }
   ],
   "source": [
    "emp1 = Employee('ketki')\n",
    "emp1.isEligible()"
   ]
  },
  {
   "cell_type": "code",
   "execution_count": 84,
   "id": "29d8f72d-004b-4e0c-9292-91686a23d244",
   "metadata": {},
   "outputs": [
    {
     "data": {
      "text/plain": [
       "False"
      ]
     },
     "execution_count": 84,
     "metadata": {},
     "output_type": "execute_result"
    }
   ],
   "source": [
    "emp1 = Employee('ketki',12)\n",
    "emp1.isEligible()"
   ]
  },
  {
   "cell_type": "code",
   "execution_count": 88,
   "id": "eb8395e0-14f2-46c1-a728-4ad05a0e3650",
   "metadata": {},
   "outputs": [],
   "source": [
    "#####check the subclass\n"
   ]
  },
  {
   "cell_type": "code",
   "execution_count": 91,
   "id": "bfb2cc40-d84e-4b6c-8bb0-804f23be39e8",
   "metadata": {},
   "outputs": [],
   "source": [
    "class Base(object):\n",
    "    pass\n",
    "class Derived(Base):\n",
    "    pass"
   ]
  },
  {
   "cell_type": "code",
   "execution_count": 92,
   "id": "9ee8b697-b1c7-431b-b858-592fc516359c",
   "metadata": {},
   "outputs": [
    {
     "data": {
      "text/plain": [
       "False"
      ]
     },
     "execution_count": 92,
     "metadata": {},
     "output_type": "execute_result"
    }
   ],
   "source": [
    "issubclass(Base,Derived)"
   ]
  },
  {
   "cell_type": "code",
   "execution_count": 93,
   "id": "5b812ab6-a2dd-4446-b104-aeef76b713bc",
   "metadata": {},
   "outputs": [
    {
     "data": {
      "text/plain": [
       "True"
      ]
     },
     "execution_count": 93,
     "metadata": {},
     "output_type": "execute_result"
    }
   ],
   "source": [
    "issubclass(Derived,Base)"
   ]
  },
  {
   "cell_type": "code",
   "execution_count": 94,
   "id": "fe1ec6e0-de15-4a81-bb76-ab63239048cb",
   "metadata": {},
   "outputs": [],
   "source": [
    "b = Base()\n",
    "d = Derived()"
   ]
  },
  {
   "cell_type": "code",
   "execution_count": 95,
   "id": "6a13327c-f9b7-4e76-a80a-a508b32d7118",
   "metadata": {},
   "outputs": [
    {
     "data": {
      "text/plain": [
       "False"
      ]
     },
     "execution_count": 95,
     "metadata": {},
     "output_type": "execute_result"
    }
   ],
   "source": [
    "isinstance(b,Derived)"
   ]
  },
  {
   "cell_type": "code",
   "execution_count": 96,
   "id": "33f0bc3e-efa4-4969-92ec-883fac560eca",
   "metadata": {},
   "outputs": [
    {
     "data": {
      "text/plain": [
       "True"
      ]
     },
     "execution_count": 96,
     "metadata": {},
     "output_type": "execute_result"
    }
   ],
   "source": [
    "isinstance(d,Derived)"
   ]
  },
  {
   "cell_type": "code",
   "execution_count": 100,
   "id": "9044419f-4552-4df3-b456-2ae08d3c3c8c",
   "metadata": {},
   "outputs": [],
   "source": [
    "class Base1(object):\n",
    "    def __init__(self):\n",
    "        self.str1 = \"Rajesh\"\n",
    "        print('Base1')\n",
    "\n",
    "class Base2(object):\n",
    "    def __init__(self):\n",
    "        self.str2 = \"Radha\"\n",
    "        print('Base2')\n",
    "\n",
    "class Derived(Base1, Base2):\n",
    "    def __init__(self):\n",
    "        Base1.__init__(self)\n",
    "        Base2.__init__(self)\n",
    "        print('Derived')\n",
    "    def printValues(self):\n",
    "        print(self.str1,self.str2)"
   ]
  },
  {
   "cell_type": "code",
   "execution_count": 101,
   "id": "1e7b9ad0-42ca-4c23-9a43-9ccf1122573b",
   "metadata": {},
   "outputs": [
    {
     "name": "stdout",
     "output_type": "stream",
     "text": [
      "Base1\n",
      "Base2\n",
      "Derived\n"
     ]
    }
   ],
   "source": [
    "d = Derived()"
   ]
  },
  {
   "cell_type": "code",
   "execution_count": 103,
   "id": "b7cbf693-e9f9-4055-bbbf-3940de210c6b",
   "metadata": {},
   "outputs": [
    {
     "name": "stdout",
     "output_type": "stream",
     "text": [
      "Rajesh Radha\n"
     ]
    }
   ],
   "source": [
    "d.printValues()"
   ]
  },
  {
   "cell_type": "code",
   "execution_count": null,
   "id": "229357d3-3717-43bc-802c-9305f3c72b90",
   "metadata": {},
   "outputs": [],
   "source": []
  }
 ],
 "metadata": {
  "kernelspec": {
   "display_name": "Python [conda env:base] *",
   "language": "python",
   "name": "conda-base-py"
  },
  "language_info": {
   "codemirror_mode": {
    "name": "ipython",
    "version": 3
   },
   "file_extension": ".py",
   "mimetype": "text/x-python",
   "name": "python",
   "nbconvert_exporter": "python",
   "pygments_lexer": "ipython3",
   "version": "3.12.7"
  }
 },
 "nbformat": 4,
 "nbformat_minor": 5
}
