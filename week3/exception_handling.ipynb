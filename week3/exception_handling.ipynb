{
 "cells": [
  {
   "cell_type": "code",
   "execution_count": 2,
   "id": "bb864d26-1c0c-42e3-aef0-c297f15f6dc5",
   "metadata": {},
   "outputs": [],
   "source": [
    "#exception handling\n",
    "#exception can be said to be any abnormal condiition in a program resulting to the disruption in the flow"
   ]
  },
  {
   "cell_type": "code",
   "execution_count": 1,
   "id": "61028b72-f83e-4344-93a1-2b24f1a27eeb",
   "metadata": {},
   "outputs": [
    {
     "name": "stdout",
     "output_type": "stream",
     "text": [
      "ok\n"
     ]
    }
   ],
   "source": [
    "if True:\n",
    "    print('ok')"
   ]
  },
  {
   "cell_type": "code",
   "execution_count": 3,
   "id": "cd43a991-48a6-4eae-ab92-9f883e30aa87",
   "metadata": {},
   "outputs": [],
   "source": [
    "def hello():\n",
    "    print('Hello')"
   ]
  },
  {
   "cell_type": "code",
   "execution_count": 6,
   "id": "0bd3e7a1-6d89-4c54-a615-a28f538da60c",
   "metadata": {},
   "outputs": [
    {
     "data": {
      "text/plain": [
       "5"
      ]
     },
     "execution_count": 6,
     "metadata": {},
     "output_type": "execute_result"
    }
   ],
   "source": [
    "x=[2,3,4,5]\n",
    "x[3]"
   ]
  },
  {
   "cell_type": "code",
   "execution_count": 10,
   "id": "a0541808-9cb5-4694-bb00-e41702c518c1",
   "metadata": {},
   "outputs": [],
   "source": [
    "d = {4:67, 3:13, 7:57}\n"
   ]
  },
  {
   "cell_type": "code",
   "execution_count": 12,
   "id": "ab931aa8-22b0-4ad4-ac80-8de52d76241e",
   "metadata": {},
   "outputs": [],
   "source": [
    "t = (45,57,78,23)\n"
   ]
  },
  {
   "cell_type": "code",
   "execution_count": 16,
   "id": "5d1c3878-b97a-4458-b1ba-ce57c066eb30",
   "metadata": {},
   "outputs": [
    {
     "ename": "ValueError",
     "evalue": "invalid literal for int() with base 10: 'Hello'",
     "output_type": "error",
     "traceback": [
      "\u001b[1;31m---------------------------------------------------------------------------\u001b[0m",
      "\u001b[1;31mValueError\u001b[0m                                Traceback (most recent call last)",
      "Cell \u001b[1;32mIn[16], line 1\u001b[0m\n\u001b[1;32m----> 1\u001b[0m x \u001b[38;5;241m=\u001b[39m \u001b[38;5;28mint\u001b[39m(\u001b[38;5;124m'\u001b[39m\u001b[38;5;124mHello\u001b[39m\u001b[38;5;124m'\u001b[39m)\n",
      "\u001b[1;31mValueError\u001b[0m: invalid literal for int() with base 10: 'Hello'"
     ]
    }
   ],
   "source": [
    "x = int('Hello')"
   ]
  },
  {
   "cell_type": "code",
   "execution_count": 17,
   "id": "9febefcd-9e98-4a28-972f-1a895dee78dc",
   "metadata": {},
   "outputs": [
    {
     "ename": "ValueError",
     "evalue": "too many values to unpack (expected 2)",
     "output_type": "error",
     "traceback": [
      "\u001b[1;31m---------------------------------------------------------------------------\u001b[0m",
      "\u001b[1;31mValueError\u001b[0m                                Traceback (most recent call last)",
      "Cell \u001b[1;32mIn[17], line 1\u001b[0m\n\u001b[1;32m----> 1\u001b[0m x , y \u001b[38;5;241m=\u001b[39m \u001b[38;5;241m23\u001b[39m,\u001b[38;5;241m345\u001b[39m,\u001b[38;5;241m67\u001b[39m\n",
      "\u001b[1;31mValueError\u001b[0m: too many values to unpack (expected 2)"
     ]
    }
   ],
   "source": [
    "x , y = 23,345,67"
   ]
  },
  {
   "cell_type": "code",
   "execution_count": 18,
   "id": "3e2811e2-bee0-420f-9f6a-c046199d62a3",
   "metadata": {},
   "outputs": [
    {
     "data": {
      "text/plain": [
       "4.571428571428571"
      ]
     },
     "execution_count": 18,
     "metadata": {},
     "output_type": "execute_result"
    }
   ],
   "source": [
    "32/7"
   ]
  },
  {
   "cell_type": "code",
   "execution_count": 19,
   "id": "88269cb6-fd4a-456a-88e6-518eb1f9dde9",
   "metadata": {},
   "outputs": [
    {
     "ename": "ZeroDivisionError",
     "evalue": "division by zero",
     "output_type": "error",
     "traceback": [
      "\u001b[1;31m---------------------------------------------------------------------------\u001b[0m",
      "\u001b[1;31mZeroDivisionError\u001b[0m                         Traceback (most recent call last)",
      "Cell \u001b[1;32mIn[19], line 1\u001b[0m\n\u001b[1;32m----> 1\u001b[0m \u001b[38;5;241m34\u001b[39m\u001b[38;5;241m/\u001b[39m\u001b[38;5;241m0\u001b[39m\n",
      "\u001b[1;31mZeroDivisionError\u001b[0m: division by zero"
     ]
    }
   ],
   "source": [
    "34/0"
   ]
  },
  {
   "cell_type": "code",
   "execution_count": 20,
   "id": "44a21701-eb44-49b1-b940-e4e8b4f737c2",
   "metadata": {},
   "outputs": [
    {
     "ename": "ModuleNotFoundError",
     "evalue": "No module named 'values'",
     "output_type": "error",
     "traceback": [
      "\u001b[1;31m---------------------------------------------------------------------------\u001b[0m",
      "\u001b[1;31mModuleNotFoundError\u001b[0m                       Traceback (most recent call last)",
      "Cell \u001b[1;32mIn[20], line 1\u001b[0m\n\u001b[1;32m----> 1\u001b[0m \u001b[38;5;28;01mimport\u001b[39;00m \u001b[38;5;21;01mvalues\u001b[39;00m\n",
      "\u001b[1;31mModuleNotFoundError\u001b[0m: No module named 'values'"
     ]
    }
   ],
   "source": [
    "import values"
   ]
  },
  {
   "cell_type": "code",
   "execution_count": 21,
   "id": "6d7bb80a-a3cd-47b5-b429-6518e9d487a7",
   "metadata": {},
   "outputs": [],
   "source": [
    "#uncaught exceptions\n"
   ]
  },
  {
   "cell_type": "code",
   "execution_count": 22,
   "id": "c5475b94-fd48-46db-882f-94569f3d1d6c",
   "metadata": {},
   "outputs": [
    {
     "name": "stdin",
     "output_type": "stream",
     "text": [
      "Enter 1st number: 12\n",
      "Enter 2nd number: 10\n"
     ]
    },
    {
     "name": "stdout",
     "output_type": "stream",
     "text": [
      "Division : 1.2\n"
     ]
    }
   ],
   "source": [
    "num1 = int(input(\"Enter 1st number:\"))\n",
    "num2 = int(input(\"Enter 2nd number:\"))\n",
    "div = num1/num2\n",
    "print('Division :',div)"
   ]
  },
  {
   "cell_type": "code",
   "execution_count": 23,
   "id": "e234aa14-0bf6-442a-aa17-7f3daf62d00f",
   "metadata": {},
   "outputs": [],
   "source": [
    "##try and except"
   ]
  },
  {
   "cell_type": "code",
   "execution_count": null,
   "id": "532346f7-e125-4b3a-a467-ce14d8657006",
   "metadata": {},
   "outputs": [
    {
     "name": "stdin",
     "output_type": "stream",
     "text": [
      "Enter 1st number: 5\n",
      "Enter 2nd number: 0\n"
     ]
    }
   ],
   "source": [
    "import os\n",
    "num1 = int(input(\"Enter 1st number:\"))\n",
    "num2 = int(input(\"Enter 2nd number:\"))\n",
    "try:\n",
    "    div = num1/num2\n",
    "except ZeroDivisionError:\n",
    "    print('Denominator must be non zero! ')\n",
    "    os._exit(0)\n",
    "print('Division :',div)"
   ]
  },
  {
   "cell_type": "code",
   "execution_count": 1,
   "id": "749da211-b574-4dfb-aa30-652211712387",
   "metadata": {},
   "outputs": [
    {
     "name": "stdin",
     "output_type": "stream",
     "text": [
      "Enter 1st number: 34\n",
      "Enter 2nd number: 0\n"
     ]
    },
    {
     "name": "stdout",
     "output_type": "stream",
     "text": [
      "Denominator must be non zero! \n"
     ]
    },
    {
     "ename": "NameError",
     "evalue": "name 'div' is not defined",
     "output_type": "error",
     "traceback": [
      "\u001b[1;31m---------------------------------------------------------------------------\u001b[0m",
      "\u001b[1;31mNameError\u001b[0m                                 Traceback (most recent call last)",
      "Cell \u001b[1;32mIn[1], line 12\u001b[0m\n\u001b[0;32m     10\u001b[0m     \u001b[38;5;28mprint\u001b[39m(\u001b[38;5;124m'\u001b[39m\u001b[38;5;124mWrong input!!\u001b[39m\u001b[38;5;124m'\u001b[39m)\n\u001b[0;32m     11\u001b[0m     exit()\n\u001b[1;32m---> 12\u001b[0m \u001b[38;5;28mprint\u001b[39m(\u001b[38;5;124m'\u001b[39m\u001b[38;5;124mDivision: \u001b[39m\u001b[38;5;124m'\u001b[39m,div)\n",
      "\u001b[1;31mNameError\u001b[0m: name 'div' is not defined"
     ]
    }
   ],
   "source": [
    "import os\n",
    "num1 = int(input(\"Enter 1st number:\"))\n",
    "num2 = int(input(\"Enter 2nd number:\"))\n",
    "try:\n",
    "    div = num1/num2\n",
    "except ZeroDivisionError:\n",
    "    print('Denominator must be non zero! ')\n",
    "    exit()\n",
    "except ValueError:\n",
    "    print('Wrong input!!')\n",
    "    exit()\n",
    "print('Division: ',div)"
   ]
  },
  {
   "cell_type": "code",
   "execution_count": 2,
   "id": "8b6e6827-418d-4b7c-9cd2-41ef65991185",
   "metadata": {},
   "outputs": [
    {
     "name": "stdin",
     "output_type": "stream",
     "text": [
      "Enter 1st number: three\n"
     ]
    },
    {
     "name": "stdout",
     "output_type": "stream",
     "text": [
      "Error invalid literal for int() with base 10: 'three'\n"
     ]
    }
   ],
   "source": [
    "import os\n",
    "\n",
    "try:\n",
    "    num1 = int(input(\"Enter 1st number:\"))\n",
    "    num2 = int(input(\"Enter 2nd number:\"))\n",
    "    div = num1/num2\n",
    "    print('division: ',div)\n",
    "except Exception as e:\n",
    "    print('Error',e)\n",
    "    "
   ]
  },
  {
   "cell_type": "code",
   "execution_count": 3,
   "id": "5504bdac-8cde-4ebb-bc45-970557f0e979",
   "metadata": {},
   "outputs": [],
   "source": [
    "###try - except - else\n"
   ]
  },
  {
   "cell_type": "code",
   "execution_count": 7,
   "id": "ad3a7546-3378-4356-a727-9aff06262289",
   "metadata": {},
   "outputs": [
    {
     "name": "stdin",
     "output_type": "stream",
     "text": [
      "Enter 1st number: 34\n",
      "Enter 2nd number: 0\n"
     ]
    },
    {
     "name": "stdout",
     "output_type": "stream",
     "text": [
      "Error division by zero\n"
     ]
    }
   ],
   "source": [
    "###try - except - else\n",
    "\n",
    "try:\n",
    "    num1 = int(input(\"Enter 1st number:\"))\n",
    "    num2 = int(input(\"Enter 2nd number:\"))\n",
    "    div = num1/num2\n",
    "except Exception as e:\n",
    "    print('Error',e)\n",
    "else:\n",
    "        print('division: ',div)\n"
   ]
  },
  {
   "cell_type": "code",
   "execution_count": 6,
   "id": "4b2fa33c-9d00-447d-a8c3-c8523d733212",
   "metadata": {},
   "outputs": [],
   "source": [
    "###try - except - else - finally\n"
   ]
  },
  {
   "cell_type": "code",
   "execution_count": 10,
   "id": "3416b46e-c55c-4d0b-85cc-ddfcf0600988",
   "metadata": {},
   "outputs": [
    {
     "name": "stdin",
     "output_type": "stream",
     "text": [
      "Enter 1st number: 35s\n"
     ]
    },
    {
     "name": "stdout",
     "output_type": "stream",
     "text": [
      "Error invalid literal for int() with base 10: '35s'\n",
      "program ends\n"
     ]
    }
   ],
   "source": [
    "try:\n",
    "    num1 = int(input(\"Enter 1st number:\"))\n",
    "    num2 = int(input(\"Enter 2nd number:\"))\n",
    "    div = num1/num2\n",
    "except Exception as e:\n",
    "    print('Error',e)\n",
    "else:\n",
    "        print('division: ',div)\n",
    "finally:\n",
    "    print('program ends')"
   ]
  },
  {
   "cell_type": "code",
   "execution_count": 11,
   "id": "8e69ff18-ee88-4ffc-a9bb-eeae5e72e557",
   "metadata": {},
   "outputs": [],
   "source": [
    "##Raising an exception"
   ]
  },
  {
   "cell_type": "code",
   "execution_count": 14,
   "id": "006e3577-873c-4363-a34b-6b9cdd83d058",
   "metadata": {},
   "outputs": [
    {
     "name": "stdin",
     "output_type": "stream",
     "text": [
      "Enter a number:  23456\n"
     ]
    },
    {
     "ename": "Exception",
     "evalue": "Large number!",
     "output_type": "error",
     "traceback": [
      "\u001b[1;31m---------------------------------------------------------------------------\u001b[0m",
      "\u001b[1;31mException\u001b[0m                                 Traceback (most recent call last)",
      "Cell \u001b[1;32mIn[14], line 3\u001b[0m\n\u001b[0;32m      1\u001b[0m num \u001b[38;5;241m=\u001b[39m \u001b[38;5;28mint\u001b[39m(\u001b[38;5;28minput\u001b[39m(\u001b[38;5;124m\"\u001b[39m\u001b[38;5;124mEnter a number: \u001b[39m\u001b[38;5;124m\"\u001b[39m))\n\u001b[0;32m      2\u001b[0m \u001b[38;5;28;01mif\u001b[39;00m num \u001b[38;5;241m>\u001b[39m \u001b[38;5;241m1000\u001b[39m:\n\u001b[1;32m----> 3\u001b[0m     \u001b[38;5;28;01mraise\u001b[39;00m \u001b[38;5;167;01mException\u001b[39;00m(\u001b[38;5;124m'\u001b[39m\u001b[38;5;124mLarge number!\u001b[39m\u001b[38;5;124m'\u001b[39m)\n\u001b[0;32m      5\u001b[0m \u001b[38;5;28mprint\u001b[39m(\u001b[38;5;124m'\u001b[39m\u001b[38;5;124myour num is: \u001b[39m\u001b[38;5;124m'\u001b[39m,num)\n",
      "\u001b[1;31mException\u001b[0m: Large number!"
     ]
    }
   ],
   "source": [
    "num = int(input(\"Enter a number: \"))\n",
    "if num > 1000:\n",
    "    raise Exception('Large number!')\n",
    "\n",
    "print('your num is: ',num)\n"
   ]
  },
  {
   "cell_type": "code",
   "execution_count": 15,
   "id": "8ab16cc9-81d0-427a-bf3a-5f6ec0f52716",
   "metadata": {},
   "outputs": [],
   "source": [
    "#Create your own exceptions"
   ]
  },
  {
   "cell_type": "code",
   "execution_count": 17,
   "id": "470d58cc-34b1-461b-84ae-3892ddc1f13a",
   "metadata": {},
   "outputs": [],
   "source": [
    "class NegativeNumberException(Exception):\n",
    "    def __init__(self,data):\n",
    "        self.data = data\n",
    "        def __str__(self):\n",
    "            return repr('Number is negative!')"
   ]
  },
  {
   "cell_type": "code",
   "execution_count": 26,
   "id": "c95ac5d6-a9dc-403b-af3b-5c7f64ebcfb1",
   "metadata": {},
   "outputs": [
    {
     "name": "stdin",
     "output_type": "stream",
     "text": [
      "Enter a number:  7\n"
     ]
    },
    {
     "name": "stdout",
     "output_type": "stream",
     "text": [
      "Square of number: 49\n"
     ]
    }
   ],
   "source": [
    "# Define custom exception\n",
    "class NegativeNumberException(Exception):\n",
    "    def __init__(self, value):\n",
    "        self.value = value\n",
    "        super().__init__(f\"Negative number: {value}\")\n",
    "\n",
    "try:\n",
    "    num = int(input('Enter a number: '))\n",
    "    \n",
    "    if num < 0:\n",
    "        raise NegativeNumberException(num)\n",
    "    \n",
    "    print('Square of number:', num ** 2)\n",
    "\n",
    "except NegativeNumberException as ne:\n",
    "    print('Error:', ne)\n",
    "except ValueError:\n",
    "    print('Error: Please enter a valid integer.')\n"
   ]
  },
  {
   "cell_type": "code",
   "execution_count": null,
   "id": "54f00870-0fe2-448c-890a-a4da2bf318f9",
   "metadata": {},
   "outputs": [],
   "source": []
  }
 ],
 "metadata": {
  "kernelspec": {
   "display_name": "Python [conda env:base] *",
   "language": "python",
   "name": "conda-base-py"
  },
  "language_info": {
   "codemirror_mode": {
    "name": "ipython",
    "version": 3
   },
   "file_extension": ".py",
   "mimetype": "text/x-python",
   "name": "python",
   "nbconvert_exporter": "python",
   "pygments_lexer": "ipython3",
   "version": "3.12.7"
  }
 },
 "nbformat": 4,
 "nbformat_minor": 5
}
