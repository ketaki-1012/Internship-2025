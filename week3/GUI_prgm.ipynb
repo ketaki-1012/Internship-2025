{
 "cells": [
  {
   "cell_type": "code",
   "execution_count": 2,
   "id": "f44e44db-7f42-4db4-af7e-84ecae128313",
   "metadata": {},
   "outputs": [],
   "source": [
    "from tkinter import *"
   ]
  },
  {
   "cell_type": "code",
   "execution_count": 3,
   "id": "c29bea4b-cc17-4b59-91a5-be7377c8140d",
   "metadata": {},
   "outputs": [],
   "source": [
    "#simple window\n",
    "top = Tk()"
   ]
  },
  {
   "cell_type": "code",
   "execution_count": 4,
   "id": "ace9fa4f-3c52-4ce5-8c4c-ed057a2a0dd0",
   "metadata": {},
   "outputs": [],
   "source": [
    "top.mainloop()"
   ]
  },
  {
   "cell_type": "code",
   "execution_count": 5,
   "id": "115e404d-41cf-4ca6-9cff-2de9010a8f67",
   "metadata": {},
   "outputs": [],
   "source": [
    "#decorate the window\n",
    "top = Tk()\n",
    "top.geometry('6000x400+0+0')\n",
    "top.title('My first application')\n",
    "top.mainloop()"
   ]
  },
  {
   "cell_type": "code",
   "execution_count": null,
   "id": "da76c313-e7e2-4940-b951-6268979838c7",
   "metadata": {},
   "outputs": [],
   "source": [
    "#lable on the window\n",
    "top = Tk()\n",
    "top.geometry('6000x400+0+0')\n",
    "top.title('My first application')\n",
    "top.mainloop()\n",
    "\n",
    "l = label(top, text = 'Welcome to Tkinter Programming! ')\n",
    "l.pack()\n",
    "top.mainloop()"
   ]
  },
  {
   "cell_type": "code",
   "execution_count": null,
   "id": "bedd30ab-7f1c-4a43-b492-d7c22d67ea97",
   "metadata": {},
   "outputs": [],
   "source": [
    "import tkinter\n",
    "help(label)"
   ]
  },
  {
   "cell_type": "code",
   "execution_count": null,
   "id": "659f10a1-3d34-46f9-ad84-4beeb0d9bb78",
   "metadata": {},
   "outputs": [],
   "source": [
    "top = Tk()\n",
    "top.geometry('6000x400')\n",
    "top.title('Demo of label')\n",
    "\n",
    "l = label(top, text = 'Welcome to Tkinter Programming! ')\n",
    "l.pack()\n",
    "top.mainloop()"
   ]
  },
  {
   "cell_type": "code",
   "execution_count": null,
   "id": "4ae07908-0699-4910-9b22-48af60ba23ee",
   "metadata": {},
   "outputs": [],
   "source": [
    "top = Tk()\n",
    "top.geometry('6000x400')\n",
    "top.title('Demo of label')\n",
    "\n",
    "l = Label(top, text = 'Welcome to Tkinter Programming! ', fg='red', bg = 'Lightblue', font = ('Arial',20))\n",
    "l.pack()\n",
    "top.mainloop()"
   ]
  },
  {
   "cell_type": "code",
   "execution_count": null,
   "id": "5b0cdb86-8a4d-4e66-ba7d-349b0ab2393d",
   "metadata": {},
   "outputs": [],
   "source": [
    "top = Tk()\n",
    "top.geometry('6000x400')\n",
    "top.title('Demo of label')\n",
    "\n",
    "\n",
    "l4 = Label(top, text = 'fourth! ', fg='green', bg = 'Lightblue', font = ('Times now Roman',20))\n",
    "\n",
    "l1.pack(side=TOP)\n",
    "l2.pack(side=RIGHT)\n",
    "l3.pack(side=LEFT)\n",
    "l4.pack(side=BOTTOM)\n",
    "\n",
    "\n",
    "top.mainloop()"
   ]
  },
  {
   "cell_type": "code",
   "execution_count": null,
   "id": "f9ce66e9-920b-44d7-a72b-7d6e2f057852",
   "metadata": {},
   "outputs": [],
   "source": [
    "top = Tk()\n",
    "top.geometry('6000x400')\n",
    "top.title('Application of Button')\n",
    "\n",
    "b = Button(top, text = 'Click here', fg = 'magenta', bg = 'yellow',font = ('Times now Roman',20))\n",
    "\n",
    "\n",
    "\n",
    "b.pack(side = LEFT,padx = 200)\n",
    "top.mainloop()\n"
   ]
  },
  {
   "cell_type": "code",
   "execution_count": null,
   "id": "927ecb93-3d4c-417a-af92-021b546ea8ca",
   "metadata": {},
   "outputs": [],
   "source": []
  },
  {
   "cell_type": "code",
   "execution_count": null,
   "id": "9e51e5e6-bdd5-4e83-b693-5c301fa6a6a2",
   "metadata": {
    "scrolled": true
   },
   "outputs": [],
   "source": [
    " top = Tk()\n",
    "top.geometry('6000x400')\n",
    "top.title('Action Generator')\n",
    "\n",
    "def calc():\n",
    "    print('You click the button')\n",
    "\n",
    "b = Button(top, text = 'Click here', fg = 'magenta', bg = 'yellow',font = ('Times now Roman',20),command = calc)\n",
    "\n",
    "\n",
    "\n",
    "b.pack(side = LEFT,padx = 200)\n",
    "top.mainloop()\n"
   ]
  },
  {
   "cell_type": "code",
   "execution_count": null,
   "id": "5c9c48ca-d43f-4e2e-a97d-077d73c92b0d",
   "metadata": {},
   "outputs": [],
   "source": [
    " top = Tk()\n",
    "top.geometry('6000x400')\n",
    "top.title('Action Generator')\n",
    "\n",
    "def calc():\n",
    "    l = Label(top , text = 'Hello World !',font = ('Times now Roman',20))\n",
    "    l.pack()\n",
    "b = Button(top, text = 'Click here',font = ('Times now Roman',20),command = calc)\n",
    "\n",
    "\n",
    "\n",
    "b.pack()\n",
    "top.mainloop()\n"
   ]
  },
  {
   "cell_type": "code",
   "execution_count": null,
   "id": "cffbafb8-5d27-4e48-b159-29144f8d28b6",
   "metadata": {},
   "outputs": [],
   "source": [
    "top = Tk()\n",
    "top.geometry('6000x400')\n",
    "top.title('Application of Entry')\n",
    "\n",
    "\n",
    "def calc():\n",
    "    num = int(e.get())\n",
    "    Out.config(text = 'Result :' + str(num))\n",
    "    print('Square of the number :',num**2)\n",
    "l = Label(top , text = 'Enter the number !',font = ('Times now Roman',20))\n",
    "e = Entry(top, font = ('Times New Roman',20))\n",
    "b = Button(top, text = 'Find Square',font = ('Times now Roman',20),command = calc)\n",
    "\n",
    "l.pack()\n",
    "e.pack()\n",
    "b.pack()\n",
    "\n",
    "top.mainloop()\n"
   ]
  },
  {
   "cell_type": "code",
   "execution_count": null,
   "id": "830272df-effe-4f8a-8b6a-39c7f1c223e7",
   "metadata": {},
   "outputs": [],
   "source": [
    "##Multi line entry text window"
   ]
  },
  {
   "cell_type": "code",
   "execution_count": null,
   "id": "d4b97475-5b82-45b8-a1be-cc03f9b4fd44",
   "metadata": {},
   "outputs": [],
   "source": [
    "top = Tk()\n",
    "top.geometry('800x500')\n",
    "top.title('Application of multi line text window')\n",
    "\n",
    "def save():\n",
    "    f = open('demo.txt','w')\n",
    "    f.write(t.get(\"1.0\",END))\n",
    "    f.close()\n",
    "\n",
    "def clear():\n",
    "    t.delete(\"1.0\",END)\n",
    "\n",
    "t = Text(top,  font=('Times New Roman',20 ),height = 15 , width = 40)\n",
    "b1 = Button(top,text = 'save' ,font=('Times New Roman',20),command = save)\n",
    "b2 = Button(top,text = 'Clear' ,font=('Times New Roman',20),command = clear)\n",
    "\n",
    "\n",
    "t.pack()\n",
    "b1.pack()\n",
    "b2.pack()\n",
    "top.mainloop()\n"
   ]
  },
  {
   "cell_type": "code",
   "execution_count": null,
   "id": "bcbb2568-06f8-43df-bff0-a3c0af404066",
   "metadata": {},
   "outputs": [],
   "source": [
    "#Binding the events\n",
    "top = Tk()\n",
    "top.geometry('800x500')\n",
    "top.title('Application of multi line text window')\n",
    "def hello(event):\n",
    "    print('Left click!')\n",
    "def quit(event):\n",
    "    print('Double click')\n",
    "\n",
    "def right(event):\n",
    "    print('Right click')\n",
    "\n",
    "b= Button(top, text = 'Button Click', font = ('Times New Roman',20))\n",
    "b.bind('<Button-1>',hello)\n",
    "b.bind('<Double-1>',quit)\n",
    "b.bind('<Button-3>',right)\n",
    "b.pack()\n",
    "top.mainloop()\n"
   ]
  },
  {
   "cell_type": "code",
   "execution_count": null,
   "id": "6673eceb-e2dd-4140-aa1a-e90d3d984d0a",
   "metadata": {},
   "outputs": [],
   "source": [
    "#geometry manager(Layout manager)"
   ]
  },
  {
   "cell_type": "code",
   "execution_count": null,
   "id": "9750aa47-7d83-4ff3-a258-2e254c3558f6",
   "metadata": {},
   "outputs": [],
   "source": [
    "#pack manager\n",
    "top = Tk()\n",
    "top.geometry('800x500')\n",
    "top.title('Demo of pack manager')\n",
    "\n",
    "l1 = Label(top , text = 'First!',fg='red',bg='yellow',font = ('Times now Roman',20))\n",
    "l2= Label(top , text = 'Second!',fg='red',bg='yellow',font = ('Times now Roman',20))\n",
    "l3 = Label(top , text = 'Third!',fg='red',bg='yellow',font = ('Times now Roman',20))\n",
    "\n",
    "l1.pack()\n",
    "l2.pack()\n",
    "l3.pack()\n",
    "top.mainloop()"
   ]
  },
  {
   "cell_type": "code",
   "execution_count": null,
   "id": "fac4230c-d101-42b7-82dc-09d460d3b118",
   "metadata": {},
   "outputs": [],
   "source": [
    "#padding\n",
    "\n",
    "top = Tk()\n",
    "top.geometry('800x500')\n",
    "top.title('Demo of pack manager')\n",
    "\n",
    "l1 = Label(top , text = 'First!',fg='red',bg='yellow',font = ('Times now Roman',20))\n",
    "l2= Label(top , text = 'Second!',fg='red',bg='yellow',font = ('Times now Roman',20))\n",
    "l3 = Label(top , text = 'Third!',fg='red',bg='yellow',font = ('Times now Roman',20))\n",
    "\n",
    "l1.pack(fill=X, padx = 20, pady = 20)\n",
    "l2.pack(fill=X, padx = 20)\n",
    "l3.pack(fill=X, padx = 20)\n",
    "top.mainloop()"
   ]
  },
  {
   "cell_type": "code",
   "execution_count": null,
   "id": "1a29dc00-a3fc-4f10-ad4d-692db1f43d0f",
   "metadata": {},
   "outputs": [],
   "source": [
    "#place manager\n",
    "\n",
    "top = Tk()\n",
    "top.geometry('6000x400')\n",
    "top.title('Find the square')\n",
    "\n",
    "\n",
    "def calc():\n",
    "    num = int(e.get()) ** 2\n",
    "    out.config(text = 'Result :' + str(num))\n",
    "\n",
    "l = Label(top , text = 'Enter the number !',font = ('Times now Roman',20))\n",
    "e = Entry(top, font = ('Times New Roman',20))\n",
    "b = Button(top, text = 'Find Square',font = ('Times now Roman',20),command = calc)\n",
    "\n",
    "l.place(x=20 , y=20)\n",
    "e.place(x=250 , y=20)\n",
    "b.place(x=250 , y=800)\n",
    "top.mainloop()\n"
   ]
  },
  {
   "cell_type": "code",
   "execution_count": null,
   "id": "cff3a55d-fffe-4c20-a895-38a9727d4b1b",
   "metadata": {},
   "outputs": [],
   "source": [
    "#grid manager\n",
    "\n",
    "top = Tk()\n",
    "top.geometry('6000x400')\n",
    "top.title('Find the square')\n",
    "\n",
    "\n",
    "def calc():\n",
    "    num = int(e.get()) ** 2\n",
    "    out.config(text = 'Result :' + str(num))\n",
    "\n",
    "l = Label(top , text = 'Enter the number !',font = ('Times now Roman',20))\n",
    "e = Entry(top, font = ('Times New Roman',20))\n",
    "b = Button(top, text = 'Find Square',font = ('Times now Roman',20),command = calc)\n",
    "\n",
    "l.grid(row=0 , column = 0)\n",
    "e.grid(row=0 , column = 0)\n",
    "b.grid(row=0 , column = 0)\n",
    "out.grid(row=1 , column = 1)\n",
    "top.mainloop()\n"
   ]
  },
  {
   "cell_type": "code",
   "execution_count": null,
   "id": "2c83bb62-82a8-4ab2-9ca0-7df855265a6a",
   "metadata": {},
   "outputs": [],
   "source": [
    "#simple calculator\n",
    "top = Tk()\n",
    "top.geometry('6000x400')\n",
    "top.title('Find the square')\n",
    "\n",
    "\n",
    "def add():\n",
    "    a = int(num1.get()) + int(num2.get())\n",
    "    result.config(text='Addition:' + str(a))\n",
    "\n",
    "def sub():\n",
    "    a = int(num1.get()) - int(num2.get())\n",
    "    result.config(text='Subtraction:' + str(a))\n",
    "def mul():\n",
    "    a = int(num1.get()) * int(num2.get())\n",
    "    result.config(text='Multiplication:' + str(a))\n",
    "\n",
    "def div():\n",
    "    a = int(num1.get()) / int(num2.get())\n",
    "    result.config(text='Division:' + str(a))\n",
    "\n",
    "num1 = Entry(top, font=('Times New Roman',20))\n",
    "num2 = Entry(top, font=('Times New Roman',20))\n",
    "add = Button(top, text=\"Add\", font=('Times New Roman',20), command=add)\n",
    "sub = Button(top, text=\"Sub\", font=('Times New Roman',20), command=sub)\n",
    "mul = Button(top, text=\"Mul\", font=('Times New Roman',20), command=mul)\n",
    "div = Button(top, text=\"Div\", font=('Times New Roman',20), command=div)\n",
    "result = Label(top, text=\"Result: \", font=('Times New Roman',20))\n",
    "num1.place(x=50, y=20);   num2.place(x=300, y=20);\n",
    "add.place(x=50,y=100); sub.place(x=150,y=100); mul.place(x=250,y=100); div.place(x=350,y=100);\n",
    "result.place(x=50, y=200)\n",
    "top.mainloop()\n"
   ]
  },
  {
   "cell_type": "code",
   "execution_count": null,
   "id": "be2d173b-f1fe-481a-b43e-bb5c19219d17",
   "metadata": {},
   "outputs": [],
   "source": []
  }
 ],
 "metadata": {
  "kernelspec": {
   "display_name": "Python [conda env:base] *",
   "language": "python",
   "name": "conda-base-py"
  },
  "language_info": {
   "codemirror_mode": {
    "name": "ipython",
    "version": 3
   },
   "file_extension": ".py",
   "mimetype": "text/x-python",
   "name": "python",
   "nbconvert_exporter": "python",
   "pygments_lexer": "ipython3",
   "version": "3.12.7"
  }
 },
 "nbformat": 4,
 "nbformat_minor": 5
}
