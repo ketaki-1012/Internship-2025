{
 "cells": [
  {
   "cell_type": "code",
   "execution_count": 2,
   "id": "13f335f5-a61a-4651-92b8-6deddcaeb735",
   "metadata": {},
   "outputs": [],
   "source": [
    "#Reading a file"
   ]
  },
  {
   "cell_type": "code",
   "execution_count": 3,
   "id": "48d5d0f1-1d3d-4c94-b3f8-764b7a87b8d7",
   "metadata": {},
   "outputs": [],
   "source": [
    "f = open('sample.txt')"
   ]
  },
  {
   "cell_type": "code",
   "execution_count": 4,
   "id": "f142882e-c171-47eb-bfdc-9f2183e6ef22",
   "metadata": {},
   "outputs": [
    {
     "data": {
      "text/plain": [
       "<_io.TextIOWrapper name='sample.txt' mode='r' encoding='cp1252'>"
      ]
     },
     "execution_count": 4,
     "metadata": {},
     "output_type": "execute_result"
    }
   ],
   "source": [
    "f"
   ]
  },
  {
   "cell_type": "code",
   "execution_count": 5,
   "id": "443df15a-2a1f-44a1-93f3-02d164a25626",
   "metadata": {},
   "outputs": [
    {
     "data": {
      "text/plain": [
       "True"
      ]
     },
     "execution_count": 5,
     "metadata": {},
     "output_type": "execute_result"
    }
   ],
   "source": [
    "f.readable()"
   ]
  },
  {
   "cell_type": "code",
   "execution_count": 6,
   "id": "3a9db783-1a22-439c-b744-f9e2deb9df3c",
   "metadata": {},
   "outputs": [
    {
     "data": {
      "text/plain": [
       "'Hello Friends!!\\n'"
      ]
     },
     "execution_count": 6,
     "metadata": {},
     "output_type": "execute_result"
    }
   ],
   "source": [
    "f.readline()"
   ]
  },
  {
   "cell_type": "code",
   "execution_count": 7,
   "id": "d9cda548-5317-4e27-a91b-ab07adfb6eed",
   "metadata": {},
   "outputs": [
    {
     "data": {
      "text/plain": [
       "'HOW A'"
      ]
     },
     "execution_count": 7,
     "metadata": {},
     "output_type": "execute_result"
    }
   ],
   "source": [
    "f.readline(5)"
   ]
  },
  {
   "cell_type": "code",
   "execution_count": 8,
   "id": "b8a5dd99-eb96-4c04-afab-dce05db63479",
   "metadata": {},
   "outputs": [],
   "source": [
    "f = open('sample.txt')"
   ]
  },
  {
   "cell_type": "code",
   "execution_count": 9,
   "id": "fff7d572-a89f-4691-b92e-9a8ca38ba93d",
   "metadata": {},
   "outputs": [],
   "source": [
    "data = f.readlines()"
   ]
  },
  {
   "cell_type": "code",
   "execution_count": 10,
   "id": "d902b659-299c-4a12-9747-b6965f5760d3",
   "metadata": {},
   "outputs": [
    {
     "data": {
      "text/plain": [
       "['Hello Friends!!\\n',\n",
       " 'HOW ARE YOU?\\n',\n",
       " 'Welcome to the world of pyhton programming\\n']"
      ]
     },
     "execution_count": 10,
     "metadata": {},
     "output_type": "execute_result"
    }
   ],
   "source": [
    "data"
   ]
  },
  {
   "cell_type": "code",
   "execution_count": 11,
   "id": "199b7530-4fc4-47a4-b7e8-5eccb946df43",
   "metadata": {},
   "outputs": [
    {
     "name": "stdout",
     "output_type": "stream",
     "text": [
      "Hello Friends!!\n",
      "\n",
      "HOW ARE YOU?\n",
      "\n",
      "Welcome to the world of pyhton programming\n",
      "\n"
     ]
    }
   ],
   "source": [
    "for line in data:\n",
    "    print(line)"
   ]
  },
  {
   "cell_type": "code",
   "execution_count": 12,
   "id": "86539964-ebf9-4449-96b9-19baa9927697",
   "metadata": {},
   "outputs": [
    {
     "name": "stdout",
     "output_type": "stream",
     "text": [
      "Hello Friends!!\n",
      "\n",
      "How Are You?\n",
      "\n",
      "Welcome To The World Of Pyhton Programming\n",
      "\n"
     ]
    }
   ],
   "source": [
    "for line in data:\n",
    "    print(line.title())"
   ]
  },
  {
   "cell_type": "code",
   "execution_count": 16,
   "id": "8d83f596-a3b8-4b26-bcd6-bda17c8a14d1",
   "metadata": {},
   "outputs": [],
   "source": [
    "f = open('sample.txt')\n",
    "text = f.read()"
   ]
  },
  {
   "cell_type": "code",
   "execution_count": 17,
   "id": "f042d0a5-39dd-40cd-9cdf-e7c435f8d9e3",
   "metadata": {},
   "outputs": [
    {
     "name": "stdout",
     "output_type": "stream",
     "text": [
      "Hello Friends!!\n",
      "HOW ARE YOU?\n",
      "Welcome to the world of pyhton programming\n",
      "\n"
     ]
    }
   ],
   "source": [
    "print(text)"
   ]
  },
  {
   "cell_type": "code",
   "execution_count": 18,
   "id": "f4dd65e3-d0a7-4d68-9eeb-329dc813e174",
   "metadata": {},
   "outputs": [
    {
     "data": {
      "text/plain": [
       "['Hello',\n",
       " 'Friends!!',\n",
       " 'HOW',\n",
       " 'ARE',\n",
       " 'YOU?',\n",
       " 'Welcome',\n",
       " 'to',\n",
       " 'the',\n",
       " 'world',\n",
       " 'of',\n",
       " 'pyhton',\n",
       " 'programming']"
      ]
     },
     "execution_count": 18,
     "metadata": {},
     "output_type": "execute_result"
    }
   ],
   "source": [
    "text.split()"
   ]
  },
  {
   "cell_type": "code",
   "execution_count": 26,
   "id": "d56fc094-d835-436e-9c7b-06c925360255",
   "metadata": {},
   "outputs": [],
   "source": [
    "m = open('maharashtra.txt')"
   ]
  },
  {
   "cell_type": "code",
   "execution_count": 29,
   "id": "d7627994-011a-4f88-ad39-47f4f633c8de",
   "metadata": {},
   "outputs": [
    {
     "data": {
      "text/plain": [
       "True"
      ]
     },
     "execution_count": 29,
     "metadata": {},
     "output_type": "execute_result"
    }
   ],
   "source": [
    "m.readable()"
   ]
  },
  {
   "cell_type": "code",
   "execution_count": 30,
   "id": "c40630dc-557c-4974-bec7-c6c35446a503",
   "metadata": {},
   "outputs": [],
   "source": [
    "m = open('maharashtra.txt')"
   ]
  },
  {
   "cell_type": "code",
   "execution_count": 41,
   "id": "40d44903-b03a-4c0b-b2d8-2fd41600bfd5",
   "metadata": {},
   "outputs": [
    {
     "data": {
      "text/plain": [
       "''"
      ]
     },
     "execution_count": 41,
     "metadata": {},
     "output_type": "execute_result"
    }
   ],
   "source": [
    "m.readline()"
   ]
  },
  {
   "cell_type": "code",
   "execution_count": 33,
   "id": "fbd793ad-0d07-455f-b484-0a0960d5eb54",
   "metadata": {},
   "outputs": [],
   "source": [
    "##writing in the file"
   ]
  },
  {
   "cell_type": "code",
   "execution_count": null,
   "id": "027a2001-a5e9-4fa8-bcae-ff237fa947f8",
   "metadata": {},
   "outputs": [],
   "source": [
    "m = open('maharashtra.txt')"
   ]
  },
  {
   "cell_type": "code",
   "execution_count": 38,
   "id": "c9208d30-84de-4952-8120-e8bc9fdf7d19",
   "metadata": {},
   "outputs": [
    {
     "data": {
      "text/plain": [
       "True"
      ]
     },
     "execution_count": 38,
     "metadata": {},
     "output_type": "execute_result"
    }
   ],
   "source": [
    "m.readable()"
   ]
  },
  {
   "cell_type": "code",
   "execution_count": 39,
   "id": "40397d5d-bb7d-4242-9e38-82adb1f88003",
   "metadata": {},
   "outputs": [],
   "source": [
    "#problem 1-count total number of 'the' in this file\n",
    "#problem 2-count and print the es which starts the \"M\""
   ]
  },
  {
   "cell_type": "code",
   "execution_count": 43,
   "id": "1f821e27-3d22-4fa7-a4b5-3d6b8a5392b1",
   "metadata": {},
   "outputs": [
    {
     "name": "stdout",
     "output_type": "stream",
     "text": [
      "Maharashtra (Marathi: MahÄrÄá¹£á¹­ra, pronounced [mÉÉ¦aËËÉ¾aËÊáµÊáµÉ¾É] â) is a state in the western peninsular region of India occupying a substantial portion of the Deccan Plateau. It is bordered by the Arabian Sea to the west, the Indian states of Karnataka and Goa to the south, Telangana to the southeast and Chhattisgarh to the east, Gujarat and Madhya Pradesh to the north, and the Indian union territory of Dadra and Nagar Haveli and Daman and Diu to the northwest.[19] Maharashtra is the second-most populous state in India, the third most populous country subdivision in South Asia and the fourth-most populous in the world.\n",
      "\n",
      "The state is divided into 6 divisions and 36 districts. Mumbai is the capital of Maharashtra due to its historical significance as a major trading port and its status as India's financial hub, housing key institutions and a diverse economy. Additionally, Mumbai's well-developed infrastructure and cultural diversity make it a suitable administrative center for the state, and the most populous urban area in India, with Nagpur serving as the winter capital.[20] The Godavari and Krishna are the state's two major rivers, and forests cover 16.47% of the state's geographical area. The state is home to six UNESCO World Heritage Sites: Ajanta Caves, Ellora Caves, Elephanta Caves, Chhatrapati Shivaji Terminus (formerly Victoria Terminus), the Victorian Gothic and Art Deco Ensembles of Mumbai and the Western Ghats, a heritage site made up of 39 individual properties of which four are in Maharashtra.\n"
     ]
    }
   ],
   "source": [
    "# Try latin1 (more forgiving)\n",
    "with open('maharashtra.txt', encoding='latin1') as m:\n",
    "    content = m.read()\n",
    "    print(content)\n"
   ]
  },
  {
   "cell_type": "code",
   "execution_count": 47,
   "id": "48481362-643f-4228-ba2d-f968cadae435",
   "metadata": {},
   "outputs": [],
   "source": [
    "#Writing in the file\n",
    "with open('sample.txt') as f:\n",
    "    data = f.read()"
   ]
  },
  {
   "cell_type": "code",
   "execution_count": 49,
   "id": "906e53c6-627e-4847-8077-cbdbe0b7647f",
   "metadata": {},
   "outputs": [
    {
     "name": "stdout",
     "output_type": "stream",
     "text": [
      "Hello Friends!!\n",
      "HOW ARE YOU?\n",
      "Welcome to the world of pyhton programming\n",
      "\n"
     ]
    }
   ],
   "source": [
    "print(data)"
   ]
  },
  {
   "cell_type": "code",
   "execution_count": 50,
   "id": "f49091ac-2a36-41a0-90ed-f5a1ec492e85",
   "metadata": {},
   "outputs": [],
   "source": [
    "#mode - 'w'(exisiting filw will be overwritten otherwise created)"
   ]
  },
  {
   "cell_type": "code",
   "execution_count": 51,
   "id": "385d33cb-f719-49d3-8118-d375dc5a2e7f",
   "metadata": {},
   "outputs": [],
   "source": [
    "f = open('myfile.txt','w')"
   ]
  },
  {
   "cell_type": "code",
   "execution_count": 52,
   "id": "1b8d47b3-967d-4206-b6f5-38ba87a1adfd",
   "metadata": {},
   "outputs": [
    {
     "data": {
      "text/plain": [
       "<_io.TextIOWrapper name='myfile.txt' mode='w' encoding='cp1252'>"
      ]
     },
     "execution_count": 52,
     "metadata": {},
     "output_type": "execute_result"
    }
   ],
   "source": [
    "f"
   ]
  },
  {
   "cell_type": "code",
   "execution_count": 53,
   "id": "0dd407a1-43dc-4d5a-bf0e-b4d42aebdf77",
   "metadata": {},
   "outputs": [
    {
     "data": {
      "text/plain": [
       "True"
      ]
     },
     "execution_count": 53,
     "metadata": {},
     "output_type": "execute_result"
    }
   ],
   "source": [
    "f.writable()"
   ]
  },
  {
   "cell_type": "code",
   "execution_count": 54,
   "id": "723c6297-c17c-411a-8109-f4f1c791f698",
   "metadata": {},
   "outputs": [],
   "source": [
    "lines = ['It is raining heavily.','It may cause flood.']"
   ]
  },
  {
   "cell_type": "code",
   "execution_count": 55,
   "id": "faf76443-c854-46ea-80b8-e63fa79bbbd9",
   "metadata": {},
   "outputs": [],
   "source": [
    "f.writelines(lines)"
   ]
  },
  {
   "cell_type": "code",
   "execution_count": 56,
   "id": "3e36e57d-0942-488e-8f39-e4d208f6fca0",
   "metadata": {},
   "outputs": [],
   "source": [
    "f.close()"
   ]
  },
  {
   "cell_type": "code",
   "execution_count": null,
   "id": "568a07d7-8d16-4486-b95e-895778f62be0",
   "metadata": {},
   "outputs": [],
   "source": []
  },
  {
   "cell_type": "code",
   "execution_count": 57,
   "id": "bcc2af63-bf7f-4647-aa6f-619b9bf80aa3",
   "metadata": {},
   "outputs": [],
   "source": [
    "sent = 'Pyhton is intepreted language.we need an intepreter'\n"
   ]
  },
  {
   "cell_type": "code",
   "execution_count": 2,
   "id": "d1a6cc01-49f5-4c28-a1bf-53f426211c1b",
   "metadata": {},
   "outputs": [],
   "source": [
    "s = open('sample.txt','r')\n",
    "d = open('mydata.txt','w')"
   ]
  },
  {
   "cell_type": "code",
   "execution_count": 3,
   "id": "c93a8b04-bc7c-4106-b2d2-4805966bd28a",
   "metadata": {},
   "outputs": [],
   "source": [
    "contents = s.read()\n",
    "d.write(contents)\n",
    "d.close()"
   ]
  },
  {
   "cell_type": "code",
   "execution_count": 20,
   "id": "31469ab2-2dae-4473-b503-d3f8534dc25d",
   "metadata": {},
   "outputs": [
    {
     "data": {
      "text/plain": [
       "'23382\\n45445 e353eda\\n235p99\\nket4989wkd\\n3043kkea\\n335355 trtkere\\nfkkti8878kjd\\n'"
      ]
     },
     "execution_count": 20,
     "metadata": {},
     "output_type": "execute_result"
    }
   ],
   "source": [
    "f = open('num2.txt')\n",
    "data = f.read()\n",
    "data"
   ]
  },
  {
   "cell_type": "code",
   "execution_count": 22,
   "id": "0ed01f30-0616-4f48-9f6f-6add322dc5df",
   "metadata": {},
   "outputs": [],
   "source": [
    "nums = data.split()"
   ]
  },
  {
   "cell_type": "code",
   "execution_count": 23,
   "id": "9512e547-ea47-4fe3-8a57-15f8c8fa951f",
   "metadata": {},
   "outputs": [
    {
     "data": {
      "text/plain": [
       "['23382',\n",
       " '45445',\n",
       " 'e353eda',\n",
       " '235p99',\n",
       " 'ket4989wkd',\n",
       " '3043kkea',\n",
       " '335355',\n",
       " 'trtkere',\n",
       " 'fkkti8878kjd']"
      ]
     },
     "execution_count": 23,
     "metadata": {},
     "output_type": "execute_result"
    }
   ],
   "source": [
    "nums"
   ]
  },
  {
   "cell_type": "code",
   "execution_count": 26,
   "id": "d5d36998-8ce1-4a36-b42a-a4deb1fa2061",
   "metadata": {},
   "outputs": [],
   "source": [
    "#file position\n",
    "\n",
    "f = open('sample.txt')"
   ]
  },
  {
   "cell_type": "code",
   "execution_count": 27,
   "id": "b0720f1a-3434-4cb5-a1ee-6cd32028cfc8",
   "metadata": {},
   "outputs": [
    {
     "data": {
      "text/plain": [
       "0"
      ]
     },
     "execution_count": 27,
     "metadata": {},
     "output_type": "execute_result"
    }
   ],
   "source": [
    "f.tell()"
   ]
  },
  {
   "cell_type": "code",
   "execution_count": 28,
   "id": "a0adb394-7259-4a3b-aef1-3532c005192c",
   "metadata": {},
   "outputs": [
    {
     "data": {
      "text/plain": [
       "'Hello Friends!!\\n'"
      ]
     },
     "execution_count": 28,
     "metadata": {},
     "output_type": "execute_result"
    }
   ],
   "source": [
    "f.readline()"
   ]
  },
  {
   "cell_type": "code",
   "execution_count": 29,
   "id": "e9d984e9-8648-4a90-9c0f-502572ff4018",
   "metadata": {},
   "outputs": [
    {
     "data": {
      "text/plain": [
       "16"
      ]
     },
     "execution_count": 29,
     "metadata": {},
     "output_type": "execute_result"
    }
   ],
   "source": [
    "f.tell()"
   ]
  },
  {
   "cell_type": "code",
   "execution_count": 30,
   "id": "1fcd2b95-9d11-4211-92b7-3d5f0428fa4e",
   "metadata": {},
   "outputs": [
    {
     "data": {
      "text/plain": [
       "'HOW ARE YOU?\\n'"
      ]
     },
     "execution_count": 30,
     "metadata": {},
     "output_type": "execute_result"
    }
   ],
   "source": [
    "f.readline()"
   ]
  },
  {
   "cell_type": "code",
   "execution_count": 31,
   "id": "a848bbe7-4e6d-4968-bff3-17fd6916cfcb",
   "metadata": {},
   "outputs": [
    {
     "data": {
      "text/plain": [
       "29"
      ]
     },
     "execution_count": 31,
     "metadata": {},
     "output_type": "execute_result"
    }
   ],
   "source": [
    "f.tell()"
   ]
  },
  {
   "cell_type": "code",
   "execution_count": 33,
   "id": "74bf037c-43d9-4ac3-84fd-d3913e9cf339",
   "metadata": {},
   "outputs": [
    {
     "data": {
      "text/plain": [
       "50"
      ]
     },
     "execution_count": 33,
     "metadata": {},
     "output_type": "execute_result"
    }
   ],
   "source": [
    "#used to read pointer backwards\n",
    "f.seek(50)\n"
   ]
  },
  {
   "cell_type": "code",
   "execution_count": 34,
   "id": "4dfe4b2b-d996-4536-a013-972a3951526d",
   "metadata": {},
   "outputs": [
    {
     "data": {
      "text/plain": [
       "'of pyhton programming\\n'"
      ]
     },
     "execution_count": 34,
     "metadata": {},
     "output_type": "execute_result"
    }
   ],
   "source": [
    "f.readline()"
   ]
  },
  {
   "cell_type": "code",
   "execution_count": 37,
   "id": "ef0fac54-19ad-45ca-a0b7-34ccbe9ae35c",
   "metadata": {},
   "outputs": [],
   "source": [
    "# Binary mode\n",
    "# Opening the file in binary mode means you're telling the interpreter to treat the file's content as a sequence of raw bytes.\n",
    "# This is useful when working with non-text files like images, PDFs, or when exact byte-level operations are needed.\n",
    "# In binary mode, no encoding/decoding happens, and data is read/written as-is."
   ]
  },
  {
   "cell_type": "code",
   "execution_count": 45,
   "id": "6cb54b74-d9a0-4f61-a426-7274706b2b63",
   "metadata": {},
   "outputs": [],
   "source": [
    "with open('mydata.bin','wb') as f:\n",
    "    f.write(b'Hello World!')"
   ]
  },
  {
   "cell_type": "code",
   "execution_count": 46,
   "id": "20139ec4-c58e-457e-ad09-807ec77940a8",
   "metadata": {},
   "outputs": [
    {
     "name": "stdout",
     "output_type": "stream",
     "text": [
      "Daata in file b'Hello World!'\n"
     ]
    }
   ],
   "source": [
    "with open('mydata.bin','rb') as f:\n",
    "    content = f.read()\n",
    "    print(f'Daata in file {content}')"
   ]
  },
  {
   "cell_type": "code",
   "execution_count": null,
   "id": "e0bdb963-5baf-4b14-a48d-8fd21353eb5c",
   "metadata": {},
   "outputs": [],
   "source": []
  },
  {
   "cell_type": "code",
   "execution_count": null,
   "id": "15a1d574-dcd7-43d2-8186-31435dcebc01",
   "metadata": {},
   "outputs": [],
   "source": []
  }
 ],
 "metadata": {
  "kernelspec": {
   "display_name": "Python [conda env:base] *",
   "language": "python",
   "name": "conda-base-py"
  },
  "language_info": {
   "codemirror_mode": {
    "name": "ipython",
    "version": 3
   },
   "file_extension": ".py",
   "mimetype": "text/x-python",
   "name": "python",
   "nbconvert_exporter": "python",
   "pygments_lexer": "ipython3",
   "version": "3.12.7"
  }
 },
 "nbformat": 4,
 "nbformat_minor": 5
}
