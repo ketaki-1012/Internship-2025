{
 "cells": [
  {
   "cell_type": "code",
   "execution_count": 2,
   "id": "c008923c-bcf3-4cfd-bc34-9704812f1ca0",
   "metadata": {},
   "outputs": [],
   "source": [
    "#polymorphism \n",
    "#the ability for different ibject to respond to the samee method call in theri own ,unique way.\n",
    "#poly means many forms"
   ]
  },
  {
   "cell_type": "code",
   "execution_count": 12,
   "id": "5a21fe45-2d17-465a-95f8-8c67b95acc39",
   "metadata": {},
   "outputs": [],
   "source": [
    "#method overloading\n",
    "class Dog:\n",
    "    def speak(self):\n",
    "        print('BArk')\n",
    "\n",
    "class Cat:\n",
    "    def speak(self):\n",
    "        print('Meow')"
   ]
  },
  {
   "cell_type": "code",
   "execution_count": 13,
   "id": "1a5a84e7-3ca3-4f0d-b8fc-173ff8e21265",
   "metadata": {},
   "outputs": [],
   "source": [
    "def animal_speak(animal):\n",
    "    animal.speak()"
   ]
  },
  {
   "cell_type": "code",
   "execution_count": 14,
   "id": "c86991c7-a0ee-4142-bb96-82f1128a9326",
   "metadata": {},
   "outputs": [],
   "source": [
    "dog = Dog()\n",
    "cat = Cat()"
   ]
  },
  {
   "cell_type": "code",
   "execution_count": 15,
   "id": "b01fd108-0a99-4d5b-b07d-ce6104a2cca9",
   "metadata": {},
   "outputs": [
    {
     "name": "stdout",
     "output_type": "stream",
     "text": [
      "BArk\n"
     ]
    }
   ],
   "source": [
    "animal_speak(dog)"
   ]
  },
  {
   "cell_type": "code",
   "execution_count": 16,
   "id": "c5d8901c-b322-4ee1-bc3e-70352b137b30",
   "metadata": {},
   "outputs": [
    {
     "name": "stdout",
     "output_type": "stream",
     "text": [
      "Meow\n"
     ]
    }
   ],
   "source": [
    "animal_speak(cat)"
   ]
  },
  {
   "cell_type": "code",
   "execution_count": 17,
   "id": "1c7ebccd-7021-4116-ae6b-f09ab42b57e6",
   "metadata": {},
   "outputs": [],
   "source": [
    "##operator overloading\n",
    "##operator overloading allows you to define how standard operaotrs like +,-,*,===, and > work with your custom objects"
   ]
  },
  {
   "cell_type": "code",
   "execution_count": 18,
   "id": "baaca2e3-1e51-45e8-8718-49a53f747a6a",
   "metadata": {},
   "outputs": [],
   "source": [
    "class A:\n",
    "    def __init__(self,a):\n",
    "        self.a=a\n",
    "\n",
    "def __add__(self,o):\n",
    "    return self.a + o.a"
   ]
  },
  {
   "cell_type": "code",
   "execution_count": 19,
   "id": "2f0b073a-0b1a-4f1c-8f96-472c15141012",
   "metadata": {},
   "outputs": [],
   "source": [
    "obj1 = A(23)\n",
    "obj2 = A(77)"
   ]
  },
  {
   "cell_type": "code",
   "execution_count": null,
   "id": "b224fc54-f2ee-4fba-b66c-e81824d19f61",
   "metadata": {},
   "outputs": [],
   "source": []
  },
  {
   "cell_type": "code",
   "execution_count": 22,
   "id": "38d1cfd6-f23f-4e3a-80fa-9ee1c3f8e86d",
   "metadata": {},
   "outputs": [],
   "source": [
    "#destructor\n",
    "class Employee:\n",
    "    def __init__(self):\n",
    "        print('Object Created!')\n",
    "    def __del__(self):\n",
    "        print('Object Deleted!')"
   ]
  },
  {
   "cell_type": "code",
   "execution_count": 23,
   "id": "71774a8d-86e6-427a-9f38-66c1b061c48e",
   "metadata": {},
   "outputs": [
    {
     "name": "stdout",
     "output_type": "stream",
     "text": [
      "Object Created!\n"
     ]
    }
   ],
   "source": [
    "emp = Employee()"
   ]
  },
  {
   "cell_type": "code",
   "execution_count": 24,
   "id": "6b34d16a-2c31-419d-aeec-6f3894e5a833",
   "metadata": {},
   "outputs": [
    {
     "name": "stdout",
     "output_type": "stream",
     "text": [
      "Object Deleted!\n"
     ]
    }
   ],
   "source": [
    "del emp"
   ]
  },
  {
   "cell_type": "code",
   "execution_count": null,
   "id": "f7f5e997-1d96-4b6c-a29a-ba2409c1b656",
   "metadata": {},
   "outputs": [],
   "source": [
    "##file handling\n",
    "#file is a named location on disk to store related information."
   ]
  }
 ],
 "metadata": {
  "kernelspec": {
   "display_name": "Python [conda env:base] *",
   "language": "python",
   "name": "conda-base-py"
  },
  "language_info": {
   "codemirror_mode": {
    "name": "ipython",
    "version": 3
   },
   "file_extension": ".py",
   "mimetype": "text/x-python",
   "name": "python",
   "nbconvert_exporter": "python",
   "pygments_lexer": "ipython3",
   "version": "3.12.7"
  }
 },
 "nbformat": 4,
 "nbformat_minor": 5
}
