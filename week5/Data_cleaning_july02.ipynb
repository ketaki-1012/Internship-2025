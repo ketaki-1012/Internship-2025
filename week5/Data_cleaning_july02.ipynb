{
 "cells": [
  {
   "cell_type": "code",
   "execution_count": 3,
   "id": "82e7ea2f-e778-48a4-aba3-0fea06ab3117",
   "metadata": {},
   "outputs": [],
   "source": [
    "import pandas as pd\n",
    "import numpy as np"
   ]
  },
  {
   "cell_type": "code",
   "execution_count": 7,
   "id": "dd325141-abe7-474f-95f6-2b4f814c1272",
   "metadata": {},
   "outputs": [
    {
     "data": {
      "text/html": [
       "<div>\n",
       "<style scoped>\n",
       "    .dataframe tbody tr th:only-of-type {\n",
       "        vertical-align: middle;\n",
       "    }\n",
       "\n",
       "    .dataframe tbody tr th {\n",
       "        vertical-align: top;\n",
       "    }\n",
       "\n",
       "    .dataframe thead th {\n",
       "        text-align: right;\n",
       "    }\n",
       "</style>\n",
       "<table border=\"1\" class=\"dataframe\">\n",
       "  <thead>\n",
       "    <tr style=\"text-align: right;\">\n",
       "      <th></th>\n",
       "      <th>roll</th>\n",
       "      <th>name</th>\n",
       "      <th>class</th>\n",
       "      <th>marks</th>\n",
       "      <th>age</th>\n",
       "    </tr>\n",
       "  </thead>\n",
       "  <tbody>\n",
       "    <tr>\n",
       "      <th>0</th>\n",
       "      <td>1</td>\n",
       "      <td>anil</td>\n",
       "      <td>TE</td>\n",
       "      <td>56.77</td>\n",
       "      <td>22.0</td>\n",
       "    </tr>\n",
       "    <tr>\n",
       "      <th>1</th>\n",
       "      <td>2</td>\n",
       "      <td>amit</td>\n",
       "      <td>TE</td>\n",
       "      <td>59.77</td>\n",
       "      <td>21.0</td>\n",
       "    </tr>\n",
       "    <tr>\n",
       "      <th>2</th>\n",
       "      <td>3</td>\n",
       "      <td>aniket</td>\n",
       "      <td>BE</td>\n",
       "      <td>76.88</td>\n",
       "      <td>19.0</td>\n",
       "    </tr>\n",
       "    <tr>\n",
       "      <th>3</th>\n",
       "      <td>4</td>\n",
       "      <td>ajinkya</td>\n",
       "      <td>TE</td>\n",
       "      <td>69.66</td>\n",
       "      <td>20.0</td>\n",
       "    </tr>\n",
       "    <tr>\n",
       "      <th>4</th>\n",
       "      <td>5</td>\n",
       "      <td>asha</td>\n",
       "      <td>TE</td>\n",
       "      <td>63.28</td>\n",
       "      <td>NaN</td>\n",
       "    </tr>\n",
       "    <tr>\n",
       "      <th>5</th>\n",
       "      <td>6</td>\n",
       "      <td>ayesha</td>\n",
       "      <td>BE</td>\n",
       "      <td>NaN</td>\n",
       "      <td>20.0</td>\n",
       "    </tr>\n",
       "    <tr>\n",
       "      <th>6</th>\n",
       "      <td>7</td>\n",
       "      <td>amar</td>\n",
       "      <td>BE</td>\n",
       "      <td>65.34</td>\n",
       "      <td>19.0</td>\n",
       "    </tr>\n",
       "    <tr>\n",
       "      <th>7</th>\n",
       "      <td>8</td>\n",
       "      <td>Amita</td>\n",
       "      <td>be</td>\n",
       "      <td>68.33</td>\n",
       "      <td>23.0</td>\n",
       "    </tr>\n",
       "    <tr>\n",
       "      <th>8</th>\n",
       "      <td>9</td>\n",
       "      <td>amol</td>\n",
       "      <td>TE</td>\n",
       "      <td>56.75</td>\n",
       "      <td>20.0</td>\n",
       "    </tr>\n",
       "    <tr>\n",
       "      <th>9</th>\n",
       "      <td>9</td>\n",
       "      <td>amol</td>\n",
       "      <td>TE</td>\n",
       "      <td>56.75</td>\n",
       "      <td>20.0</td>\n",
       "    </tr>\n",
       "    <tr>\n",
       "      <th>10</th>\n",
       "      <td>10</td>\n",
       "      <td>anmol</td>\n",
       "      <td>BE</td>\n",
       "      <td>78.66</td>\n",
       "      <td>NaN</td>\n",
       "    </tr>\n",
       "    <tr>\n",
       "      <th>11</th>\n",
       "      <td>11</td>\n",
       "      <td>surbhi</td>\n",
       "      <td>TE</td>\n",
       "      <td>NaN</td>\n",
       "      <td>23.0</td>\n",
       "    </tr>\n",
       "    <tr>\n",
       "      <th>12</th>\n",
       "      <td>12</td>\n",
       "      <td>Sujay</td>\n",
       "      <td>TE</td>\n",
       "      <td>74.12</td>\n",
       "      <td>22.0</td>\n",
       "    </tr>\n",
       "    <tr>\n",
       "      <th>13</th>\n",
       "      <td>13</td>\n",
       "      <td>subhash</td>\n",
       "      <td>be</td>\n",
       "      <td>88.45</td>\n",
       "      <td>21.0</td>\n",
       "    </tr>\n",
       "    <tr>\n",
       "      <th>14</th>\n",
       "      <td>14</td>\n",
       "      <td>sachin</td>\n",
       "      <td>NaN</td>\n",
       "      <td>59.33</td>\n",
       "      <td>21.0</td>\n",
       "    </tr>\n",
       "    <tr>\n",
       "      <th>15</th>\n",
       "      <td>15</td>\n",
       "      <td>shalini</td>\n",
       "      <td>TE</td>\n",
       "      <td>63.45</td>\n",
       "      <td>20.0</td>\n",
       "    </tr>\n",
       "  </tbody>\n",
       "</table>\n",
       "</div>"
      ],
      "text/plain": [
       "    roll     name class  marks    age\n",
       "0      1     anil    TE   56.77  22.0\n",
       "1      2     amit    TE   59.77  21.0\n",
       "2      3   aniket    BE   76.88  19.0\n",
       "3      4  ajinkya    TE   69.66  20.0\n",
       "4      5     asha    TE   63.28   NaN\n",
       "5      6   ayesha    BE     NaN  20.0\n",
       "6      7     amar    BE   65.34  19.0\n",
       "7      8    Amita    be   68.33  23.0\n",
       "8      9     amol    TE   56.75  20.0\n",
       "9      9     amol    TE   56.75  20.0\n",
       "10    10    anmol    BE   78.66   NaN\n",
       "11    11   surbhi    TE     NaN  23.0\n",
       "12    12    Sujay    TE   74.12  22.0\n",
       "13    13  subhash    be   88.45  21.0\n",
       "14    14   sachin   NaN   59.33  21.0\n",
       "15    15  shalini    TE   63.45  20.0"
      ]
     },
     "execution_count": 7,
     "metadata": {},
     "output_type": "execute_result"
    }
   ],
   "source": [
    "df = pd.read_csv(\"student3.csv\")\n",
    "df"
   ]
  },
  {
   "cell_type": "code",
   "execution_count": 8,
   "id": "b18ff466-ece1-4186-beda-a781cf37caba",
   "metadata": {},
   "outputs": [],
   "source": [
    "df['name'] = df['name'].str.title()"
   ]
  },
  {
   "cell_type": "code",
   "execution_count": 9,
   "id": "3953e46f-1dac-4fd9-a642-9d082921f9bb",
   "metadata": {},
   "outputs": [
    {
     "data": {
      "text/plain": [
       "0        Anil\n",
       "1        Amit\n",
       "2      Aniket\n",
       "3     Ajinkya\n",
       "4        Asha\n",
       "5      Ayesha\n",
       "6        Amar\n",
       "7       Amita\n",
       "8        Amol\n",
       "9        Amol\n",
       "10      Anmol\n",
       "11     Surbhi\n",
       "12      Sujay\n",
       "13    Subhash\n",
       "14     Sachin\n",
       "15    Shalini\n",
       "Name: name, dtype: object"
      ]
     },
     "execution_count": 9,
     "metadata": {},
     "output_type": "execute_result"
    }
   ],
   "source": [
    "df['name']"
   ]
  },
  {
   "cell_type": "code",
   "execution_count": 10,
   "id": "06a4f66e-2827-4c8b-9786-b75dc785b72e",
   "metadata": {},
   "outputs": [
    {
     "data": {
      "text/plain": [
       "0      TE\n",
       "1      TE\n",
       "2      BE\n",
       "3      TE\n",
       "4      TE\n",
       "5      BE\n",
       "6      BE\n",
       "7      be\n",
       "8      TE\n",
       "9      TE\n",
       "10     BE\n",
       "11     TE\n",
       "12     TE\n",
       "13     be\n",
       "14    NaN\n",
       "15     TE\n",
       "Name: class, dtype: object"
      ]
     },
     "execution_count": 10,
     "metadata": {},
     "output_type": "execute_result"
    }
   ],
   "source": [
    "df['class']"
   ]
  },
  {
   "cell_type": "code",
   "execution_count": 12,
   "id": "3a08e093-2601-4ed5-af4b-c2bfab48fa18",
   "metadata": {},
   "outputs": [
    {
     "data": {
      "text/plain": [
       "0      TE\n",
       "1      TE\n",
       "2      BE\n",
       "3      TE\n",
       "4      TE\n",
       "5      BE\n",
       "6      BE\n",
       "7      BE\n",
       "8      TE\n",
       "9      TE\n",
       "10     BE\n",
       "11     TE\n",
       "12     TE\n",
       "13     BE\n",
       "14    NaN\n",
       "15     TE\n",
       "Name: class, dtype: object"
      ]
     },
     "execution_count": 12,
     "metadata": {},
     "output_type": "execute_result"
    }
   ],
   "source": [
    "df['class'] = df['class'].str.upper()\n",
    "df['class']"
   ]
  },
  {
   "cell_type": "code",
   "execution_count": 14,
   "id": "d495fe9b-6052-45ce-ae65-ccae5c5d1a93",
   "metadata": {},
   "outputs": [
    {
     "data": {
      "text/plain": [
       "0     56.77\n",
       "1     59.77\n",
       "2     76.88\n",
       "3     69.66\n",
       "4     63.28\n",
       "5       NaN\n",
       "6     65.34\n",
       "7     68.33\n",
       "8     56.75\n",
       "9     56.75\n",
       "10    78.66\n",
       "11      NaN\n",
       "12    74.12\n",
       "13    88.45\n",
       "14    59.33\n",
       "15    63.45\n",
       "Name: marks , dtype: float64"
      ]
     },
     "execution_count": 14,
     "metadata": {},
     "output_type": "execute_result"
    }
   ],
   "source": [
    "df['marks ']"
   ]
  },
  {
   "cell_type": "code",
   "execution_count": 16,
   "id": "5eb1f100-47e2-4855-aeaa-5d5e9af5c68e",
   "metadata": {},
   "outputs": [],
   "source": [
    "df.columns = df.columns.str.strip()"
   ]
  },
  {
   "cell_type": "code",
   "execution_count": 18,
   "id": "f29d1ca7-3aa5-432a-9664-8cda9513caec",
   "metadata": {},
   "outputs": [
    {
     "data": {
      "text/plain": [
       "Index(['roll', 'name', 'class', 'marks', 'age'], dtype='object')"
      ]
     },
     "execution_count": 18,
     "metadata": {},
     "output_type": "execute_result"
    }
   ],
   "source": [
    "df.columns"
   ]
  },
  {
   "cell_type": "code",
   "execution_count": 19,
   "id": "c324bf26-df04-40eb-bb8e-72687d8b0ab9",
   "metadata": {},
   "outputs": [
    {
     "data": {
      "text/plain": [
       "0     56.77\n",
       "1     59.77\n",
       "2     76.88\n",
       "3     69.66\n",
       "4     63.28\n",
       "5       NaN\n",
       "6     65.34\n",
       "7     68.33\n",
       "8     56.75\n",
       "9     56.75\n",
       "10    78.66\n",
       "11      NaN\n",
       "12    74.12\n",
       "13    88.45\n",
       "14    59.33\n",
       "15    63.45\n",
       "Name: marks, dtype: float64"
      ]
     },
     "execution_count": 19,
     "metadata": {},
     "output_type": "execute_result"
    }
   ],
   "source": [
    "df['marks']"
   ]
  },
  {
   "cell_type": "code",
   "execution_count": 20,
   "id": "79bc0021-e3fe-4559-b941-04b323b6e887",
   "metadata": {},
   "outputs": [],
   "source": [
    "#Duplicate values"
   ]
  },
  {
   "cell_type": "code",
   "execution_count": 23,
   "id": "7d405ce7-adb5-4334-9f86-508d2c7de61f",
   "metadata": {},
   "outputs": [
    {
     "data": {
      "text/plain": [
       "1"
      ]
     },
     "execution_count": 23,
     "metadata": {},
     "output_type": "execute_result"
    }
   ],
   "source": [
    "df.duplicated().sum()"
   ]
  },
  {
   "cell_type": "code",
   "execution_count": 26,
   "id": "e3179bab-f0c2-42de-88ae-59fed05af739",
   "metadata": {},
   "outputs": [
    {
     "data": {
      "text/html": [
       "<div>\n",
       "<style scoped>\n",
       "    .dataframe tbody tr th:only-of-type {\n",
       "        vertical-align: middle;\n",
       "    }\n",
       "\n",
       "    .dataframe tbody tr th {\n",
       "        vertical-align: top;\n",
       "    }\n",
       "\n",
       "    .dataframe thead th {\n",
       "        text-align: right;\n",
       "    }\n",
       "</style>\n",
       "<table border=\"1\" class=\"dataframe\">\n",
       "  <thead>\n",
       "    <tr style=\"text-align: right;\">\n",
       "      <th></th>\n",
       "      <th>roll</th>\n",
       "      <th>name</th>\n",
       "      <th>class</th>\n",
       "      <th>marks</th>\n",
       "      <th>age</th>\n",
       "    </tr>\n",
       "  </thead>\n",
       "  <tbody>\n",
       "    <tr>\n",
       "      <th>0</th>\n",
       "      <td>1</td>\n",
       "      <td>Anil</td>\n",
       "      <td>TE</td>\n",
       "      <td>56.77</td>\n",
       "      <td>22.0</td>\n",
       "    </tr>\n",
       "    <tr>\n",
       "      <th>1</th>\n",
       "      <td>2</td>\n",
       "      <td>Amit</td>\n",
       "      <td>TE</td>\n",
       "      <td>59.77</td>\n",
       "      <td>21.0</td>\n",
       "    </tr>\n",
       "    <tr>\n",
       "      <th>2</th>\n",
       "      <td>3</td>\n",
       "      <td>Aniket</td>\n",
       "      <td>BE</td>\n",
       "      <td>76.88</td>\n",
       "      <td>19.0</td>\n",
       "    </tr>\n",
       "    <tr>\n",
       "      <th>3</th>\n",
       "      <td>4</td>\n",
       "      <td>Ajinkya</td>\n",
       "      <td>TE</td>\n",
       "      <td>69.66</td>\n",
       "      <td>20.0</td>\n",
       "    </tr>\n",
       "    <tr>\n",
       "      <th>4</th>\n",
       "      <td>5</td>\n",
       "      <td>Asha</td>\n",
       "      <td>TE</td>\n",
       "      <td>63.28</td>\n",
       "      <td>NaN</td>\n",
       "    </tr>\n",
       "    <tr>\n",
       "      <th>5</th>\n",
       "      <td>6</td>\n",
       "      <td>Ayesha</td>\n",
       "      <td>BE</td>\n",
       "      <td>NaN</td>\n",
       "      <td>20.0</td>\n",
       "    </tr>\n",
       "    <tr>\n",
       "      <th>6</th>\n",
       "      <td>7</td>\n",
       "      <td>Amar</td>\n",
       "      <td>BE</td>\n",
       "      <td>65.34</td>\n",
       "      <td>19.0</td>\n",
       "    </tr>\n",
       "    <tr>\n",
       "      <th>7</th>\n",
       "      <td>8</td>\n",
       "      <td>Amita</td>\n",
       "      <td>BE</td>\n",
       "      <td>68.33</td>\n",
       "      <td>23.0</td>\n",
       "    </tr>\n",
       "    <tr>\n",
       "      <th>8</th>\n",
       "      <td>9</td>\n",
       "      <td>Amol</td>\n",
       "      <td>TE</td>\n",
       "      <td>56.75</td>\n",
       "      <td>20.0</td>\n",
       "    </tr>\n",
       "    <tr>\n",
       "      <th>10</th>\n",
       "      <td>10</td>\n",
       "      <td>Anmol</td>\n",
       "      <td>BE</td>\n",
       "      <td>78.66</td>\n",
       "      <td>NaN</td>\n",
       "    </tr>\n",
       "    <tr>\n",
       "      <th>11</th>\n",
       "      <td>11</td>\n",
       "      <td>Surbhi</td>\n",
       "      <td>TE</td>\n",
       "      <td>NaN</td>\n",
       "      <td>23.0</td>\n",
       "    </tr>\n",
       "    <tr>\n",
       "      <th>12</th>\n",
       "      <td>12</td>\n",
       "      <td>Sujay</td>\n",
       "      <td>TE</td>\n",
       "      <td>74.12</td>\n",
       "      <td>22.0</td>\n",
       "    </tr>\n",
       "    <tr>\n",
       "      <th>13</th>\n",
       "      <td>13</td>\n",
       "      <td>Subhash</td>\n",
       "      <td>BE</td>\n",
       "      <td>88.45</td>\n",
       "      <td>21.0</td>\n",
       "    </tr>\n",
       "    <tr>\n",
       "      <th>14</th>\n",
       "      <td>14</td>\n",
       "      <td>Sachin</td>\n",
       "      <td>NaN</td>\n",
       "      <td>59.33</td>\n",
       "      <td>21.0</td>\n",
       "    </tr>\n",
       "    <tr>\n",
       "      <th>15</th>\n",
       "      <td>15</td>\n",
       "      <td>Shalini</td>\n",
       "      <td>TE</td>\n",
       "      <td>63.45</td>\n",
       "      <td>20.0</td>\n",
       "    </tr>\n",
       "  </tbody>\n",
       "</table>\n",
       "</div>"
      ],
      "text/plain": [
       "    roll     name class  marks   age\n",
       "0      1     Anil    TE  56.77  22.0\n",
       "1      2     Amit    TE  59.77  21.0\n",
       "2      3   Aniket    BE  76.88  19.0\n",
       "3      4  Ajinkya    TE  69.66  20.0\n",
       "4      5     Asha    TE  63.28   NaN\n",
       "5      6   Ayesha    BE    NaN  20.0\n",
       "6      7     Amar    BE  65.34  19.0\n",
       "7      8    Amita    BE  68.33  23.0\n",
       "8      9     Amol    TE  56.75  20.0\n",
       "10    10    Anmol    BE  78.66   NaN\n",
       "11    11   Surbhi    TE    NaN  23.0\n",
       "12    12    Sujay    TE  74.12  22.0\n",
       "13    13  Subhash    BE  88.45  21.0\n",
       "14    14   Sachin   NaN  59.33  21.0\n",
       "15    15  Shalini    TE  63.45  20.0"
      ]
     },
     "execution_count": 26,
     "metadata": {},
     "output_type": "execute_result"
    }
   ],
   "source": [
    "df.drop_duplicates(inplace = True)\n",
    "df"
   ]
  },
  {
   "cell_type": "code",
   "execution_count": 27,
   "id": "500f5f1e-cef9-4b65-84b1-ffa76ae54b32",
   "metadata": {},
   "outputs": [],
   "source": [
    "#null values"
   ]
  },
  {
   "cell_type": "code",
   "execution_count": 30,
   "id": "af289128-d777-40f2-96df-cb85f3628cd5",
   "metadata": {},
   "outputs": [
    {
     "data": {
      "text/plain": [
       "5"
      ]
     },
     "execution_count": 30,
     "metadata": {},
     "output_type": "execute_result"
    }
   ],
   "source": [
    "df.isnull().sum().sum()"
   ]
  },
  {
   "cell_type": "code",
   "execution_count": 34,
   "id": "93c74e1a-95f5-41a5-82ec-b166543dc600",
   "metadata": {},
   "outputs": [
    {
     "data": {
      "text/html": [
       "<div>\n",
       "<style scoped>\n",
       "    .dataframe tbody tr th:only-of-type {\n",
       "        vertical-align: middle;\n",
       "    }\n",
       "\n",
       "    .dataframe tbody tr th {\n",
       "        vertical-align: top;\n",
       "    }\n",
       "\n",
       "    .dataframe thead th {\n",
       "        text-align: right;\n",
       "    }\n",
       "</style>\n",
       "<table border=\"1\" class=\"dataframe\">\n",
       "  <thead>\n",
       "    <tr style=\"text-align: right;\">\n",
       "      <th></th>\n",
       "      <th>roll</th>\n",
       "      <th>name</th>\n",
       "      <th>class</th>\n",
       "      <th>marks</th>\n",
       "      <th>age</th>\n",
       "    </tr>\n",
       "  </thead>\n",
       "  <tbody>\n",
       "    <tr>\n",
       "      <th>0</th>\n",
       "      <td>1</td>\n",
       "      <td>Anil</td>\n",
       "      <td>TE</td>\n",
       "      <td>56.77</td>\n",
       "      <td>22.0</td>\n",
       "    </tr>\n",
       "    <tr>\n",
       "      <th>1</th>\n",
       "      <td>2</td>\n",
       "      <td>Amit</td>\n",
       "      <td>TE</td>\n",
       "      <td>59.77</td>\n",
       "      <td>21.0</td>\n",
       "    </tr>\n",
       "    <tr>\n",
       "      <th>2</th>\n",
       "      <td>3</td>\n",
       "      <td>Aniket</td>\n",
       "      <td>BE</td>\n",
       "      <td>76.88</td>\n",
       "      <td>19.0</td>\n",
       "    </tr>\n",
       "    <tr>\n",
       "      <th>3</th>\n",
       "      <td>4</td>\n",
       "      <td>Ajinkya</td>\n",
       "      <td>TE</td>\n",
       "      <td>69.66</td>\n",
       "      <td>20.0</td>\n",
       "    </tr>\n",
       "    <tr>\n",
       "      <th>6</th>\n",
       "      <td>7</td>\n",
       "      <td>Amar</td>\n",
       "      <td>BE</td>\n",
       "      <td>65.34</td>\n",
       "      <td>19.0</td>\n",
       "    </tr>\n",
       "    <tr>\n",
       "      <th>7</th>\n",
       "      <td>8</td>\n",
       "      <td>Amita</td>\n",
       "      <td>BE</td>\n",
       "      <td>68.33</td>\n",
       "      <td>23.0</td>\n",
       "    </tr>\n",
       "    <tr>\n",
       "      <th>8</th>\n",
       "      <td>9</td>\n",
       "      <td>Amol</td>\n",
       "      <td>TE</td>\n",
       "      <td>56.75</td>\n",
       "      <td>20.0</td>\n",
       "    </tr>\n",
       "    <tr>\n",
       "      <th>12</th>\n",
       "      <td>12</td>\n",
       "      <td>Sujay</td>\n",
       "      <td>TE</td>\n",
       "      <td>74.12</td>\n",
       "      <td>22.0</td>\n",
       "    </tr>\n",
       "    <tr>\n",
       "      <th>13</th>\n",
       "      <td>13</td>\n",
       "      <td>Subhash</td>\n",
       "      <td>BE</td>\n",
       "      <td>88.45</td>\n",
       "      <td>21.0</td>\n",
       "    </tr>\n",
       "    <tr>\n",
       "      <th>15</th>\n",
       "      <td>15</td>\n",
       "      <td>Shalini</td>\n",
       "      <td>TE</td>\n",
       "      <td>63.45</td>\n",
       "      <td>20.0</td>\n",
       "    </tr>\n",
       "  </tbody>\n",
       "</table>\n",
       "</div>"
      ],
      "text/plain": [
       "    roll     name class  marks   age\n",
       "0      1     Anil    TE  56.77  22.0\n",
       "1      2     Amit    TE  59.77  21.0\n",
       "2      3   Aniket    BE  76.88  19.0\n",
       "3      4  Ajinkya    TE  69.66  20.0\n",
       "6      7     Amar    BE  65.34  19.0\n",
       "7      8    Amita    BE  68.33  23.0\n",
       "8      9     Amol    TE  56.75  20.0\n",
       "12    12    Sujay    TE  74.12  22.0\n",
       "13    13  Subhash    BE  88.45  21.0\n",
       "15    15  Shalini    TE  63.45  20.0"
      ]
     },
     "execution_count": 34,
     "metadata": {},
     "output_type": "execute_result"
    }
   ],
   "source": [
    "df.dropna(inplace = True)\n",
    "df"
   ]
  },
  {
   "cell_type": "code",
   "execution_count": 35,
   "id": "71869a7a-e83c-45fc-9126-3b5d40684bf0",
   "metadata": {},
   "outputs": [],
   "source": [
    "#fill\n"
   ]
  },
  {
   "cell_type": "code",
   "execution_count": 38,
   "id": "1562e993-7ced-47f9-80fe-90dfbcc9365a",
   "metadata": {},
   "outputs": [
    {
     "data": {
      "text/plain": [
       "0    TE\n",
       "Name: class, dtype: object"
      ]
     },
     "execution_count": 38,
     "metadata": {},
     "output_type": "execute_result"
    }
   ],
   "source": [
    "#fill class column using the mode\n",
    "df['class'].mode()"
   ]
  },
  {
   "cell_type": "code",
   "execution_count": 40,
   "id": "41ce7925-d342-4ee7-a3b4-4b89f667506d",
   "metadata": {},
   "outputs": [
    {
     "data": {
      "text/plain": [
       "0     TE\n",
       "1     TE\n",
       "2     BE\n",
       "3     TE\n",
       "6     BE\n",
       "7     BE\n",
       "8     TE\n",
       "12    TE\n",
       "13    BE\n",
       "15    TE\n",
       "Name: class, dtype: object"
      ]
     },
     "execution_count": 40,
     "metadata": {},
     "output_type": "execute_result"
    }
   ],
   "source": [
    "df['class'].fillna(df['class'].mode()[0])"
   ]
  },
  {
   "cell_type": "code",
   "execution_count": 42,
   "id": "1b66b33d-eb62-481e-9dd1-705f4a51b572",
   "metadata": {},
   "outputs": [],
   "source": [
    "df.ffill(inplace = True)"
   ]
  },
  {
   "cell_type": "code",
   "execution_count": 43,
   "id": "47c8c272-bbee-4111-8401-2c38364a64f0",
   "metadata": {},
   "outputs": [
    {
     "data": {
      "text/plain": [
       "roll     0\n",
       "name     0\n",
       "class    0\n",
       "marks    0\n",
       "age      0\n",
       "dtype: int64"
      ]
     },
     "execution_count": 43,
     "metadata": {},
     "output_type": "execute_result"
    }
   ],
   "source": [
    "df.isnull().sum()"
   ]
  },
  {
   "cell_type": "code",
   "execution_count": null,
   "id": "605815c4-79ad-45f4-abf4-0c442ceb4738",
   "metadata": {},
   "outputs": [],
   "source": []
  }
 ],
 "metadata": {
  "kernelspec": {
   "display_name": "Python [conda env:base] *",
   "language": "python",
   "name": "conda-base-py"
  },
  "language_info": {
   "codemirror_mode": {
    "name": "ipython",
    "version": 3
   },
   "file_extension": ".py",
   "mimetype": "text/x-python",
   "name": "python",
   "nbconvert_exporter": "python",
   "pygments_lexer": "ipython3",
   "version": "3.12.7"
  }
 },
 "nbformat": 4,
 "nbformat_minor": 5
}
