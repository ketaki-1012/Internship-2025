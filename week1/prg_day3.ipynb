{
 "cells": [
  {
   "cell_type": "code",
   "execution_count": 1,
   "id": "eeb4d8c0-afd8-480e-8d16-da1ff5316742",
   "metadata": {},
   "outputs": [
    {
     "name": "stdin",
     "output_type": "stream",
     "text": [
      "Enter the number:  32\n"
     ]
    },
    {
     "name": "stdout",
     "output_type": "stream",
     "text": [
      "Positive\n"
     ]
    }
   ],
   "source": [
    "num = int(input(\"Enter the number: \"))\n",
    "\n",
    "if num > 0:\n",
    "    print(\"Positive\")\n",
    "else:\n",
    "    print(\"negative\")"
   ]
  },
  {
   "cell_type": "code",
   "execution_count": 6,
   "id": "32ceff2a-c4f9-434b-8f04-09bb3c13d92c",
   "metadata": {},
   "outputs": [
    {
     "name": "stdin",
     "output_type": "stream",
     "text": [
      "Enter the number:  0\n"
     ]
    },
    {
     "name": "stdout",
     "output_type": "stream",
     "text": [
      "Zero\n"
     ]
    }
   ],
   "source": [
    "num = int(input(\"Enter the number: \"))\n",
    "\n",
    "if num > 0:\n",
    "    print(\"Positive\")\n",
    "elif num == 0:\n",
    "    print(\"Zero\")\n",
    "else:\n",
    "    print(\"negative\")"
   ]
  },
  {
   "cell_type": "code",
   "execution_count": 7,
   "id": "2117dc5d-d42e-44bb-9ee5-019a3f43c97f",
   "metadata": {},
   "outputs": [],
   "source": [
    "#check if the number is even or odd"
   ]
  },
  {
   "cell_type": "code",
   "execution_count": 12,
   "id": "e5e15277-5507-49d0-9358-c6e27bdaebb7",
   "metadata": {},
   "outputs": [
    {
     "name": "stdin",
     "output_type": "stream",
     "text": [
      "Enter the number : 10\n"
     ]
    },
    {
     "name": "stdout",
     "output_type": "stream",
     "text": [
      "Even\n"
     ]
    }
   ],
   "source": [
    "num = int(input(\"Enter the number :\"))\n",
    "if num % 2 == 0:\n",
    "    print(\"Even\")\n",
    "else:\n",
    "    print(\"odd\")"
   ]
  },
  {
   "cell_type": "code",
   "execution_count": 13,
   "id": "1fa87c4d-9aca-474b-860a-6617f61e29f3",
   "metadata": {},
   "outputs": [],
   "source": [
    "#using nestedd if check if the number is between 50 and 100\n"
   ]
  },
  {
   "cell_type": "code",
   "execution_count": 18,
   "id": "7904d373-d122-4150-bbcc-3989bb04fce2",
   "metadata": {},
   "outputs": [
    {
     "name": "stdin",
     "output_type": "stream",
     "text": [
      "Enter the number : 66\n"
     ]
    },
    {
     "name": "stdout",
     "output_type": "stream",
     "text": [
      "Correct\n"
     ]
    }
   ],
   "source": [
    "num = int(input(\"Enter the number :\"))\n",
    "if num > 50:\n",
    "    if num < 100:\n",
    "        print(\"Correct\")\n",
    "    else:\n",
    "        print(\"Greater than 50 but not less than 100\")\n",
    "else:\n",
    "    print(\"Less than 50\")\n"
   ]
  },
  {
   "cell_type": "code",
   "execution_count": 22,
   "id": "3fc68b21-f5c5-4f38-9733-d9d907c73a12",
   "metadata": {},
   "outputs": [
    {
     "name": "stdin",
     "output_type": "stream",
     "text": [
      "Enter the purchase cost: 1000\n",
      "Enter the selling cost : 1780\n"
     ]
    },
    {
     "name": "stdout",
     "output_type": "stream",
     "text": [
      "profit of  780\n"
     ]
    }
   ],
   "source": [
    "purchase = int(input(\"Enter the purchase cost:\"))\n",
    "selling = int(input(\"Enter the selling cost :\"))\n",
    "\n",
    "if purchase > selling:\n",
    "    loss = purchase - selling\n",
    "    print(\"Loss of \",loss)\n",
    "elif selling > purchase:\n",
    "    profit = selling - purchase\n",
    "    print(\"profit of \",profit)\n",
    "else:\n",
    "    print(\"No profit, no loss\")"
   ]
  },
  {
   "cell_type": "code",
   "execution_count": 28,
   "id": "d98629b9-f047-4d41-9a5a-05cd4a7703b1",
   "metadata": {},
   "outputs": [
    {
     "name": "stdin",
     "output_type": "stream",
     "text": [
      "Enter number 1:  23\n",
      "Enter number 2:  555\n",
      "Enter number 3:  55\n"
     ]
    },
    {
     "name": "stdout",
     "output_type": "stream",
     "text": [
      "num2 is greatest: 555\n"
     ]
    }
   ],
   "source": [
    "num1 = int(input(\"Enter number 1: \"))\n",
    "num2 = int(input(\"Enter number 2: \"))\n",
    "num3 = int(input(\"Enter number 3: \"))\n",
    "\n",
    "if num1 > num2:\n",
    "    if num1 > num3:\n",
    "        print(\"num1 is greatest:\", num1)\n",
    "    else:\n",
    "        print(\"num3 is greatest:\", num3)\n",
    "else:\n",
    "    if num2 > num3:\n",
    "        print(\"num2 is greatest:\", num2)\n",
    "    else:\n",
    "        print(\"num3 is greatest:\", num3)\n"
   ]
  },
  {
   "cell_type": "code",
   "execution_count": 43,
   "id": "fe77d554-181d-4fd8-8ab7-bd4cfa26f080",
   "metadata": {},
   "outputs": [
    {
     "name": "stdin",
     "output_type": "stream",
     "text": [
      "Enter year to check if it is leap year or not:  2016\n"
     ]
    },
    {
     "name": "stdout",
     "output_type": "stream",
     "text": [
      "Leap year\n"
     ]
    }
   ],
   "source": [
    "year = int(input(\"Enter year to check if it is leap year or not: \"))\n",
    "\n",
    "if year % 4 == 0:\n",
    "    if year % 100 == 0:\n",
    "        if year % 400 == 0:\n",
    "            print(\"Leap year\")\n",
    "        else:\n",
    "            print(\"Not a leap year\")\n",
    "    else:\n",
    "        print(\"Leap year\")\n",
    "else:\n",
    "    print(\"Not a leap year\")\n"
   ]
  },
  {
   "cell_type": "code",
   "execution_count": 54,
   "id": "39d5105d-ffe4-44cd-abe8-7d4eb9ec5cfa",
   "metadata": {},
   "outputs": [
    {
     "name": "stdin",
     "output_type": "stream",
     "text": [
      "Enter physics :  78\n",
      "Enter chemistry:  88\n",
      "Enter maths :  89\n"
     ]
    },
    {
     "name": "stdout",
     "output_type": "stream",
     "text": [
      "Result 255\n",
      "Average 85.0\n",
      "distinction\n"
     ]
    }
   ],
   "source": [
    "phy = int(input(\"Enter physics : \"))\n",
    "chem = int(input(\"Enter chemistry: \"))\n",
    "maths = int(input(\"Enter maths : \"))\n",
    "res=phy + chem + maths\n",
    "print(\"Result\",res)\n",
    "avg = res / 3\n",
    "print(\"Average\",avg)\n",
    "\n",
    "if avg >= 80:\n",
    "  print(\"distinction\")\n",
    "elif 70 < avg < 80:\n",
    "    print(\"a grade\")\n",
    "elif 60 < avg < 70 :\n",
    "    print(\"B grage\")\n",
    "elif 50 < avg < 60:\n",
    "    print(\"C grade\")\n",
    "else:\n",
    "    print(\"Fail\")"
   ]
  },
  {
   "cell_type": "code",
   "execution_count": 58,
   "id": "56fae064-4e36-45bc-98eb-4e1f8762c176",
   "metadata": {},
   "outputs": [
    {
     "name": "stdout",
     "output_type": "stream",
     "text": [
      "Welcome!!!!!!!!!!!\n"
     ]
    },
    {
     "name": "stdin",
     "output_type": "stream",
     "text": [
      "Enter the number : 44\n"
     ]
    },
    {
     "name": "stdout",
     "output_type": "stream",
     "text": [
      "MENU=>\n",
      "1. Square\n",
      " 2.Cube \n",
      " 3.pos or neg\n"
     ]
    },
    {
     "name": "stdin",
     "output_type": "stream",
     "text": [
      "please enter your choice : 2\n"
     ]
    },
    {
     "name": "stdout",
     "output_type": "stream",
     "text": [
      "Cube is  85184\n"
     ]
    }
   ],
   "source": [
    "print(\"Welcome!!!!!!!!!!!\")\n",
    "\n",
    "num = int(input(\"Enter the number :\"))\n",
    "\n",
    "print(\"MENU=>\\n1. Square\\n 2.Cube \\n 3.pos or neg\")\n",
    "\n",
    "ch = int(input(\"please enter your choice :\"))\n",
    "if ch == 1:\n",
    "    print(\"Square is \",num ** 2)\n",
    "elif ch == 2:\n",
    "    print(\"Cube is \",num ** 3)\n",
    "elif ch == 3:\n",
    "    if num > 0:\n",
    "        print(\"Number is positive!\")\n",
    "    else:\n",
    "        print(\"Number is negative\")\n",
    "\n",
    "else:\n",
    "    print(\"PLEASE ENTER THE NEAREST NUMBER!!!!!!!!!!!!!!!!!!!!!!\")"
   ]
  },
  {
   "cell_type": "code",
   "execution_count": 59,
   "id": "f724f64b-c257-49e5-9bc9-1eff52c1c9eb",
   "metadata": {},
   "outputs": [
    {
     "name": "stdin",
     "output_type": "stream",
     "text": [
      "Enter the number 1 : 23\n",
      "Enter the number 2 : 45\n"
     ]
    },
    {
     "name": "stdout",
     "output_type": "stream",
     "text": [
      "Number 2 is maximum\n"
     ]
    }
   ],
   "source": [
    "num1 = int(input(\"Enter the number 1 :\"))\n",
    "num2 = int(input(\"Enter the number 2 :\"))\n",
    "\n",
    "if num1 > num2:\n",
    "    print(\"Number 1 is the maximum\")\n",
    "else:\n",
    "    print(\"Number 2 is maximum\")"
   ]
  },
  {
   "cell_type": "code",
   "execution_count": 63,
   "id": "0797387e-549e-4700-ac90-04e0df2dad8f",
   "metadata": {},
   "outputs": [
    {
     "name": "stdin",
     "output_type": "stream",
     "text": [
      "Enter the number : 33\n"
     ]
    },
    {
     "name": "stdout",
     "output_type": "stream",
     "text": [
      "Number is not divisible by 5 and 11\n"
     ]
    }
   ],
   "source": [
    "num = int(input(\"Enter the number :\"))\n",
    "\n",
    "if num % 5 and num % 11:\n",
    "    print(\"Entered number is divisible by 5 and 11\")\n",
    "else:\n",
    "    print(\"Number is not divisible by 5 and 11\")"
   ]
  },
  {
   "cell_type": "code",
   "execution_count": null,
   "id": "1bab5aed-03ea-4be0-b20f-7742783e2287",
   "metadata": {},
   "outputs": [],
   "source": [
    "num = int(input(\"Enter the number :\"))\n"
   ]
  },
  {
   "cell_type": "code",
   "execution_count": null,
   "id": "532cb246-5d22-41a3-89fd-a3173da0f03d",
   "metadata": {},
   "outputs": [],
   "source": []
  }
 ],
 "metadata": {
  "kernelspec": {
   "display_name": "Python [conda env:base] *",
   "language": "python",
   "name": "conda-base-py"
  },
  "language_info": {
   "codemirror_mode": {
    "name": "ipython",
    "version": 3
   },
   "file_extension": ".py",
   "mimetype": "text/x-python",
   "name": "python",
   "nbconvert_exporter": "python",
   "pygments_lexer": "ipython3",
   "version": "3.12.7"
  }
 },
 "nbformat": 4,
 "nbformat_minor": 5
}
